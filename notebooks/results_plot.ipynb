{
 "cells": [
  {
   "cell_type": "code",
   "execution_count": 1,
   "id": "1ae2914d",
   "metadata": {},
   "outputs": [],
   "source": [
    "import pandas as pd\n",
    "import matplotlib.pyplot as plt\n",
    "import plotly.express as px\n",
    "import plotly.io as pio"
   ]
  },
  {
   "cell_type": "code",
   "execution_count": 2,
   "id": "12304e70",
   "metadata": {},
   "outputs": [
    {
     "name": "stdout",
     "output_type": "stream",
     "text": [
      "Custom Plotly color palette + Palatino font + centered titles applied.\n"
     ]
    }
   ],
   "source": [
    "def darken_color(color, factor=0.7):\n",
    "    # Returns darkened hex color\n",
    "    color = color.lstrip('#')\n",
    "    rgb = tuple(int(color[i:i+2], 16) for i in (0, 2, 4))\n",
    "    darkened_rgb = tuple(max(0, int(c * factor)) for c in rgb)\n",
    "    return '#{:02x}{:02x}{:02x}'.format(*darkened_rgb)\n",
    "\n",
    "# Palette colors\n",
    "TEXT_COLOR = '#3A3A3A'\n",
    "DARK_BG = '#264653'\n",
    "LIGHT_BG = '#f5f4ec'\n",
    "ACCENT1 = '#f6bb37'\n",
    "ACCENT2 = '#36b7d2'\n",
    "ACCENT3 = '#e76f51'\n",
    "# Set custom Plotly color palette (discrete & continuous)\n",
    "CUSTOM_PALETTE = ['#36b7d2', '#e76f51', '#f6bb37', '#264653', '#f3b3b4']\n",
    "DISCRETE_COLORS = CUSTOM_PALETTE + ['#2a9d8f', \"#8455cb\", '#f4a261', '#e76f51', '#264653']\n",
    "px.defaults.color_discrete_sequence = DISCRETE_COLORS\n",
    "# Continuous colorscale derived from the discrete palette\n",
    "CUSTOM_CONTINUOUS = [(i/(len(CUSTOM_PALETTE)-1), c) for i, c in enumerate(CUSTOM_PALETTE)]\n",
    "px.defaults.color_continuous_scale = [c for _, c in CUSTOM_CONTINUOUS]\n",
    "\n",
    "# Define a reusable font stack (Palatino and fallbacks)\n",
    "PALATINO_FONT = \"Palatino, 'Palatino Linotype', 'Book Antiqua', serif\"\n",
    "\n",
    "# Register / extend template\n",
    "base_template = pio.templates[\"plotly_white\"]\n",
    "pio.templates[\"skin_custom\"] = base_template\n",
    "# Apply our customizations\n",
    "pio.templates[\"skin_custom\"].layout.colorway = DISCRETE_COLORS\n",
    "pio.templates[\"skin_custom\"].layout.font.family = PALATINO_FONT\n",
    "pio.templates[\"skin_custom\"].layout.title = dict(x=0.5, xanchor='center')\n",
    "# Slightly cleaner background/grid tweaks\n",
    "transparent = 'rgba(0,0,0,0)'\n",
    "pio.templates[\"skin_custom\"].layout.paper_bgcolor = transparent\n",
    "pio.templates[\"skin_custom\"].layout.plot_bgcolor = 'white' \n",
    "# Set font color\n",
    "pio.templates[\"skin_custom\"].layout.font.color = TEXT_COLOR\n",
    "\n",
    "pio.templates.default = \"skin_custom\"\n",
    "\n",
    "print(\"Custom Plotly color palette + Palatino font + centered titles applied.\")"
   ]
  },
  {
   "cell_type": "markdown",
   "id": "8a9ef80f",
   "metadata": {},
   "source": [
    "## BYOL pretraining results"
   ]
  },
  {
   "cell_type": "code",
   "execution_count": 12,
   "id": "cc9868e9",
   "metadata": {},
   "outputs": [
    {
     "data": {
      "application/vnd.plotly.v1+json": {
       "config": {
        "plotlyServerURL": "https://plot.ly"
       },
       "data": [
        {
         "hovertemplate": "Training Step=%{x}<br>Loss=%{y}<extra></extra>",
         "legendgroup": "",
         "line": {
          "color": "#264653",
          "dash": "solid"
         },
         "marker": {
          "symbol": "circle"
         },
         "mode": "lines",
         "name": "",
         "orientation": "v",
         "showlegend": false,
         "type": "scatter",
         "x": {
          "bdata": "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",
          "dtype": "i4"
         },
         "xaxis": "x",
         "y": {
          "bdata": "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",
          "dtype": "f8"
         },
         "yaxis": "y"
        }
       ],
       "layout": {
        "height": 500,
        "legend": {
         "tracegroupgap": 0
        },
        "template": {
         "data": {
          "bar": [
           {
            "error_x": {
             "color": "#2a3f5f"
            },
            "error_y": {
             "color": "#2a3f5f"
            },
            "marker": {
             "line": {
              "color": "white",
              "width": 0.5
             },
             "pattern": {
              "fillmode": "overlay",
              "size": 10,
              "solidity": 0.2
             }
            },
            "type": "bar"
           }
          ],
          "barpolar": [
           {
            "marker": {
             "line": {
              "color": "white",
              "width": 0.5
             },
             "pattern": {
              "fillmode": "overlay",
              "size": 10,
              "solidity": 0.2
             }
            },
            "type": "barpolar"
           }
          ],
          "carpet": [
           {
            "aaxis": {
             "endlinecolor": "#2a3f5f",
             "gridcolor": "#C8D4E3",
             "linecolor": "#C8D4E3",
             "minorgridcolor": "#C8D4E3",
             "startlinecolor": "#2a3f5f"
            },
            "baxis": {
             "endlinecolor": "#2a3f5f",
             "gridcolor": "#C8D4E3",
             "linecolor": "#C8D4E3",
             "minorgridcolor": "#C8D4E3",
             "startlinecolor": "#2a3f5f"
            },
            "type": "carpet"
           }
          ],
          "choropleth": [
           {
            "colorbar": {
             "outlinewidth": 0,
             "ticks": ""
            },
            "type": "choropleth"
           }
          ],
          "contour": [
           {
            "colorbar": {
             "outlinewidth": 0,
             "ticks": ""
            },
            "colorscale": [
             [
              0,
              "#0d0887"
             ],
             [
              0.1111111111111111,
              "#46039f"
             ],
             [
              0.2222222222222222,
              "#7201a8"
             ],
             [
              0.3333333333333333,
              "#9c179e"
             ],
             [
              0.4444444444444444,
              "#bd3786"
             ],
             [
              0.5555555555555556,
              "#d8576b"
             ],
             [
              0.6666666666666666,
              "#ed7953"
             ],
             [
              0.7777777777777778,
              "#fb9f3a"
             ],
             [
              0.8888888888888888,
              "#fdca26"
             ],
             [
              1,
              "#f0f921"
             ]
            ],
            "type": "contour"
           }
          ],
          "contourcarpet": [
           {
            "colorbar": {
             "outlinewidth": 0,
             "ticks": ""
            },
            "type": "contourcarpet"
           }
          ],
          "heatmap": [
           {
            "colorbar": {
             "outlinewidth": 0,
             "ticks": ""
            },
            "colorscale": [
             [
              0,
              "#0d0887"
             ],
             [
              0.1111111111111111,
              "#46039f"
             ],
             [
              0.2222222222222222,
              "#7201a8"
             ],
             [
              0.3333333333333333,
              "#9c179e"
             ],
             [
              0.4444444444444444,
              "#bd3786"
             ],
             [
              0.5555555555555556,
              "#d8576b"
             ],
             [
              0.6666666666666666,
              "#ed7953"
             ],
             [
              0.7777777777777778,
              "#fb9f3a"
             ],
             [
              0.8888888888888888,
              "#fdca26"
             ],
             [
              1,
              "#f0f921"
             ]
            ],
            "type": "heatmap"
           }
          ],
          "histogram": [
           {
            "marker": {
             "pattern": {
              "fillmode": "overlay",
              "size": 10,
              "solidity": 0.2
             }
            },
            "type": "histogram"
           }
          ],
          "histogram2d": [
           {
            "colorbar": {
             "outlinewidth": 0,
             "ticks": ""
            },
            "colorscale": [
             [
              0,
              "#0d0887"
             ],
             [
              0.1111111111111111,
              "#46039f"
             ],
             [
              0.2222222222222222,
              "#7201a8"
             ],
             [
              0.3333333333333333,
              "#9c179e"
             ],
             [
              0.4444444444444444,
              "#bd3786"
             ],
             [
              0.5555555555555556,
              "#d8576b"
             ],
             [
              0.6666666666666666,
              "#ed7953"
             ],
             [
              0.7777777777777778,
              "#fb9f3a"
             ],
             [
              0.8888888888888888,
              "#fdca26"
             ],
             [
              1,
              "#f0f921"
             ]
            ],
            "type": "histogram2d"
           }
          ],
          "histogram2dcontour": [
           {
            "colorbar": {
             "outlinewidth": 0,
             "ticks": ""
            },
            "colorscale": [
             [
              0,
              "#0d0887"
             ],
             [
              0.1111111111111111,
              "#46039f"
             ],
             [
              0.2222222222222222,
              "#7201a8"
             ],
             [
              0.3333333333333333,
              "#9c179e"
             ],
             [
              0.4444444444444444,
              "#bd3786"
             ],
             [
              0.5555555555555556,
              "#d8576b"
             ],
             [
              0.6666666666666666,
              "#ed7953"
             ],
             [
              0.7777777777777778,
              "#fb9f3a"
             ],
             [
              0.8888888888888888,
              "#fdca26"
             ],
             [
              1,
              "#f0f921"
             ]
            ],
            "type": "histogram2dcontour"
           }
          ],
          "mesh3d": [
           {
            "colorbar": {
             "outlinewidth": 0,
             "ticks": ""
            },
            "type": "mesh3d"
           }
          ],
          "parcoords": [
           {
            "line": {
             "colorbar": {
              "outlinewidth": 0,
              "ticks": ""
             }
            },
            "type": "parcoords"
           }
          ],
          "pie": [
           {
            "automargin": true,
            "type": "pie"
           }
          ],
          "scatter": [
           {
            "fillpattern": {
             "fillmode": "overlay",
             "size": 10,
             "solidity": 0.2
            },
            "type": "scatter"
           }
          ],
          "scatter3d": [
           {
            "line": {
             "colorbar": {
              "outlinewidth": 0,
              "ticks": ""
             }
            },
            "marker": {
             "colorbar": {
              "outlinewidth": 0,
              "ticks": ""
             }
            },
            "type": "scatter3d"
           }
          ],
          "scattercarpet": [
           {
            "marker": {
             "colorbar": {
              "outlinewidth": 0,
              "ticks": ""
             }
            },
            "type": "scattercarpet"
           }
          ],
          "scattergeo": [
           {
            "marker": {
             "colorbar": {
              "outlinewidth": 0,
              "ticks": ""
             }
            },
            "type": "scattergeo"
           }
          ],
          "scattergl": [
           {
            "marker": {
             "colorbar": {
              "outlinewidth": 0,
              "ticks": ""
             }
            },
            "type": "scattergl"
           }
          ],
          "scattermap": [
           {
            "marker": {
             "colorbar": {
              "outlinewidth": 0,
              "ticks": ""
             }
            },
            "type": "scattermap"
           }
          ],
          "scattermapbox": [
           {
            "marker": {
             "colorbar": {
              "outlinewidth": 0,
              "ticks": ""
             }
            },
            "type": "scattermapbox"
           }
          ],
          "scatterpolar": [
           {
            "marker": {
             "colorbar": {
              "outlinewidth": 0,
              "ticks": ""
             }
            },
            "type": "scatterpolar"
           }
          ],
          "scatterpolargl": [
           {
            "marker": {
             "colorbar": {
              "outlinewidth": 0,
              "ticks": ""
             }
            },
            "type": "scatterpolargl"
           }
          ],
          "scatterternary": [
           {
            "marker": {
             "colorbar": {
              "outlinewidth": 0,
              "ticks": ""
             }
            },
            "type": "scatterternary"
           }
          ],
          "surface": [
           {
            "colorbar": {
             "outlinewidth": 0,
             "ticks": ""
            },
            "colorscale": [
             [
              0,
              "#0d0887"
             ],
             [
              0.1111111111111111,
              "#46039f"
             ],
             [
              0.2222222222222222,
              "#7201a8"
             ],
             [
              0.3333333333333333,
              "#9c179e"
             ],
             [
              0.4444444444444444,
              "#bd3786"
             ],
             [
              0.5555555555555556,
              "#d8576b"
             ],
             [
              0.6666666666666666,
              "#ed7953"
             ],
             [
              0.7777777777777778,
              "#fb9f3a"
             ],
             [
              0.8888888888888888,
              "#fdca26"
             ],
             [
              1,
              "#f0f921"
             ]
            ],
            "type": "surface"
           }
          ],
          "table": [
           {
            "cells": {
             "fill": {
              "color": "#EBF0F8"
             },
             "line": {
              "color": "white"
             }
            },
            "header": {
             "fill": {
              "color": "#C8D4E3"
             },
             "line": {
              "color": "white"
             }
            },
            "type": "table"
           }
          ]
         },
         "layout": {
          "annotationdefaults": {
           "arrowcolor": "#2a3f5f",
           "arrowhead": 0,
           "arrowwidth": 1
          },
          "autotypenumbers": "strict",
          "coloraxis": {
           "colorbar": {
            "outlinewidth": 0,
            "ticks": ""
           }
          },
          "colorscale": {
           "diverging": [
            [
             0,
             "#8e0152"
            ],
            [
             0.1,
             "#c51b7d"
            ],
            [
             0.2,
             "#de77ae"
            ],
            [
             0.3,
             "#f1b6da"
            ],
            [
             0.4,
             "#fde0ef"
            ],
            [
             0.5,
             "#f7f7f7"
            ],
            [
             0.6,
             "#e6f5d0"
            ],
            [
             0.7,
             "#b8e186"
            ],
            [
             0.8,
             "#7fbc41"
            ],
            [
             0.9,
             "#4d9221"
            ],
            [
             1,
             "#276419"
            ]
           ],
           "sequential": [
            [
             0,
             "#0d0887"
            ],
            [
             0.1111111111111111,
             "#46039f"
            ],
            [
             0.2222222222222222,
             "#7201a8"
            ],
            [
             0.3333333333333333,
             "#9c179e"
            ],
            [
             0.4444444444444444,
             "#bd3786"
            ],
            [
             0.5555555555555556,
             "#d8576b"
            ],
            [
             0.6666666666666666,
             "#ed7953"
            ],
            [
             0.7777777777777778,
             "#fb9f3a"
            ],
            [
             0.8888888888888888,
             "#fdca26"
            ],
            [
             1,
             "#f0f921"
            ]
           ],
           "sequentialminus": [
            [
             0,
             "#0d0887"
            ],
            [
             0.1111111111111111,
             "#46039f"
            ],
            [
             0.2222222222222222,
             "#7201a8"
            ],
            [
             0.3333333333333333,
             "#9c179e"
            ],
            [
             0.4444444444444444,
             "#bd3786"
            ],
            [
             0.5555555555555556,
             "#d8576b"
            ],
            [
             0.6666666666666666,
             "#ed7953"
            ],
            [
             0.7777777777777778,
             "#fb9f3a"
            ],
            [
             0.8888888888888888,
             "#fdca26"
            ],
            [
             1,
             "#f0f921"
            ]
           ]
          },
          "colorway": [
           "#36b7d2",
           "#e76f51",
           "#f6bb37",
           "#264653",
           "#f3b3b4",
           "#2a9d8f",
           "#8455cb",
           "#f4a261",
           "#e76f51",
           "#264653"
          ],
          "font": {
           "color": "#3A3A3A",
           "family": "Palatino, 'Palatino Linotype', 'Book Antiqua', serif"
          },
          "geo": {
           "bgcolor": "white",
           "lakecolor": "white",
           "landcolor": "white",
           "showlakes": true,
           "showland": true,
           "subunitcolor": "#C8D4E3"
          },
          "hoverlabel": {
           "align": "left"
          },
          "hovermode": "closest",
          "mapbox": {
           "style": "light"
          },
          "paper_bgcolor": "rgba(0,0,0,0)",
          "plot_bgcolor": "white",
          "polar": {
           "angularaxis": {
            "gridcolor": "#EBF0F8",
            "linecolor": "#EBF0F8",
            "ticks": ""
           },
           "bgcolor": "white",
           "radialaxis": {
            "gridcolor": "#EBF0F8",
            "linecolor": "#EBF0F8",
            "ticks": ""
           }
          },
          "scene": {
           "xaxis": {
            "backgroundcolor": "white",
            "gridcolor": "#DFE8F3",
            "gridwidth": 2,
            "linecolor": "#EBF0F8",
            "showbackground": true,
            "ticks": "",
            "zerolinecolor": "#EBF0F8"
           },
           "yaxis": {
            "backgroundcolor": "white",
            "gridcolor": "#DFE8F3",
            "gridwidth": 2,
            "linecolor": "#EBF0F8",
            "showbackground": true,
            "ticks": "",
            "zerolinecolor": "#EBF0F8"
           },
           "zaxis": {
            "backgroundcolor": "white",
            "gridcolor": "#DFE8F3",
            "gridwidth": 2,
            "linecolor": "#EBF0F8",
            "showbackground": true,
            "ticks": "",
            "zerolinecolor": "#EBF0F8"
           }
          },
          "shapedefaults": {
           "line": {
            "color": "#2a3f5f"
           }
          },
          "ternary": {
           "aaxis": {
            "gridcolor": "#DFE8F3",
            "linecolor": "#A2B1C6",
            "ticks": ""
           },
           "baxis": {
            "gridcolor": "#DFE8F3",
            "linecolor": "#A2B1C6",
            "ticks": ""
           },
           "bgcolor": "white",
           "caxis": {
            "gridcolor": "#DFE8F3",
            "linecolor": "#A2B1C6",
            "ticks": ""
           }
          },
          "title": {
           "x": 0.5,
           "xanchor": "center"
          },
          "xaxis": {
           "automargin": true,
           "gridcolor": "#EBF0F8",
           "linecolor": "#EBF0F8",
           "ticks": "",
           "title": {
            "standoff": 15
           },
           "zerolinecolor": "#EBF0F8",
           "zerolinewidth": 2
          },
          "yaxis": {
           "automargin": true,
           "gridcolor": "#EBF0F8",
           "linecolor": "#EBF0F8",
           "ticks": "",
           "title": {
            "standoff": 15
           },
           "zerolinecolor": "#EBF0F8",
           "zerolinewidth": 2
          }
         }
        },
        "title": {
         "text": "BYOL Pretraining Step Loss"
        },
        "width": 700,
        "xaxis": {
         "anchor": "y",
         "domain": [
          0,
          1
         ],
         "title": {
          "text": "Training Step"
         }
        },
        "yaxis": {
         "anchor": "x",
         "domain": [
          0,
          1
         ],
         "range": [
          0,
          2
         ],
         "title": {
          "text": "Loss"
         }
        }
       }
      }
     },
     "metadata": {},
     "output_type": "display_data"
    }
   ],
   "source": [
    "# Step loss\n",
    "step_loss = pd.read_csv(\"../outputs/results_data/BYOL_pretraining_debug_v0_step_loss.csv\")\n",
    "fig = px.line(\n",
    "    step_loss,\n",
    "    x='Step',\n",
    "    y='Value',\n",
    "    title='BYOL Pretraining Step Loss',\n",
    "    labels={'Step': 'Training Step', 'Value': 'Loss'},\n",
    "    color_discrete_sequence=[DARK_BG]\n",
    ")\n",
    "fig.update_layout(yaxis_range=[0, 2], width=700, height=500)\n",
    "fig.write_image(\"imgs/BYOL_pretraining_debug_v0_step_loss.png\", scale=2)\n",
    "fig.show()"
   ]
  },
  {
   "cell_type": "code",
   "execution_count": 22,
   "id": "6079353e",
   "metadata": {},
   "outputs": [
    {
     "data": {
      "application/vnd.plotly.v1+json": {
       "config": {
        "plotlyServerURL": "https://plot.ly"
       },
       "data": [
        {
         "hovertemplate": "Epoch=%{x}<br>Loss=%{y}<extra></extra>",
         "legendgroup": "",
         "line": {
          "color": "#264653",
          "dash": "solid"
         },
         "marker": {
          "symbol": "circle"
         },
         "mode": "lines",
         "name": "",
         "orientation": "v",
         "showlegend": false,
         "type": "scatter",
         "x": {
          "bdata": "YWPuQ4wH8D9HyUBPzggAQN1ginzWDQhAOvzpVG8JEEAFyI5r8wsUQNCTM4J3DhhAm1/YmPsQHECzlb7XvwkgQJn7EOMBCyJAfmFj7kMMJEBkx7X5hQ0mQEotCAXIDihAL5NaEAoQKkAV+awbTBEsQPpe/yaOEi5AcOIoGegJMEBjFdIeiQoxQFZIeyQqCzJASHskKssLM0A7rs0vbAw0QC7hdjUNDTVAIRQgO64NNkATR8lATw43QAZ6ckbwDjhA+awbTJEPOUDs38RRMhA6QN8SblfTEDtA0UUXXXQRPEDEeMBiFRI9QLeraWi2Ej5A",
          "dtype": "f8"
         },
         "xaxis": "x",
         "y": {
          "bdata": "AAAAYE786z8AAAAATxXkPwAAAMAZBek/AAAAYJG+4z8AAABAVRXiP////18+CNs/////n/2PzD////+/kTbcPwAAAGC5zeA/////39rY1z////8/OVrXP/////8mZtc/AAAAgBh81D8AAACgsvbQPwAAACAAhNI/AAAAADiQ0z////9/zLrQP/7//99uFc0//v//Px/Zyz8AAADAabzKP////7/O6Mo/////X/UJzT8AAAAACULRPwAAAKAXSNI/AAAAQBod0j////+/Sf7RP////59CENI/AAAAwL0E0j////9fegjSP////z+zCNI/",
          "dtype": "f8"
         },
         "yaxis": "y"
        }
       ],
       "layout": {
        "height": 500,
        "legend": {
         "tracegroupgap": 0
        },
        "template": {
         "data": {
          "bar": [
           {
            "error_x": {
             "color": "#2a3f5f"
            },
            "error_y": {
             "color": "#2a3f5f"
            },
            "marker": {
             "line": {
              "color": "white",
              "width": 0.5
             },
             "pattern": {
              "fillmode": "overlay",
              "size": 10,
              "solidity": 0.2
             }
            },
            "type": "bar"
           }
          ],
          "barpolar": [
           {
            "marker": {
             "line": {
              "color": "white",
              "width": 0.5
             },
             "pattern": {
              "fillmode": "overlay",
              "size": 10,
              "solidity": 0.2
             }
            },
            "type": "barpolar"
           }
          ],
          "carpet": [
           {
            "aaxis": {
             "endlinecolor": "#2a3f5f",
             "gridcolor": "#C8D4E3",
             "linecolor": "#C8D4E3",
             "minorgridcolor": "#C8D4E3",
             "startlinecolor": "#2a3f5f"
            },
            "baxis": {
             "endlinecolor": "#2a3f5f",
             "gridcolor": "#C8D4E3",
             "linecolor": "#C8D4E3",
             "minorgridcolor": "#C8D4E3",
             "startlinecolor": "#2a3f5f"
            },
            "type": "carpet"
           }
          ],
          "choropleth": [
           {
            "colorbar": {
             "outlinewidth": 0,
             "ticks": ""
            },
            "type": "choropleth"
           }
          ],
          "contour": [
           {
            "colorbar": {
             "outlinewidth": 0,
             "ticks": ""
            },
            "colorscale": [
             [
              0,
              "#0d0887"
             ],
             [
              0.1111111111111111,
              "#46039f"
             ],
             [
              0.2222222222222222,
              "#7201a8"
             ],
             [
              0.3333333333333333,
              "#9c179e"
             ],
             [
              0.4444444444444444,
              "#bd3786"
             ],
             [
              0.5555555555555556,
              "#d8576b"
             ],
             [
              0.6666666666666666,
              "#ed7953"
             ],
             [
              0.7777777777777778,
              "#fb9f3a"
             ],
             [
              0.8888888888888888,
              "#fdca26"
             ],
             [
              1,
              "#f0f921"
             ]
            ],
            "type": "contour"
           }
          ],
          "contourcarpet": [
           {
            "colorbar": {
             "outlinewidth": 0,
             "ticks": ""
            },
            "type": "contourcarpet"
           }
          ],
          "heatmap": [
           {
            "colorbar": {
             "outlinewidth": 0,
             "ticks": ""
            },
            "colorscale": [
             [
              0,
              "#0d0887"
             ],
             [
              0.1111111111111111,
              "#46039f"
             ],
             [
              0.2222222222222222,
              "#7201a8"
             ],
             [
              0.3333333333333333,
              "#9c179e"
             ],
             [
              0.4444444444444444,
              "#bd3786"
             ],
             [
              0.5555555555555556,
              "#d8576b"
             ],
             [
              0.6666666666666666,
              "#ed7953"
             ],
             [
              0.7777777777777778,
              "#fb9f3a"
             ],
             [
              0.8888888888888888,
              "#fdca26"
             ],
             [
              1,
              "#f0f921"
             ]
            ],
            "type": "heatmap"
           }
          ],
          "histogram": [
           {
            "marker": {
             "pattern": {
              "fillmode": "overlay",
              "size": 10,
              "solidity": 0.2
             }
            },
            "type": "histogram"
           }
          ],
          "histogram2d": [
           {
            "colorbar": {
             "outlinewidth": 0,
             "ticks": ""
            },
            "colorscale": [
             [
              0,
              "#0d0887"
             ],
             [
              0.1111111111111111,
              "#46039f"
             ],
             [
              0.2222222222222222,
              "#7201a8"
             ],
             [
              0.3333333333333333,
              "#9c179e"
             ],
             [
              0.4444444444444444,
              "#bd3786"
             ],
             [
              0.5555555555555556,
              "#d8576b"
             ],
             [
              0.6666666666666666,
              "#ed7953"
             ],
             [
              0.7777777777777778,
              "#fb9f3a"
             ],
             [
              0.8888888888888888,
              "#fdca26"
             ],
             [
              1,
              "#f0f921"
             ]
            ],
            "type": "histogram2d"
           }
          ],
          "histogram2dcontour": [
           {
            "colorbar": {
             "outlinewidth": 0,
             "ticks": ""
            },
            "colorscale": [
             [
              0,
              "#0d0887"
             ],
             [
              0.1111111111111111,
              "#46039f"
             ],
             [
              0.2222222222222222,
              "#7201a8"
             ],
             [
              0.3333333333333333,
              "#9c179e"
             ],
             [
              0.4444444444444444,
              "#bd3786"
             ],
             [
              0.5555555555555556,
              "#d8576b"
             ],
             [
              0.6666666666666666,
              "#ed7953"
             ],
             [
              0.7777777777777778,
              "#fb9f3a"
             ],
             [
              0.8888888888888888,
              "#fdca26"
             ],
             [
              1,
              "#f0f921"
             ]
            ],
            "type": "histogram2dcontour"
           }
          ],
          "mesh3d": [
           {
            "colorbar": {
             "outlinewidth": 0,
             "ticks": ""
            },
            "type": "mesh3d"
           }
          ],
          "parcoords": [
           {
            "line": {
             "colorbar": {
              "outlinewidth": 0,
              "ticks": ""
             }
            },
            "type": "parcoords"
           }
          ],
          "pie": [
           {
            "automargin": true,
            "type": "pie"
           }
          ],
          "scatter": [
           {
            "fillpattern": {
             "fillmode": "overlay",
             "size": 10,
             "solidity": 0.2
            },
            "type": "scatter"
           }
          ],
          "scatter3d": [
           {
            "line": {
             "colorbar": {
              "outlinewidth": 0,
              "ticks": ""
             }
            },
            "marker": {
             "colorbar": {
              "outlinewidth": 0,
              "ticks": ""
             }
            },
            "type": "scatter3d"
           }
          ],
          "scattercarpet": [
           {
            "marker": {
             "colorbar": {
              "outlinewidth": 0,
              "ticks": ""
             }
            },
            "type": "scattercarpet"
           }
          ],
          "scattergeo": [
           {
            "marker": {
             "colorbar": {
              "outlinewidth": 0,
              "ticks": ""
             }
            },
            "type": "scattergeo"
           }
          ],
          "scattergl": [
           {
            "marker": {
             "colorbar": {
              "outlinewidth": 0,
              "ticks": ""
             }
            },
            "type": "scattergl"
           }
          ],
          "scattermap": [
           {
            "marker": {
             "colorbar": {
              "outlinewidth": 0,
              "ticks": ""
             }
            },
            "type": "scattermap"
           }
          ],
          "scattermapbox": [
           {
            "marker": {
             "colorbar": {
              "outlinewidth": 0,
              "ticks": ""
             }
            },
            "type": "scattermapbox"
           }
          ],
          "scatterpolar": [
           {
            "marker": {
             "colorbar": {
              "outlinewidth": 0,
              "ticks": ""
             }
            },
            "type": "scatterpolar"
           }
          ],
          "scatterpolargl": [
           {
            "marker": {
             "colorbar": {
              "outlinewidth": 0,
              "ticks": ""
             }
            },
            "type": "scatterpolargl"
           }
          ],
          "scatterternary": [
           {
            "marker": {
             "colorbar": {
              "outlinewidth": 0,
              "ticks": ""
             }
            },
            "type": "scatterternary"
           }
          ],
          "surface": [
           {
            "colorbar": {
             "outlinewidth": 0,
             "ticks": ""
            },
            "colorscale": [
             [
              0,
              "#0d0887"
             ],
             [
              0.1111111111111111,
              "#46039f"
             ],
             [
              0.2222222222222222,
              "#7201a8"
             ],
             [
              0.3333333333333333,
              "#9c179e"
             ],
             [
              0.4444444444444444,
              "#bd3786"
             ],
             [
              0.5555555555555556,
              "#d8576b"
             ],
             [
              0.6666666666666666,
              "#ed7953"
             ],
             [
              0.7777777777777778,
              "#fb9f3a"
             ],
             [
              0.8888888888888888,
              "#fdca26"
             ],
             [
              1,
              "#f0f921"
             ]
            ],
            "type": "surface"
           }
          ],
          "table": [
           {
            "cells": {
             "fill": {
              "color": "#EBF0F8"
             },
             "line": {
              "color": "white"
             }
            },
            "header": {
             "fill": {
              "color": "#C8D4E3"
             },
             "line": {
              "color": "white"
             }
            },
            "type": "table"
           }
          ]
         },
         "layout": {
          "annotationdefaults": {
           "arrowcolor": "#2a3f5f",
           "arrowhead": 0,
           "arrowwidth": 1
          },
          "autotypenumbers": "strict",
          "coloraxis": {
           "colorbar": {
            "outlinewidth": 0,
            "ticks": ""
           }
          },
          "colorscale": {
           "diverging": [
            [
             0,
             "#8e0152"
            ],
            [
             0.1,
             "#c51b7d"
            ],
            [
             0.2,
             "#de77ae"
            ],
            [
             0.3,
             "#f1b6da"
            ],
            [
             0.4,
             "#fde0ef"
            ],
            [
             0.5,
             "#f7f7f7"
            ],
            [
             0.6,
             "#e6f5d0"
            ],
            [
             0.7,
             "#b8e186"
            ],
            [
             0.8,
             "#7fbc41"
            ],
            [
             0.9,
             "#4d9221"
            ],
            [
             1,
             "#276419"
            ]
           ],
           "sequential": [
            [
             0,
             "#0d0887"
            ],
            [
             0.1111111111111111,
             "#46039f"
            ],
            [
             0.2222222222222222,
             "#7201a8"
            ],
            [
             0.3333333333333333,
             "#9c179e"
            ],
            [
             0.4444444444444444,
             "#bd3786"
            ],
            [
             0.5555555555555556,
             "#d8576b"
            ],
            [
             0.6666666666666666,
             "#ed7953"
            ],
            [
             0.7777777777777778,
             "#fb9f3a"
            ],
            [
             0.8888888888888888,
             "#fdca26"
            ],
            [
             1,
             "#f0f921"
            ]
           ],
           "sequentialminus": [
            [
             0,
             "#0d0887"
            ],
            [
             0.1111111111111111,
             "#46039f"
            ],
            [
             0.2222222222222222,
             "#7201a8"
            ],
            [
             0.3333333333333333,
             "#9c179e"
            ],
            [
             0.4444444444444444,
             "#bd3786"
            ],
            [
             0.5555555555555556,
             "#d8576b"
            ],
            [
             0.6666666666666666,
             "#ed7953"
            ],
            [
             0.7777777777777778,
             "#fb9f3a"
            ],
            [
             0.8888888888888888,
             "#fdca26"
            ],
            [
             1,
             "#f0f921"
            ]
           ]
          },
          "colorway": [
           "#36b7d2",
           "#e76f51",
           "#f6bb37",
           "#264653",
           "#f3b3b4",
           "#2a9d8f",
           "#8455cb",
           "#f4a261",
           "#e76f51",
           "#264653"
          ],
          "font": {
           "color": "#3A3A3A",
           "family": "Palatino, 'Palatino Linotype', 'Book Antiqua', serif"
          },
          "geo": {
           "bgcolor": "white",
           "lakecolor": "white",
           "landcolor": "white",
           "showlakes": true,
           "showland": true,
           "subunitcolor": "#C8D4E3"
          },
          "hoverlabel": {
           "align": "left"
          },
          "hovermode": "closest",
          "mapbox": {
           "style": "light"
          },
          "paper_bgcolor": "rgba(0,0,0,0)",
          "plot_bgcolor": "white",
          "polar": {
           "angularaxis": {
            "gridcolor": "#EBF0F8",
            "linecolor": "#EBF0F8",
            "ticks": ""
           },
           "bgcolor": "white",
           "radialaxis": {
            "gridcolor": "#EBF0F8",
            "linecolor": "#EBF0F8",
            "ticks": ""
           }
          },
          "scene": {
           "xaxis": {
            "backgroundcolor": "white",
            "gridcolor": "#DFE8F3",
            "gridwidth": 2,
            "linecolor": "#EBF0F8",
            "showbackground": true,
            "ticks": "",
            "zerolinecolor": "#EBF0F8"
           },
           "yaxis": {
            "backgroundcolor": "white",
            "gridcolor": "#DFE8F3",
            "gridwidth": 2,
            "linecolor": "#EBF0F8",
            "showbackground": true,
            "ticks": "",
            "zerolinecolor": "#EBF0F8"
           },
           "zaxis": {
            "backgroundcolor": "white",
            "gridcolor": "#DFE8F3",
            "gridwidth": 2,
            "linecolor": "#EBF0F8",
            "showbackground": true,
            "ticks": "",
            "zerolinecolor": "#EBF0F8"
           }
          },
          "shapedefaults": {
           "line": {
            "color": "#2a3f5f"
           }
          },
          "ternary": {
           "aaxis": {
            "gridcolor": "#DFE8F3",
            "linecolor": "#A2B1C6",
            "ticks": ""
           },
           "baxis": {
            "gridcolor": "#DFE8F3",
            "linecolor": "#A2B1C6",
            "ticks": ""
           },
           "bgcolor": "white",
           "caxis": {
            "gridcolor": "#DFE8F3",
            "linecolor": "#A2B1C6",
            "ticks": ""
           }
          },
          "title": {
           "x": 0.5,
           "xanchor": "center"
          },
          "xaxis": {
           "automargin": true,
           "gridcolor": "#EBF0F8",
           "linecolor": "#EBF0F8",
           "ticks": "",
           "title": {
            "standoff": 15
           },
           "zerolinecolor": "#EBF0F8",
           "zerolinewidth": 2
          },
          "yaxis": {
           "automargin": true,
           "gridcolor": "#EBF0F8",
           "linecolor": "#EBF0F8",
           "ticks": "",
           "title": {
            "standoff": 15
           },
           "zerolinecolor": "#EBF0F8",
           "zerolinewidth": 2
          }
         }
        },
        "title": {
         "text": "BYOL Pretraining Epoch Loss"
        },
        "width": 700,
        "xaxis": {
         "anchor": "y",
         "domain": [
          0,
          1
         ],
         "title": {
          "text": "Epoch"
         }
        },
        "yaxis": {
         "anchor": "x",
         "domain": [
          0,
          1
         ],
         "range": [
          0.1,
          1
         ],
         "title": {
          "text": "Loss"
         }
        }
       }
      }
     },
     "metadata": {},
     "output_type": "display_data"
    }
   ],
   "source": [
    "# Loss over epochs\n",
    "epoch_loss = pd.read_csv(\"../outputs/results_data/BYOL_pretraining_debug_v0_epoch_loss.csv\")\n",
    "# convert steps to epochs (fractional)\n",
    "epoch_loss['Epoch'] = epoch_loss['Step'] / 1628.0\n",
    "\n",
    "fig = px.line(\n",
    "    epoch_loss,\n",
    "    x='Epoch',\n",
    "    y='Value',\n",
    "    title='BYOL Pretraining Epoch Loss',\n",
    "    labels={'Epoch': 'Epoch', 'Value': 'Loss'},\n",
    "    color_discrete_sequence=[DARK_BG]\n",
    ")\n",
    "fig.update_layout(yaxis_range=[0.1, 1], width=700, height=500)\n",
    "fig.write_image(\"imgs/BYOL_pretraining_debug_v0_epoch_loss.png\", scale=2)\n",
    "fig.show()"
   ]
  },
  {
   "cell_type": "code",
   "execution_count": 21,
   "id": "e17a0006",
   "metadata": {},
   "outputs": [
    {
     "data": {
      "application/vnd.plotly.v1+json": {
       "config": {
        "plotlyServerURL": "https://plot.ly"
       },
       "data": [
        {
         "hovertemplate": "Epoch=%{x}<br>Momentum=%{y}<extra></extra>",
         "legendgroup": "",
         "line": {
          "color": "#264653",
          "dash": "solid"
         },
         "marker": {
          "symbol": "circle"
         },
         "mode": "lines",
         "name": "",
         "orientation": "v",
         "showlegend": false,
         "type": "scatter",
         "x": {
          "bdata": "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",
          "dtype": "f8"
         },
         "xaxis": "x",
         "y": {
          "bdata": "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",
          "dtype": "f8"
         },
         "yaxis": "y"
        }
       ],
       "layout": {
        "height": 500,
        "legend": {
         "tracegroupgap": 0
        },
        "template": {
         "data": {
          "bar": [
           {
            "error_x": {
             "color": "#2a3f5f"
            },
            "error_y": {
             "color": "#2a3f5f"
            },
            "marker": {
             "line": {
              "color": "white",
              "width": 0.5
             },
             "pattern": {
              "fillmode": "overlay",
              "size": 10,
              "solidity": 0.2
             }
            },
            "type": "bar"
           }
          ],
          "barpolar": [
           {
            "marker": {
             "line": {
              "color": "white",
              "width": 0.5
             },
             "pattern": {
              "fillmode": "overlay",
              "size": 10,
              "solidity": 0.2
             }
            },
            "type": "barpolar"
           }
          ],
          "carpet": [
           {
            "aaxis": {
             "endlinecolor": "#2a3f5f",
             "gridcolor": "#C8D4E3",
             "linecolor": "#C8D4E3",
             "minorgridcolor": "#C8D4E3",
             "startlinecolor": "#2a3f5f"
            },
            "baxis": {
             "endlinecolor": "#2a3f5f",
             "gridcolor": "#C8D4E3",
             "linecolor": "#C8D4E3",
             "minorgridcolor": "#C8D4E3",
             "startlinecolor": "#2a3f5f"
            },
            "type": "carpet"
           }
          ],
          "choropleth": [
           {
            "colorbar": {
             "outlinewidth": 0,
             "ticks": ""
            },
            "type": "choropleth"
           }
          ],
          "contour": [
           {
            "colorbar": {
             "outlinewidth": 0,
             "ticks": ""
            },
            "colorscale": [
             [
              0,
              "#0d0887"
             ],
             [
              0.1111111111111111,
              "#46039f"
             ],
             [
              0.2222222222222222,
              "#7201a8"
             ],
             [
              0.3333333333333333,
              "#9c179e"
             ],
             [
              0.4444444444444444,
              "#bd3786"
             ],
             [
              0.5555555555555556,
              "#d8576b"
             ],
             [
              0.6666666666666666,
              "#ed7953"
             ],
             [
              0.7777777777777778,
              "#fb9f3a"
             ],
             [
              0.8888888888888888,
              "#fdca26"
             ],
             [
              1,
              "#f0f921"
             ]
            ],
            "type": "contour"
           }
          ],
          "contourcarpet": [
           {
            "colorbar": {
             "outlinewidth": 0,
             "ticks": ""
            },
            "type": "contourcarpet"
           }
          ],
          "heatmap": [
           {
            "colorbar": {
             "outlinewidth": 0,
             "ticks": ""
            },
            "colorscale": [
             [
              0,
              "#0d0887"
             ],
             [
              0.1111111111111111,
              "#46039f"
             ],
             [
              0.2222222222222222,
              "#7201a8"
             ],
             [
              0.3333333333333333,
              "#9c179e"
             ],
             [
              0.4444444444444444,
              "#bd3786"
             ],
             [
              0.5555555555555556,
              "#d8576b"
             ],
             [
              0.6666666666666666,
              "#ed7953"
             ],
             [
              0.7777777777777778,
              "#fb9f3a"
             ],
             [
              0.8888888888888888,
              "#fdca26"
             ],
             [
              1,
              "#f0f921"
             ]
            ],
            "type": "heatmap"
           }
          ],
          "histogram": [
           {
            "marker": {
             "pattern": {
              "fillmode": "overlay",
              "size": 10,
              "solidity": 0.2
             }
            },
            "type": "histogram"
           }
          ],
          "histogram2d": [
           {
            "colorbar": {
             "outlinewidth": 0,
             "ticks": ""
            },
            "colorscale": [
             [
              0,
              "#0d0887"
             ],
             [
              0.1111111111111111,
              "#46039f"
             ],
             [
              0.2222222222222222,
              "#7201a8"
             ],
             [
              0.3333333333333333,
              "#9c179e"
             ],
             [
              0.4444444444444444,
              "#bd3786"
             ],
             [
              0.5555555555555556,
              "#d8576b"
             ],
             [
              0.6666666666666666,
              "#ed7953"
             ],
             [
              0.7777777777777778,
              "#fb9f3a"
             ],
             [
              0.8888888888888888,
              "#fdca26"
             ],
             [
              1,
              "#f0f921"
             ]
            ],
            "type": "histogram2d"
           }
          ],
          "histogram2dcontour": [
           {
            "colorbar": {
             "outlinewidth": 0,
             "ticks": ""
            },
            "colorscale": [
             [
              0,
              "#0d0887"
             ],
             [
              0.1111111111111111,
              "#46039f"
             ],
             [
              0.2222222222222222,
              "#7201a8"
             ],
             [
              0.3333333333333333,
              "#9c179e"
             ],
             [
              0.4444444444444444,
              "#bd3786"
             ],
             [
              0.5555555555555556,
              "#d8576b"
             ],
             [
              0.6666666666666666,
              "#ed7953"
             ],
             [
              0.7777777777777778,
              "#fb9f3a"
             ],
             [
              0.8888888888888888,
              "#fdca26"
             ],
             [
              1,
              "#f0f921"
             ]
            ],
            "type": "histogram2dcontour"
           }
          ],
          "mesh3d": [
           {
            "colorbar": {
             "outlinewidth": 0,
             "ticks": ""
            },
            "type": "mesh3d"
           }
          ],
          "parcoords": [
           {
            "line": {
             "colorbar": {
              "outlinewidth": 0,
              "ticks": ""
             }
            },
            "type": "parcoords"
           }
          ],
          "pie": [
           {
            "automargin": true,
            "type": "pie"
           }
          ],
          "scatter": [
           {
            "fillpattern": {
             "fillmode": "overlay",
             "size": 10,
             "solidity": 0.2
            },
            "type": "scatter"
           }
          ],
          "scatter3d": [
           {
            "line": {
             "colorbar": {
              "outlinewidth": 0,
              "ticks": ""
             }
            },
            "marker": {
             "colorbar": {
              "outlinewidth": 0,
              "ticks": ""
             }
            },
            "type": "scatter3d"
           }
          ],
          "scattercarpet": [
           {
            "marker": {
             "colorbar": {
              "outlinewidth": 0,
              "ticks": ""
             }
            },
            "type": "scattercarpet"
           }
          ],
          "scattergeo": [
           {
            "marker": {
             "colorbar": {
              "outlinewidth": 0,
              "ticks": ""
             }
            },
            "type": "scattergeo"
           }
          ],
          "scattergl": [
           {
            "marker": {
             "colorbar": {
              "outlinewidth": 0,
              "ticks": ""
             }
            },
            "type": "scattergl"
           }
          ],
          "scattermap": [
           {
            "marker": {
             "colorbar": {
              "outlinewidth": 0,
              "ticks": ""
             }
            },
            "type": "scattermap"
           }
          ],
          "scattermapbox": [
           {
            "marker": {
             "colorbar": {
              "outlinewidth": 0,
              "ticks": ""
             }
            },
            "type": "scattermapbox"
           }
          ],
          "scatterpolar": [
           {
            "marker": {
             "colorbar": {
              "outlinewidth": 0,
              "ticks": ""
             }
            },
            "type": "scatterpolar"
           }
          ],
          "scatterpolargl": [
           {
            "marker": {
             "colorbar": {
              "outlinewidth": 0,
              "ticks": ""
             }
            },
            "type": "scatterpolargl"
           }
          ],
          "scatterternary": [
           {
            "marker": {
             "colorbar": {
              "outlinewidth": 0,
              "ticks": ""
             }
            },
            "type": "scatterternary"
           }
          ],
          "surface": [
           {
            "colorbar": {
             "outlinewidth": 0,
             "ticks": ""
            },
            "colorscale": [
             [
              0,
              "#0d0887"
             ],
             [
              0.1111111111111111,
              "#46039f"
             ],
             [
              0.2222222222222222,
              "#7201a8"
             ],
             [
              0.3333333333333333,
              "#9c179e"
             ],
             [
              0.4444444444444444,
              "#bd3786"
             ],
             [
              0.5555555555555556,
              "#d8576b"
             ],
             [
              0.6666666666666666,
              "#ed7953"
             ],
             [
              0.7777777777777778,
              "#fb9f3a"
             ],
             [
              0.8888888888888888,
              "#fdca26"
             ],
             [
              1,
              "#f0f921"
             ]
            ],
            "type": "surface"
           }
          ],
          "table": [
           {
            "cells": {
             "fill": {
              "color": "#EBF0F8"
             },
             "line": {
              "color": "white"
             }
            },
            "header": {
             "fill": {
              "color": "#C8D4E3"
             },
             "line": {
              "color": "white"
             }
            },
            "type": "table"
           }
          ]
         },
         "layout": {
          "annotationdefaults": {
           "arrowcolor": "#2a3f5f",
           "arrowhead": 0,
           "arrowwidth": 1
          },
          "autotypenumbers": "strict",
          "coloraxis": {
           "colorbar": {
            "outlinewidth": 0,
            "ticks": ""
           }
          },
          "colorscale": {
           "diverging": [
            [
             0,
             "#8e0152"
            ],
            [
             0.1,
             "#c51b7d"
            ],
            [
             0.2,
             "#de77ae"
            ],
            [
             0.3,
             "#f1b6da"
            ],
            [
             0.4,
             "#fde0ef"
            ],
            [
             0.5,
             "#f7f7f7"
            ],
            [
             0.6,
             "#e6f5d0"
            ],
            [
             0.7,
             "#b8e186"
            ],
            [
             0.8,
             "#7fbc41"
            ],
            [
             0.9,
             "#4d9221"
            ],
            [
             1,
             "#276419"
            ]
           ],
           "sequential": [
            [
             0,
             "#0d0887"
            ],
            [
             0.1111111111111111,
             "#46039f"
            ],
            [
             0.2222222222222222,
             "#7201a8"
            ],
            [
             0.3333333333333333,
             "#9c179e"
            ],
            [
             0.4444444444444444,
             "#bd3786"
            ],
            [
             0.5555555555555556,
             "#d8576b"
            ],
            [
             0.6666666666666666,
             "#ed7953"
            ],
            [
             0.7777777777777778,
             "#fb9f3a"
            ],
            [
             0.8888888888888888,
             "#fdca26"
            ],
            [
             1,
             "#f0f921"
            ]
           ],
           "sequentialminus": [
            [
             0,
             "#0d0887"
            ],
            [
             0.1111111111111111,
             "#46039f"
            ],
            [
             0.2222222222222222,
             "#7201a8"
            ],
            [
             0.3333333333333333,
             "#9c179e"
            ],
            [
             0.4444444444444444,
             "#bd3786"
            ],
            [
             0.5555555555555556,
             "#d8576b"
            ],
            [
             0.6666666666666666,
             "#ed7953"
            ],
            [
             0.7777777777777778,
             "#fb9f3a"
            ],
            [
             0.8888888888888888,
             "#fdca26"
            ],
            [
             1,
             "#f0f921"
            ]
           ]
          },
          "colorway": [
           "#36b7d2",
           "#e76f51",
           "#f6bb37",
           "#264653",
           "#f3b3b4",
           "#2a9d8f",
           "#8455cb",
           "#f4a261",
           "#e76f51",
           "#264653"
          ],
          "font": {
           "color": "#3A3A3A",
           "family": "Palatino, 'Palatino Linotype', 'Book Antiqua', serif"
          },
          "geo": {
           "bgcolor": "white",
           "lakecolor": "white",
           "landcolor": "white",
           "showlakes": true,
           "showland": true,
           "subunitcolor": "#C8D4E3"
          },
          "hoverlabel": {
           "align": "left"
          },
          "hovermode": "closest",
          "mapbox": {
           "style": "light"
          },
          "paper_bgcolor": "rgba(0,0,0,0)",
          "plot_bgcolor": "white",
          "polar": {
           "angularaxis": {
            "gridcolor": "#EBF0F8",
            "linecolor": "#EBF0F8",
            "ticks": ""
           },
           "bgcolor": "white",
           "radialaxis": {
            "gridcolor": "#EBF0F8",
            "linecolor": "#EBF0F8",
            "ticks": ""
           }
          },
          "scene": {
           "xaxis": {
            "backgroundcolor": "white",
            "gridcolor": "#DFE8F3",
            "gridwidth": 2,
            "linecolor": "#EBF0F8",
            "showbackground": true,
            "ticks": "",
            "zerolinecolor": "#EBF0F8"
           },
           "yaxis": {
            "backgroundcolor": "white",
            "gridcolor": "#DFE8F3",
            "gridwidth": 2,
            "linecolor": "#EBF0F8",
            "showbackground": true,
            "ticks": "",
            "zerolinecolor": "#EBF0F8"
           },
           "zaxis": {
            "backgroundcolor": "white",
            "gridcolor": "#DFE8F3",
            "gridwidth": 2,
            "linecolor": "#EBF0F8",
            "showbackground": true,
            "ticks": "",
            "zerolinecolor": "#EBF0F8"
           }
          },
          "shapedefaults": {
           "line": {
            "color": "#2a3f5f"
           }
          },
          "ternary": {
           "aaxis": {
            "gridcolor": "#DFE8F3",
            "linecolor": "#A2B1C6",
            "ticks": ""
           },
           "baxis": {
            "gridcolor": "#DFE8F3",
            "linecolor": "#A2B1C6",
            "ticks": ""
           },
           "bgcolor": "white",
           "caxis": {
            "gridcolor": "#DFE8F3",
            "linecolor": "#A2B1C6",
            "ticks": ""
           }
          },
          "title": {
           "x": 0.5,
           "xanchor": "center"
          },
          "xaxis": {
           "automargin": true,
           "gridcolor": "#EBF0F8",
           "linecolor": "#EBF0F8",
           "ticks": "",
           "title": {
            "standoff": 15
           },
           "zerolinecolor": "#EBF0F8",
           "zerolinewidth": 2
          },
          "yaxis": {
           "automargin": true,
           "gridcolor": "#EBF0F8",
           "linecolor": "#EBF0F8",
           "ticks": "",
           "title": {
            "standoff": 15
           },
           "zerolinecolor": "#EBF0F8",
           "zerolinewidth": 2
          }
         }
        },
        "title": {
         "text": "BYOL Pretraining Epoch Momentum"
        },
        "width": 700,
        "xaxis": {
         "anchor": "y",
         "domain": [
          0,
          1
         ],
         "title": {
          "text": "Epoch"
         }
        },
        "yaxis": {
         "anchor": "x",
         "domain": [
          0,
          1
         ],
         "range": [
          0.9958,
          1.0005
         ],
         "title": {
          "text": "Momentum"
         }
        }
       }
      }
     },
     "metadata": {},
     "output_type": "display_data"
    }
   ],
   "source": [
    "# momentum over epochs\n",
    "epoch_momentum = pd.read_csv(\"../outputs/results_data/BYOL_pretraining_debug_v0_momentum.csv\")\n",
    "# convert steps to epochs (fractional)\n",
    "epoch_momentum['Epoch'] = epoch_momentum['Step'] / 1628.0\n",
    "fig = px.line(\n",
    "    epoch_momentum,\n",
    "    x='Epoch',\n",
    "    y='Value',\n",
    "    title='BYOL Pretraining Epoch Momentum',\n",
    "    labels={'Epoch': 'Epoch', 'Value': 'Momentum'},\n",
    "    color_discrete_sequence=[DARK_BG]\n",
    ")\n",
    "fig.update_layout(yaxis_range=[0.9958, 1.0005], width=700, height=500)\n",
    "fig.write_image(\"imgs/BYOL_pretraining_debug_v0_momentum.png\", scale=2)\n",
    "fig.show()"
   ]
  },
  {
   "cell_type": "markdown",
   "id": "53ebb0cd",
   "metadata": {},
   "source": [
    "## DermaNet without pretraining"
   ]
  },
  {
   "cell_type": "code",
   "execution_count": 47,
   "id": "1f9af7e7",
   "metadata": {},
   "outputs": [
    {
     "data": {
      "application/vnd.plotly.v1+json": {
       "config": {
        "plotlyServerURL": "https://plot.ly"
       },
       "data": [
        {
         "hovertemplate": "Training Step=%{x}<br>Loss=%{y}<extra></extra>",
         "legendgroup": "",
         "line": {
          "color": "#264653",
          "dash": "solid"
         },
         "marker": {
          "symbol": "circle"
         },
         "mode": "lines",
         "name": "",
         "orientation": "v",
         "showlegend": false,
         "type": "scatter",
         "x": {
          "bdata": "MQBjAJUAxwD5ACsBXQGPAcEB8wElAlcCiQK7Au0CHwNRA4MDtQPnAxkESwR9BK8E4QQTBUUFdwWpBdsFDQY/BnEGowbVBgcHOQdrB50HzwcBCDMIZQiXCMkI+wgtCV8JkQnDCfUJJwpZCosKvQrvCiELUwuFC7cL6QsbDE0MfwyxDOMMFQ1HDXkNqw3dDQ8OQQ5zDqUO1w4JDzsPbQ+fD9EPAxA1EGcQmRDLEP0QLxFhEZMRxRH3ESkSWxKNEr8S8RIjE1UThxO5E+sTHRRPFIEUsxTlFBcVSRV7Fa0V3xURFkMWdRanFtkWCxc9F28XoRfTFwUY",
          "dtype": "i2"
         },
         "xaxis": "x",
         "y": {
          "bdata": "AAAAoLT9AkABAABgBIcEQAAAACDg7gNAAAAAAP5B/z8AAABATtgAQAAAAOCdEwJAAAAAQHEx/j8AAABgMFP4PwEAAABpTf0/AAAAABuf/z8AAADAM2f/P////392wv4/AQAAYAAT/j8AAADgde4BQAAAACBwofw/AQAAIHIhAEAAAABgkkf8PwAAAKAS7vo/AQAAgAoc+z8AAABAW+n4PwAAACBj/vo/AQAAwFua/T8AAACAvXL9PwEAAKDF9QFA////H1/i+T8BAAAAbAT+P/7//z/KH/4/AAAAQAii9j8AAAAgv1X5PwAAAEAR3/s/////304n/j8AAADA+hsDQP////+UWvY/AAAAgF9z+D//////U/n6PwAAAACl8fk/AAAAQKIa/j8AAAAAGCX3PwAAAMDoavk/AAAAAFv9+T8AAADAs3b6PwAAAMBNnPg/AAAAIPqA+j8AAAAAyRH6PwAAAICgsvs/AAAAwM2b+D8AAABAdqL2PwAAAMCBWvk/AAAAwEmH+T////9/9rr4P////79CtfU/AAAAgC0X+T8AAACgQJT1PwAAAECD1fM/AAAAwCVk9D8AAADA1Er7PwAAAEBP2vY/AAAAIBHN8z8AAABAiv7zPwAAAMBhXPQ/AQAAAO6J8j8AAABAhKD0P////7+FmPQ/AAAAAPVn9j8AAADgp7LyPwAAACAPXPU/AAAAgKG48j8AAAAA3Tr0PwAAAADnlPM/AAAAYPED8D8AAACAAkXxPwAAAOCbkvw/AQAAILFG8z8AAABgd6HyPwAAACAwb/E/AAAAQBIE9D8AAACA2FzxPwAAAGBTFvE/AQAAACtu9D8BAADAjkfuPwAAAKAqbvI/AAAAAG/w8z8AAACAWHb0PwAAAEBFBPg/AAAAAPOa8j8AAADA/zHuPwAAAEBwa/A/AAAAQGyP8z8AAABAwqHwPwAAAIClcek/AAAAgNUm8T8AAABgaajyPwEAAMDJTe8/AAAAgJn48j8AAACgg33xPwAAAAB3Dfk/AAAAwC627T8AAAAgw8PyPwAAAEDHWPE/AAAAYFvK8D8AAACAoHvwP////z/3ie8/AAAAgDDR8T8AAADAetLtPwAAAKAghvM/AAAAQIIz8D8AAACAkGLuPwEAAGDAU/E/AAAAgJoi7z/////fWIXuPwAAAEBABvA/AAAAAPdc5T8AAADAudfyPwAAAMD0C+4/AAAAYJev8D8BAAAA7YfxPwAAAIAHUfA/////Hxpg7z8AAABAUJLyPwAAAGBdxfA/AAAAoMJ07D8AAABAjPHsPwAAAIBxXe8/",
          "dtype": "f8"
         },
         "yaxis": "y"
        }
       ],
       "layout": {
        "height": 500,
        "legend": {
         "tracegroupgap": 0
        },
        "template": {
         "data": {
          "bar": [
           {
            "error_x": {
             "color": "#2a3f5f"
            },
            "error_y": {
             "color": "#2a3f5f"
            },
            "marker": {
             "line": {
              "color": "white",
              "width": 0.5
             },
             "pattern": {
              "fillmode": "overlay",
              "size": 10,
              "solidity": 0.2
             }
            },
            "type": "bar"
           }
          ],
          "barpolar": [
           {
            "marker": {
             "line": {
              "color": "white",
              "width": 0.5
             },
             "pattern": {
              "fillmode": "overlay",
              "size": 10,
              "solidity": 0.2
             }
            },
            "type": "barpolar"
           }
          ],
          "carpet": [
           {
            "aaxis": {
             "endlinecolor": "#2a3f5f",
             "gridcolor": "#C8D4E3",
             "linecolor": "#C8D4E3",
             "minorgridcolor": "#C8D4E3",
             "startlinecolor": "#2a3f5f"
            },
            "baxis": {
             "endlinecolor": "#2a3f5f",
             "gridcolor": "#C8D4E3",
             "linecolor": "#C8D4E3",
             "minorgridcolor": "#C8D4E3",
             "startlinecolor": "#2a3f5f"
            },
            "type": "carpet"
           }
          ],
          "choropleth": [
           {
            "colorbar": {
             "outlinewidth": 0,
             "ticks": ""
            },
            "type": "choropleth"
           }
          ],
          "contour": [
           {
            "colorbar": {
             "outlinewidth": 0,
             "ticks": ""
            },
            "colorscale": [
             [
              0,
              "#0d0887"
             ],
             [
              0.1111111111111111,
              "#46039f"
             ],
             [
              0.2222222222222222,
              "#7201a8"
             ],
             [
              0.3333333333333333,
              "#9c179e"
             ],
             [
              0.4444444444444444,
              "#bd3786"
             ],
             [
              0.5555555555555556,
              "#d8576b"
             ],
             [
              0.6666666666666666,
              "#ed7953"
             ],
             [
              0.7777777777777778,
              "#fb9f3a"
             ],
             [
              0.8888888888888888,
              "#fdca26"
             ],
             [
              1,
              "#f0f921"
             ]
            ],
            "type": "contour"
           }
          ],
          "contourcarpet": [
           {
            "colorbar": {
             "outlinewidth": 0,
             "ticks": ""
            },
            "type": "contourcarpet"
           }
          ],
          "heatmap": [
           {
            "colorbar": {
             "outlinewidth": 0,
             "ticks": ""
            },
            "colorscale": [
             [
              0,
              "#0d0887"
             ],
             [
              0.1111111111111111,
              "#46039f"
             ],
             [
              0.2222222222222222,
              "#7201a8"
             ],
             [
              0.3333333333333333,
              "#9c179e"
             ],
             [
              0.4444444444444444,
              "#bd3786"
             ],
             [
              0.5555555555555556,
              "#d8576b"
             ],
             [
              0.6666666666666666,
              "#ed7953"
             ],
             [
              0.7777777777777778,
              "#fb9f3a"
             ],
             [
              0.8888888888888888,
              "#fdca26"
             ],
             [
              1,
              "#f0f921"
             ]
            ],
            "type": "heatmap"
           }
          ],
          "histogram": [
           {
            "marker": {
             "pattern": {
              "fillmode": "overlay",
              "size": 10,
              "solidity": 0.2
             }
            },
            "type": "histogram"
           }
          ],
          "histogram2d": [
           {
            "colorbar": {
             "outlinewidth": 0,
             "ticks": ""
            },
            "colorscale": [
             [
              0,
              "#0d0887"
             ],
             [
              0.1111111111111111,
              "#46039f"
             ],
             [
              0.2222222222222222,
              "#7201a8"
             ],
             [
              0.3333333333333333,
              "#9c179e"
             ],
             [
              0.4444444444444444,
              "#bd3786"
             ],
             [
              0.5555555555555556,
              "#d8576b"
             ],
             [
              0.6666666666666666,
              "#ed7953"
             ],
             [
              0.7777777777777778,
              "#fb9f3a"
             ],
             [
              0.8888888888888888,
              "#fdca26"
             ],
             [
              1,
              "#f0f921"
             ]
            ],
            "type": "histogram2d"
           }
          ],
          "histogram2dcontour": [
           {
            "colorbar": {
             "outlinewidth": 0,
             "ticks": ""
            },
            "colorscale": [
             [
              0,
              "#0d0887"
             ],
             [
              0.1111111111111111,
              "#46039f"
             ],
             [
              0.2222222222222222,
              "#7201a8"
             ],
             [
              0.3333333333333333,
              "#9c179e"
             ],
             [
              0.4444444444444444,
              "#bd3786"
             ],
             [
              0.5555555555555556,
              "#d8576b"
             ],
             [
              0.6666666666666666,
              "#ed7953"
             ],
             [
              0.7777777777777778,
              "#fb9f3a"
             ],
             [
              0.8888888888888888,
              "#fdca26"
             ],
             [
              1,
              "#f0f921"
             ]
            ],
            "type": "histogram2dcontour"
           }
          ],
          "mesh3d": [
           {
            "colorbar": {
             "outlinewidth": 0,
             "ticks": ""
            },
            "type": "mesh3d"
           }
          ],
          "parcoords": [
           {
            "line": {
             "colorbar": {
              "outlinewidth": 0,
              "ticks": ""
             }
            },
            "type": "parcoords"
           }
          ],
          "pie": [
           {
            "automargin": true,
            "type": "pie"
           }
          ],
          "scatter": [
           {
            "fillpattern": {
             "fillmode": "overlay",
             "size": 10,
             "solidity": 0.2
            },
            "type": "scatter"
           }
          ],
          "scatter3d": [
           {
            "line": {
             "colorbar": {
              "outlinewidth": 0,
              "ticks": ""
             }
            },
            "marker": {
             "colorbar": {
              "outlinewidth": 0,
              "ticks": ""
             }
            },
            "type": "scatter3d"
           }
          ],
          "scattercarpet": [
           {
            "marker": {
             "colorbar": {
              "outlinewidth": 0,
              "ticks": ""
             }
            },
            "type": "scattercarpet"
           }
          ],
          "scattergeo": [
           {
            "marker": {
             "colorbar": {
              "outlinewidth": 0,
              "ticks": ""
             }
            },
            "type": "scattergeo"
           }
          ],
          "scattergl": [
           {
            "marker": {
             "colorbar": {
              "outlinewidth": 0,
              "ticks": ""
             }
            },
            "type": "scattergl"
           }
          ],
          "scattermap": [
           {
            "marker": {
             "colorbar": {
              "outlinewidth": 0,
              "ticks": ""
             }
            },
            "type": "scattermap"
           }
          ],
          "scattermapbox": [
           {
            "marker": {
             "colorbar": {
              "outlinewidth": 0,
              "ticks": ""
             }
            },
            "type": "scattermapbox"
           }
          ],
          "scatterpolar": [
           {
            "marker": {
             "colorbar": {
              "outlinewidth": 0,
              "ticks": ""
             }
            },
            "type": "scatterpolar"
           }
          ],
          "scatterpolargl": [
           {
            "marker": {
             "colorbar": {
              "outlinewidth": 0,
              "ticks": ""
             }
            },
            "type": "scatterpolargl"
           }
          ],
          "scatterternary": [
           {
            "marker": {
             "colorbar": {
              "outlinewidth": 0,
              "ticks": ""
             }
            },
            "type": "scatterternary"
           }
          ],
          "surface": [
           {
            "colorbar": {
             "outlinewidth": 0,
             "ticks": ""
            },
            "colorscale": [
             [
              0,
              "#0d0887"
             ],
             [
              0.1111111111111111,
              "#46039f"
             ],
             [
              0.2222222222222222,
              "#7201a8"
             ],
             [
              0.3333333333333333,
              "#9c179e"
             ],
             [
              0.4444444444444444,
              "#bd3786"
             ],
             [
              0.5555555555555556,
              "#d8576b"
             ],
             [
              0.6666666666666666,
              "#ed7953"
             ],
             [
              0.7777777777777778,
              "#fb9f3a"
             ],
             [
              0.8888888888888888,
              "#fdca26"
             ],
             [
              1,
              "#f0f921"
             ]
            ],
            "type": "surface"
           }
          ],
          "table": [
           {
            "cells": {
             "fill": {
              "color": "#EBF0F8"
             },
             "line": {
              "color": "white"
             }
            },
            "header": {
             "fill": {
              "color": "#C8D4E3"
             },
             "line": {
              "color": "white"
             }
            },
            "type": "table"
           }
          ]
         },
         "layout": {
          "annotationdefaults": {
           "arrowcolor": "#2a3f5f",
           "arrowhead": 0,
           "arrowwidth": 1
          },
          "autotypenumbers": "strict",
          "coloraxis": {
           "colorbar": {
            "outlinewidth": 0,
            "ticks": ""
           }
          },
          "colorscale": {
           "diverging": [
            [
             0,
             "#8e0152"
            ],
            [
             0.1,
             "#c51b7d"
            ],
            [
             0.2,
             "#de77ae"
            ],
            [
             0.3,
             "#f1b6da"
            ],
            [
             0.4,
             "#fde0ef"
            ],
            [
             0.5,
             "#f7f7f7"
            ],
            [
             0.6,
             "#e6f5d0"
            ],
            [
             0.7,
             "#b8e186"
            ],
            [
             0.8,
             "#7fbc41"
            ],
            [
             0.9,
             "#4d9221"
            ],
            [
             1,
             "#276419"
            ]
           ],
           "sequential": [
            [
             0,
             "#0d0887"
            ],
            [
             0.1111111111111111,
             "#46039f"
            ],
            [
             0.2222222222222222,
             "#7201a8"
            ],
            [
             0.3333333333333333,
             "#9c179e"
            ],
            [
             0.4444444444444444,
             "#bd3786"
            ],
            [
             0.5555555555555556,
             "#d8576b"
            ],
            [
             0.6666666666666666,
             "#ed7953"
            ],
            [
             0.7777777777777778,
             "#fb9f3a"
            ],
            [
             0.8888888888888888,
             "#fdca26"
            ],
            [
             1,
             "#f0f921"
            ]
           ],
           "sequentialminus": [
            [
             0,
             "#0d0887"
            ],
            [
             0.1111111111111111,
             "#46039f"
            ],
            [
             0.2222222222222222,
             "#7201a8"
            ],
            [
             0.3333333333333333,
             "#9c179e"
            ],
            [
             0.4444444444444444,
             "#bd3786"
            ],
            [
             0.5555555555555556,
             "#d8576b"
            ],
            [
             0.6666666666666666,
             "#ed7953"
            ],
            [
             0.7777777777777778,
             "#fb9f3a"
            ],
            [
             0.8888888888888888,
             "#fdca26"
            ],
            [
             1,
             "#f0f921"
            ]
           ]
          },
          "colorway": [
           "#36b7d2",
           "#e76f51",
           "#f6bb37",
           "#264653",
           "#f3b3b4",
           "#2a9d8f",
           "#8455cb",
           "#f4a261",
           "#e76f51",
           "#264653"
          ],
          "font": {
           "color": "#3A3A3A",
           "family": "Palatino, 'Palatino Linotype', 'Book Antiqua', serif"
          },
          "geo": {
           "bgcolor": "white",
           "lakecolor": "white",
           "landcolor": "white",
           "showlakes": true,
           "showland": true,
           "subunitcolor": "#C8D4E3"
          },
          "hoverlabel": {
           "align": "left"
          },
          "hovermode": "closest",
          "mapbox": {
           "style": "light"
          },
          "paper_bgcolor": "rgba(0,0,0,0)",
          "plot_bgcolor": "white",
          "polar": {
           "angularaxis": {
            "gridcolor": "#EBF0F8",
            "linecolor": "#EBF0F8",
            "ticks": ""
           },
           "bgcolor": "white",
           "radialaxis": {
            "gridcolor": "#EBF0F8",
            "linecolor": "#EBF0F8",
            "ticks": ""
           }
          },
          "scene": {
           "xaxis": {
            "backgroundcolor": "white",
            "gridcolor": "#DFE8F3",
            "gridwidth": 2,
            "linecolor": "#EBF0F8",
            "showbackground": true,
            "ticks": "",
            "zerolinecolor": "#EBF0F8"
           },
           "yaxis": {
            "backgroundcolor": "white",
            "gridcolor": "#DFE8F3",
            "gridwidth": 2,
            "linecolor": "#EBF0F8",
            "showbackground": true,
            "ticks": "",
            "zerolinecolor": "#EBF0F8"
           },
           "zaxis": {
            "backgroundcolor": "white",
            "gridcolor": "#DFE8F3",
            "gridwidth": 2,
            "linecolor": "#EBF0F8",
            "showbackground": true,
            "ticks": "",
            "zerolinecolor": "#EBF0F8"
           }
          },
          "shapedefaults": {
           "line": {
            "color": "#2a3f5f"
           }
          },
          "ternary": {
           "aaxis": {
            "gridcolor": "#DFE8F3",
            "linecolor": "#A2B1C6",
            "ticks": ""
           },
           "baxis": {
            "gridcolor": "#DFE8F3",
            "linecolor": "#A2B1C6",
            "ticks": ""
           },
           "bgcolor": "white",
           "caxis": {
            "gridcolor": "#DFE8F3",
            "linecolor": "#A2B1C6",
            "ticks": ""
           }
          },
          "title": {
           "x": 0.5,
           "xanchor": "center"
          },
          "xaxis": {
           "automargin": true,
           "gridcolor": "#EBF0F8",
           "linecolor": "#EBF0F8",
           "ticks": "",
           "title": {
            "standoff": 15
           },
           "zerolinecolor": "#EBF0F8",
           "zerolinewidth": 2
          },
          "yaxis": {
           "automargin": true,
           "gridcolor": "#EBF0F8",
           "linecolor": "#EBF0F8",
           "ticks": "",
           "title": {
            "standoff": 15
           },
           "zerolinecolor": "#EBF0F8",
           "zerolinewidth": 2
          }
         }
        },
        "title": {
         "text": "DermaNet Training Step Loss"
        },
        "width": 700,
        "xaxis": {
         "anchor": "y",
         "domain": [
          0,
          1
         ],
         "title": {
          "text": "Training Step"
         }
        },
        "yaxis": {
         "anchor": "x",
         "domain": [
          0,
          1
         ],
         "range": [
          0.55,
          2.6942226290702824
         ],
         "title": {
          "text": "Loss"
         }
        }
       }
      }
     },
     "metadata": {},
     "output_type": "display_data"
    }
   ],
   "source": [
    "# DermaNet: training step loss\n",
    "train_step = pd.read_csv('../outputs/results_data/dermanet_training/dermanet_train_step_loss.csv')\n",
    "fig = px.line(\n",
    "    train_step,\n",
    "    x='Step',\n",
    "    y='Value',\n",
    "    title='DermaNet Training Step Loss',\n",
    "    labels={'Step': 'Training Step', 'Value': 'Loss'},\n",
    "    color_discrete_sequence=[DARK_BG]\n",
    ")\n",
    "fig.update_layout(yaxis_range=[0.55, train_step['Value'].max()*1.05], width=700, height=500)\n",
    "fig.write_image('imgs/dermanet_train_step_loss.png', scale=2)\n",
    "fig.show()"
   ]
  },
  {
   "cell_type": "code",
   "execution_count": 48,
   "id": "672fc7c3",
   "metadata": {},
   "outputs": [
    {
     "data": {
      "application/vnd.plotly.v1+json": {
       "config": {
        "plotlyServerURL": "https://plot.ly"
       },
       "data": [
        {
         "hovertemplate": "Epoch=%{x}<br>Loss=%{y}<extra></extra>",
         "legendgroup": "",
         "line": {
          "color": "#264653",
          "dash": "solid"
         },
         "marker": {
          "symbol": "circle"
         },
         "mode": "lines",
         "name": "",
         "orientation": "v",
         "showlegend": false,
         "type": "scatter",
         "x": {
          "bdata": "AAAAAAAA8D80EJWO7BkAQGggKh3ZMwhATpjf1eImEEBoICod2TMUQIKodGTPQBhAnDC/q8VNHEBb3IT5XS0gQGggKh3ZMyJAdWTPQFQ6JECCqHRkz0AmQI/sGYhKRyhAnDC/q8VNKkCpdGTPQFQsQLW4CfO7Wi5AYX5Xi5swMEBoICod2TMxQG7C/K4WNzJAdWTPQFQ6M0B7BqLSkT00QIKodGTPQDVAiEpH9gxENkCP7BmISkc3QJWO7BmISjhAnDC/q8VNOUCi0pE9A1E6QKl0ZM9AVDtArxY3YX5XPEC1uAnzu1o9QLxa3IT5XT5AwvyuFjdhP0Bkz0BUOjJAQGggKh3Zs0BAa3ET5nc1QUBuwvyuFrdBQHET5ne1OEJAdWTPQFS6QkB4tbgJ8ztDQHsGotKRvUNAfleLmzA/RECCqHRkz8BEQIX5XS1uQkVAiEpH9gzERUCLmzC/q0VGQI/sGYhKx0ZAkj0DUelIR0CVjuwZiMpHQJjf1eImTEhAnDC/q8XNSECfgah0ZE9JQKLSkT0D0UlApSN7BqJSSkCpdGTPQNRKQKzFTZjfVUtArxY3YX7XS0CyZyAqHVlMQLW4CfO72kxAuQnzu1pcTUC8WtyE+d1NQL+rxU2YX05AwvyuFjfhTkDGTZjf1WJPQMmegah05E9A5ne1uAkzUEBoICod2XNQQOnInoGotFBAa3ET5nf1UEDtGYhKRzZRQG7C/K4Wd1FA8GpxE+a3UUBxE+Z3tfhRQPO7WtyEOVJAdWTPQFR6UkD2DESlI7tSQHi1uAnz+1JA+l0tbsI8U0B7BqLSkX1TQA==",
          "dtype": "f8"
         },
         "xaxis": "x",
         "y": {
          "bdata": "AAAAgMxxA0AAAADgqPQBQAAAAACYbQFAAAAAYNLgAEAAAABAcpAAQAAAAOC7gQBAAQAAYGno/z8AAABA1oj/PwAAAIDVIv8/AAAAAMfU/j8AAACAHDr+PwAAAMBE0/0/////v9Br/T////9fCx39PwAAAEAvrvw/AAAA4G0+/D8AAACgCtb7PwAAAGATkPs/AQAAoJEZ+z8AAADgZ676PwAAAIBzGfo/AAAAYM/e+T8AAAAA1oH5P////59/IPk/AAAAQKjE+D8AAADgnpH4PwAAAMCnKfg/AAAAoMy/9z8AAACgo7r3PwAAAEAOOPc/AAAAwB/F9j8AAADA4Hn2PwAAAKD0HfY/AAAAIOsX9j8BAAAAa4/1PwAAAIAxXvU/AAAAgNTa9D8AAADAjo/0PwEAAED4h/Q/AAAAIJZJ9D8AAACA1QL0PwAAAEDigPM/AAAAgF1q8z8AAABg5TbzPwAAAIDi7vI/AAAAwOfR8j8AAADAMpryPwAAAGCmdfI/AAAAoMMx8j8AAAAgaBPyPwAAAODy3fE/AAAAAE/H8T8BAAAAbKDxPwAAAOC/d/E/AAAAIBJm8T8AAADAKTrxPwAAAMCWMPE/AAAAIDwB8T8AAAAg3OjwPwAAACASxvA/AAAAoLGr8D8AAACgTYzwP////9/LdvA/AAAAwIlu8D8AAAAgLmPwPwAAAAByX/A/AAAAYCE68D8AAADghTDwPwAAAEANPvA/AAAA4PMh8D8AAAAgUAnwPwAAAGCGCPA/AQAAIOrg7z8AAABAT/jvPwAAAGDZ7e8/////P//07z//////2MzvPw==",
          "dtype": "f8"
         },
         "yaxis": "y"
        }
       ],
       "layout": {
        "height": 500,
        "legend": {
         "tracegroupgap": 0
        },
        "template": {
         "data": {
          "bar": [
           {
            "error_x": {
             "color": "#2a3f5f"
            },
            "error_y": {
             "color": "#2a3f5f"
            },
            "marker": {
             "line": {
              "color": "white",
              "width": 0.5
             },
             "pattern": {
              "fillmode": "overlay",
              "size": 10,
              "solidity": 0.2
             }
            },
            "type": "bar"
           }
          ],
          "barpolar": [
           {
            "marker": {
             "line": {
              "color": "white",
              "width": 0.5
             },
             "pattern": {
              "fillmode": "overlay",
              "size": 10,
              "solidity": 0.2
             }
            },
            "type": "barpolar"
           }
          ],
          "carpet": [
           {
            "aaxis": {
             "endlinecolor": "#2a3f5f",
             "gridcolor": "#C8D4E3",
             "linecolor": "#C8D4E3",
             "minorgridcolor": "#C8D4E3",
             "startlinecolor": "#2a3f5f"
            },
            "baxis": {
             "endlinecolor": "#2a3f5f",
             "gridcolor": "#C8D4E3",
             "linecolor": "#C8D4E3",
             "minorgridcolor": "#C8D4E3",
             "startlinecolor": "#2a3f5f"
            },
            "type": "carpet"
           }
          ],
          "choropleth": [
           {
            "colorbar": {
             "outlinewidth": 0,
             "ticks": ""
            },
            "type": "choropleth"
           }
          ],
          "contour": [
           {
            "colorbar": {
             "outlinewidth": 0,
             "ticks": ""
            },
            "colorscale": [
             [
              0,
              "#0d0887"
             ],
             [
              0.1111111111111111,
              "#46039f"
             ],
             [
              0.2222222222222222,
              "#7201a8"
             ],
             [
              0.3333333333333333,
              "#9c179e"
             ],
             [
              0.4444444444444444,
              "#bd3786"
             ],
             [
              0.5555555555555556,
              "#d8576b"
             ],
             [
              0.6666666666666666,
              "#ed7953"
             ],
             [
              0.7777777777777778,
              "#fb9f3a"
             ],
             [
              0.8888888888888888,
              "#fdca26"
             ],
             [
              1,
              "#f0f921"
             ]
            ],
            "type": "contour"
           }
          ],
          "contourcarpet": [
           {
            "colorbar": {
             "outlinewidth": 0,
             "ticks": ""
            },
            "type": "contourcarpet"
           }
          ],
          "heatmap": [
           {
            "colorbar": {
             "outlinewidth": 0,
             "ticks": ""
            },
            "colorscale": [
             [
              0,
              "#0d0887"
             ],
             [
              0.1111111111111111,
              "#46039f"
             ],
             [
              0.2222222222222222,
              "#7201a8"
             ],
             [
              0.3333333333333333,
              "#9c179e"
             ],
             [
              0.4444444444444444,
              "#bd3786"
             ],
             [
              0.5555555555555556,
              "#d8576b"
             ],
             [
              0.6666666666666666,
              "#ed7953"
             ],
             [
              0.7777777777777778,
              "#fb9f3a"
             ],
             [
              0.8888888888888888,
              "#fdca26"
             ],
             [
              1,
              "#f0f921"
             ]
            ],
            "type": "heatmap"
           }
          ],
          "histogram": [
           {
            "marker": {
             "pattern": {
              "fillmode": "overlay",
              "size": 10,
              "solidity": 0.2
             }
            },
            "type": "histogram"
           }
          ],
          "histogram2d": [
           {
            "colorbar": {
             "outlinewidth": 0,
             "ticks": ""
            },
            "colorscale": [
             [
              0,
              "#0d0887"
             ],
             [
              0.1111111111111111,
              "#46039f"
             ],
             [
              0.2222222222222222,
              "#7201a8"
             ],
             [
              0.3333333333333333,
              "#9c179e"
             ],
             [
              0.4444444444444444,
              "#bd3786"
             ],
             [
              0.5555555555555556,
              "#d8576b"
             ],
             [
              0.6666666666666666,
              "#ed7953"
             ],
             [
              0.7777777777777778,
              "#fb9f3a"
             ],
             [
              0.8888888888888888,
              "#fdca26"
             ],
             [
              1,
              "#f0f921"
             ]
            ],
            "type": "histogram2d"
           }
          ],
          "histogram2dcontour": [
           {
            "colorbar": {
             "outlinewidth": 0,
             "ticks": ""
            },
            "colorscale": [
             [
              0,
              "#0d0887"
             ],
             [
              0.1111111111111111,
              "#46039f"
             ],
             [
              0.2222222222222222,
              "#7201a8"
             ],
             [
              0.3333333333333333,
              "#9c179e"
             ],
             [
              0.4444444444444444,
              "#bd3786"
             ],
             [
              0.5555555555555556,
              "#d8576b"
             ],
             [
              0.6666666666666666,
              "#ed7953"
             ],
             [
              0.7777777777777778,
              "#fb9f3a"
             ],
             [
              0.8888888888888888,
              "#fdca26"
             ],
             [
              1,
              "#f0f921"
             ]
            ],
            "type": "histogram2dcontour"
           }
          ],
          "mesh3d": [
           {
            "colorbar": {
             "outlinewidth": 0,
             "ticks": ""
            },
            "type": "mesh3d"
           }
          ],
          "parcoords": [
           {
            "line": {
             "colorbar": {
              "outlinewidth": 0,
              "ticks": ""
             }
            },
            "type": "parcoords"
           }
          ],
          "pie": [
           {
            "automargin": true,
            "type": "pie"
           }
          ],
          "scatter": [
           {
            "fillpattern": {
             "fillmode": "overlay",
             "size": 10,
             "solidity": 0.2
            },
            "type": "scatter"
           }
          ],
          "scatter3d": [
           {
            "line": {
             "colorbar": {
              "outlinewidth": 0,
              "ticks": ""
             }
            },
            "marker": {
             "colorbar": {
              "outlinewidth": 0,
              "ticks": ""
             }
            },
            "type": "scatter3d"
           }
          ],
          "scattercarpet": [
           {
            "marker": {
             "colorbar": {
              "outlinewidth": 0,
              "ticks": ""
             }
            },
            "type": "scattercarpet"
           }
          ],
          "scattergeo": [
           {
            "marker": {
             "colorbar": {
              "outlinewidth": 0,
              "ticks": ""
             }
            },
            "type": "scattergeo"
           }
          ],
          "scattergl": [
           {
            "marker": {
             "colorbar": {
              "outlinewidth": 0,
              "ticks": ""
             }
            },
            "type": "scattergl"
           }
          ],
          "scattermap": [
           {
            "marker": {
             "colorbar": {
              "outlinewidth": 0,
              "ticks": ""
             }
            },
            "type": "scattermap"
           }
          ],
          "scattermapbox": [
           {
            "marker": {
             "colorbar": {
              "outlinewidth": 0,
              "ticks": ""
             }
            },
            "type": "scattermapbox"
           }
          ],
          "scatterpolar": [
           {
            "marker": {
             "colorbar": {
              "outlinewidth": 0,
              "ticks": ""
             }
            },
            "type": "scatterpolar"
           }
          ],
          "scatterpolargl": [
           {
            "marker": {
             "colorbar": {
              "outlinewidth": 0,
              "ticks": ""
             }
            },
            "type": "scatterpolargl"
           }
          ],
          "scatterternary": [
           {
            "marker": {
             "colorbar": {
              "outlinewidth": 0,
              "ticks": ""
             }
            },
            "type": "scatterternary"
           }
          ],
          "surface": [
           {
            "colorbar": {
             "outlinewidth": 0,
             "ticks": ""
            },
            "colorscale": [
             [
              0,
              "#0d0887"
             ],
             [
              0.1111111111111111,
              "#46039f"
             ],
             [
              0.2222222222222222,
              "#7201a8"
             ],
             [
              0.3333333333333333,
              "#9c179e"
             ],
             [
              0.4444444444444444,
              "#bd3786"
             ],
             [
              0.5555555555555556,
              "#d8576b"
             ],
             [
              0.6666666666666666,
              "#ed7953"
             ],
             [
              0.7777777777777778,
              "#fb9f3a"
             ],
             [
              0.8888888888888888,
              "#fdca26"
             ],
             [
              1,
              "#f0f921"
             ]
            ],
            "type": "surface"
           }
          ],
          "table": [
           {
            "cells": {
             "fill": {
              "color": "#EBF0F8"
             },
             "line": {
              "color": "white"
             }
            },
            "header": {
             "fill": {
              "color": "#C8D4E3"
             },
             "line": {
              "color": "white"
             }
            },
            "type": "table"
           }
          ]
         },
         "layout": {
          "annotationdefaults": {
           "arrowcolor": "#2a3f5f",
           "arrowhead": 0,
           "arrowwidth": 1
          },
          "autotypenumbers": "strict",
          "coloraxis": {
           "colorbar": {
            "outlinewidth": 0,
            "ticks": ""
           }
          },
          "colorscale": {
           "diverging": [
            [
             0,
             "#8e0152"
            ],
            [
             0.1,
             "#c51b7d"
            ],
            [
             0.2,
             "#de77ae"
            ],
            [
             0.3,
             "#f1b6da"
            ],
            [
             0.4,
             "#fde0ef"
            ],
            [
             0.5,
             "#f7f7f7"
            ],
            [
             0.6,
             "#e6f5d0"
            ],
            [
             0.7,
             "#b8e186"
            ],
            [
             0.8,
             "#7fbc41"
            ],
            [
             0.9,
             "#4d9221"
            ],
            [
             1,
             "#276419"
            ]
           ],
           "sequential": [
            [
             0,
             "#0d0887"
            ],
            [
             0.1111111111111111,
             "#46039f"
            ],
            [
             0.2222222222222222,
             "#7201a8"
            ],
            [
             0.3333333333333333,
             "#9c179e"
            ],
            [
             0.4444444444444444,
             "#bd3786"
            ],
            [
             0.5555555555555556,
             "#d8576b"
            ],
            [
             0.6666666666666666,
             "#ed7953"
            ],
            [
             0.7777777777777778,
             "#fb9f3a"
            ],
            [
             0.8888888888888888,
             "#fdca26"
            ],
            [
             1,
             "#f0f921"
            ]
           ],
           "sequentialminus": [
            [
             0,
             "#0d0887"
            ],
            [
             0.1111111111111111,
             "#46039f"
            ],
            [
             0.2222222222222222,
             "#7201a8"
            ],
            [
             0.3333333333333333,
             "#9c179e"
            ],
            [
             0.4444444444444444,
             "#bd3786"
            ],
            [
             0.5555555555555556,
             "#d8576b"
            ],
            [
             0.6666666666666666,
             "#ed7953"
            ],
            [
             0.7777777777777778,
             "#fb9f3a"
            ],
            [
             0.8888888888888888,
             "#fdca26"
            ],
            [
             1,
             "#f0f921"
            ]
           ]
          },
          "colorway": [
           "#36b7d2",
           "#e76f51",
           "#f6bb37",
           "#264653",
           "#f3b3b4",
           "#2a9d8f",
           "#8455cb",
           "#f4a261",
           "#e76f51",
           "#264653"
          ],
          "font": {
           "color": "#3A3A3A",
           "family": "Palatino, 'Palatino Linotype', 'Book Antiqua', serif"
          },
          "geo": {
           "bgcolor": "white",
           "lakecolor": "white",
           "landcolor": "white",
           "showlakes": true,
           "showland": true,
           "subunitcolor": "#C8D4E3"
          },
          "hoverlabel": {
           "align": "left"
          },
          "hovermode": "closest",
          "mapbox": {
           "style": "light"
          },
          "paper_bgcolor": "rgba(0,0,0,0)",
          "plot_bgcolor": "white",
          "polar": {
           "angularaxis": {
            "gridcolor": "#EBF0F8",
            "linecolor": "#EBF0F8",
            "ticks": ""
           },
           "bgcolor": "white",
           "radialaxis": {
            "gridcolor": "#EBF0F8",
            "linecolor": "#EBF0F8",
            "ticks": ""
           }
          },
          "scene": {
           "xaxis": {
            "backgroundcolor": "white",
            "gridcolor": "#DFE8F3",
            "gridwidth": 2,
            "linecolor": "#EBF0F8",
            "showbackground": true,
            "ticks": "",
            "zerolinecolor": "#EBF0F8"
           },
           "yaxis": {
            "backgroundcolor": "white",
            "gridcolor": "#DFE8F3",
            "gridwidth": 2,
            "linecolor": "#EBF0F8",
            "showbackground": true,
            "ticks": "",
            "zerolinecolor": "#EBF0F8"
           },
           "zaxis": {
            "backgroundcolor": "white",
            "gridcolor": "#DFE8F3",
            "gridwidth": 2,
            "linecolor": "#EBF0F8",
            "showbackground": true,
            "ticks": "",
            "zerolinecolor": "#EBF0F8"
           }
          },
          "shapedefaults": {
           "line": {
            "color": "#2a3f5f"
           }
          },
          "ternary": {
           "aaxis": {
            "gridcolor": "#DFE8F3",
            "linecolor": "#A2B1C6",
            "ticks": ""
           },
           "baxis": {
            "gridcolor": "#DFE8F3",
            "linecolor": "#A2B1C6",
            "ticks": ""
           },
           "bgcolor": "white",
           "caxis": {
            "gridcolor": "#DFE8F3",
            "linecolor": "#A2B1C6",
            "ticks": ""
           }
          },
          "title": {
           "x": 0.5,
           "xanchor": "center"
          },
          "xaxis": {
           "automargin": true,
           "gridcolor": "#EBF0F8",
           "linecolor": "#EBF0F8",
           "ticks": "",
           "title": {
            "standoff": 15
           },
           "zerolinecolor": "#EBF0F8",
           "zerolinewidth": 2
          },
          "yaxis": {
           "automargin": true,
           "gridcolor": "#EBF0F8",
           "linecolor": "#EBF0F8",
           "ticks": "",
           "title": {
            "standoff": 15
           },
           "zerolinecolor": "#EBF0F8",
           "zerolinewidth": 2
          }
         }
        },
        "title": {
         "text": "DermaNet Training Epoch Loss"
        },
        "width": 700,
        "xaxis": {
         "anchor": "y",
         "domain": [
          0,
          1
         ],
         "range": [
          0,
          78.9620253164557
         ],
         "title": {
          "text": "Epoch"
         }
        },
        "yaxis": {
         "anchor": "x",
         "domain": [
          0,
          1
         ],
         "range": [
          0.9,
          2.5520941257476806
         ],
         "title": {
          "text": "Loss"
         }
        }
       }
      }
     },
     "metadata": {},
     "output_type": "display_data"
    }
   ],
   "source": [
    "# DermaNet: training epoch loss\n",
    "train_epoch = pd.read_csv('../outputs/results_data/dermanet_training/dermanet_train_epoch_loss.csv')\n",
    "# if the CSV contains 'Step' convert to fractional Epochs like BYOL, otherwise expect 'Epoch'\n",
    "if 'Step' in train_epoch.columns:\n",
    "    train_epoch['Epoch'] = train_epoch['Step'] / 79.0\n",
    "fig = px.line(\n",
    "    train_epoch,\n",
    "    x='Epoch' if 'Epoch' in train_epoch.columns else train_epoch.index,\n",
    "    y='Value',\n",
    "    title='DermaNet Training Epoch Loss',\n",
    "    labels={'Epoch': 'Epoch', 'Value': 'Loss'},\n",
    "    color_discrete_sequence=[DARK_BG]\n",
    ")\n",
    "fig.update_layout(yaxis_range=[0.9, max(0.1, train_epoch['Value'].max()*1.05)], xaxis_range=[min(train_epoch['Epoch'])-1, max(train_epoch['Epoch'])+1], width=700, height=500)\n",
    "fig.write_image('imgs/dermanet_train_epoch_loss.png', scale=2)\n",
    "fig.show()"
   ]
  },
  {
   "cell_type": "code",
   "execution_count": 54,
   "id": "b9b719eb",
   "metadata": {},
   "outputs": [
    {
     "data": {
      "application/vnd.plotly.v1+json": {
       "config": {
        "plotlyServerURL": "https://plot.ly"
       },
       "data": [
        {
         "hovertemplate": "Epoch=%{x}<br>Loss=%{y}<extra></extra>",
         "legendgroup": "",
         "line": {
          "color": "#264653",
          "dash": "solid"
         },
         "marker": {
          "symbol": "circle"
         },
         "mode": "lines",
         "name": "",
         "orientation": "v",
         "showlegend": false,
         "type": "scatter",
         "x": {
          "bdata": "AAAAAAAA8D80EJWO7BkAQGggKh3ZMwhATpjf1eImEEBoICod2TMUQIKodGTPQBhAnDC/q8VNHEBb3IT5XS0gQGggKh3ZMyJAdWTPQFQ6JECCqHRkz0AmQI/sGYhKRyhAnDC/q8VNKkCpdGTPQFQsQLW4CfO7Wi5AYX5Xi5swMEBoICod2TMxQG7C/K4WNzJAdWTPQFQ6M0B7BqLSkT00QIKodGTPQDVAiEpH9gxENkCP7BmISkc3QJWO7BmISjhAnDC/q8VNOUCi0pE9A1E6QKl0ZM9AVDtArxY3YX5XPEC1uAnzu1o9QLxa3IT5XT5AwvyuFjdhP0Bkz0BUOjJAQGggKh3Zs0BAa3ET5nc1QUBuwvyuFrdBQHET5ne1OEJAdWTPQFS6QkB4tbgJ8ztDQHsGotKRvUNAfleLmzA/RECCqHRkz8BEQIX5XS1uQkVAiEpH9gzERUCLmzC/q0VGQI/sGYhKx0ZAkj0DUelIR0CVjuwZiMpHQJjf1eImTEhAnDC/q8XNSECfgah0ZM9IQJ+BqHRkT0lAotKRPQPRSUClI3sGolJKQKl0ZM9A1EpArMVNmN9VS0CvFjdhftdLQLJnICodWUxAtbgJ87vaTEC5CfO7WlxNQLxa3IT53U1Av6vFTZhfTkDC/K4WN+FOQMZNmN/VYk9AyZ6BqHTkT0Dmd7W4CTNQQGggKh3Zc1BA6ciegai0UEBrcRPmd/VQQO0ZiEpHNlFAbsL8rhZ3UUDwanET5rdRQHET5ne1+FFA87ta3IQ5UkB1ZM9AVHpSQPYMRKUju1JAeLW4CfP7UkD6XS1uwjxTQHsGotKRfVNA/a4WN2F+U0A=",
          "dtype": "f8"
         },
         "xaxis": "x",
         "y": {
          "bdata": "AAAAYJbpAkAAAADgemYBQAAAAICiBwFAAAAAQDTAAEAAAABAi1MAQAAAAECbFwBAAAAAYJwKAEABAABgBFH/PwAAAOCmSP8/AAAAwGUXAEAAAADgurj+P////78K9P0/AAAAgDOX/j8AAABAEH39PwAAAGBMvP0/////f7zw/T8AAABA5zP9PwEAACDUIP0/AAAAoBq9/D8AAADgHrP8PwIAACCF2fw/AAAAoCvP/D//////VLb8PwAAACB/KPw/AAAAQBH3+z8AAAAAQpb8PwAAAMDwoPs/AAAA4BJc+z8AAABAiJL7PwAAAOAaRvs/AAAA4H7F+z8AAABA7w/7PwAAAEBJgvs/AAAAgO4K+z8AAADgsun6PwAAAGDxEvs/AAAAwDGE+z8AAADAZPX6PwAAACDuz/o/AAAAYByy+j8AAABgG6n6P////x8dGvs/AAAAYBos+z8BAADgZB77PwAAAECsUvo/////n/1w+j8AAACA2Kf6PwAAAMAkHfs/AAAAIDBt+j8AAABgG6n6PwAAACDHafo/AAAAADGg+j8AAABgjQn6PwAAAMAhSfo/AAAAIFlU+j8AAACA4kP6PwAAAIB9WPo/AAAAwCAt+j8AAABgcDj6PwAAAMApU/o/AAAAwK8u+j8AAAAgzAj6PwAAAKBsYfo/AQAAYIU6+j8AAADgfCT6PwAAAAAiNPo/AQAAgI1M+j8AAADAvh36PwAAAGBHL/o/AAAAQGwZ+j8AAAAg0yD6PwAAAEBRLfo/AAAAoPBD+j8AAADAixT6PwAAAKDpIPo/AQAAQD0l+j8AAAAAuhv6PwAAAGAfMvo/AAAAIMwI+j8=",
          "dtype": "f8"
         },
         "yaxis": "y"
        }
       ],
       "layout": {
        "height": 500,
        "legend": {
         "tracegroupgap": 0
        },
        "template": {
         "data": {
          "bar": [
           {
            "error_x": {
             "color": "#2a3f5f"
            },
            "error_y": {
             "color": "#2a3f5f"
            },
            "marker": {
             "line": {
              "color": "white",
              "width": 0.5
             },
             "pattern": {
              "fillmode": "overlay",
              "size": 10,
              "solidity": 0.2
             }
            },
            "type": "bar"
           }
          ],
          "barpolar": [
           {
            "marker": {
             "line": {
              "color": "white",
              "width": 0.5
             },
             "pattern": {
              "fillmode": "overlay",
              "size": 10,
              "solidity": 0.2
             }
            },
            "type": "barpolar"
           }
          ],
          "carpet": [
           {
            "aaxis": {
             "endlinecolor": "#2a3f5f",
             "gridcolor": "#C8D4E3",
             "linecolor": "#C8D4E3",
             "minorgridcolor": "#C8D4E3",
             "startlinecolor": "#2a3f5f"
            },
            "baxis": {
             "endlinecolor": "#2a3f5f",
             "gridcolor": "#C8D4E3",
             "linecolor": "#C8D4E3",
             "minorgridcolor": "#C8D4E3",
             "startlinecolor": "#2a3f5f"
            },
            "type": "carpet"
           }
          ],
          "choropleth": [
           {
            "colorbar": {
             "outlinewidth": 0,
             "ticks": ""
            },
            "type": "choropleth"
           }
          ],
          "contour": [
           {
            "colorbar": {
             "outlinewidth": 0,
             "ticks": ""
            },
            "colorscale": [
             [
              0,
              "#0d0887"
             ],
             [
              0.1111111111111111,
              "#46039f"
             ],
             [
              0.2222222222222222,
              "#7201a8"
             ],
             [
              0.3333333333333333,
              "#9c179e"
             ],
             [
              0.4444444444444444,
              "#bd3786"
             ],
             [
              0.5555555555555556,
              "#d8576b"
             ],
             [
              0.6666666666666666,
              "#ed7953"
             ],
             [
              0.7777777777777778,
              "#fb9f3a"
             ],
             [
              0.8888888888888888,
              "#fdca26"
             ],
             [
              1,
              "#f0f921"
             ]
            ],
            "type": "contour"
           }
          ],
          "contourcarpet": [
           {
            "colorbar": {
             "outlinewidth": 0,
             "ticks": ""
            },
            "type": "contourcarpet"
           }
          ],
          "heatmap": [
           {
            "colorbar": {
             "outlinewidth": 0,
             "ticks": ""
            },
            "colorscale": [
             [
              0,
              "#0d0887"
             ],
             [
              0.1111111111111111,
              "#46039f"
             ],
             [
              0.2222222222222222,
              "#7201a8"
             ],
             [
              0.3333333333333333,
              "#9c179e"
             ],
             [
              0.4444444444444444,
              "#bd3786"
             ],
             [
              0.5555555555555556,
              "#d8576b"
             ],
             [
              0.6666666666666666,
              "#ed7953"
             ],
             [
              0.7777777777777778,
              "#fb9f3a"
             ],
             [
              0.8888888888888888,
              "#fdca26"
             ],
             [
              1,
              "#f0f921"
             ]
            ],
            "type": "heatmap"
           }
          ],
          "histogram": [
           {
            "marker": {
             "pattern": {
              "fillmode": "overlay",
              "size": 10,
              "solidity": 0.2
             }
            },
            "type": "histogram"
           }
          ],
          "histogram2d": [
           {
            "colorbar": {
             "outlinewidth": 0,
             "ticks": ""
            },
            "colorscale": [
             [
              0,
              "#0d0887"
             ],
             [
              0.1111111111111111,
              "#46039f"
             ],
             [
              0.2222222222222222,
              "#7201a8"
             ],
             [
              0.3333333333333333,
              "#9c179e"
             ],
             [
              0.4444444444444444,
              "#bd3786"
             ],
             [
              0.5555555555555556,
              "#d8576b"
             ],
             [
              0.6666666666666666,
              "#ed7953"
             ],
             [
              0.7777777777777778,
              "#fb9f3a"
             ],
             [
              0.8888888888888888,
              "#fdca26"
             ],
             [
              1,
              "#f0f921"
             ]
            ],
            "type": "histogram2d"
           }
          ],
          "histogram2dcontour": [
           {
            "colorbar": {
             "outlinewidth": 0,
             "ticks": ""
            },
            "colorscale": [
             [
              0,
              "#0d0887"
             ],
             [
              0.1111111111111111,
              "#46039f"
             ],
             [
              0.2222222222222222,
              "#7201a8"
             ],
             [
              0.3333333333333333,
              "#9c179e"
             ],
             [
              0.4444444444444444,
              "#bd3786"
             ],
             [
              0.5555555555555556,
              "#d8576b"
             ],
             [
              0.6666666666666666,
              "#ed7953"
             ],
             [
              0.7777777777777778,
              "#fb9f3a"
             ],
             [
              0.8888888888888888,
              "#fdca26"
             ],
             [
              1,
              "#f0f921"
             ]
            ],
            "type": "histogram2dcontour"
           }
          ],
          "mesh3d": [
           {
            "colorbar": {
             "outlinewidth": 0,
             "ticks": ""
            },
            "type": "mesh3d"
           }
          ],
          "parcoords": [
           {
            "line": {
             "colorbar": {
              "outlinewidth": 0,
              "ticks": ""
             }
            },
            "type": "parcoords"
           }
          ],
          "pie": [
           {
            "automargin": true,
            "type": "pie"
           }
          ],
          "scatter": [
           {
            "fillpattern": {
             "fillmode": "overlay",
             "size": 10,
             "solidity": 0.2
            },
            "type": "scatter"
           }
          ],
          "scatter3d": [
           {
            "line": {
             "colorbar": {
              "outlinewidth": 0,
              "ticks": ""
             }
            },
            "marker": {
             "colorbar": {
              "outlinewidth": 0,
              "ticks": ""
             }
            },
            "type": "scatter3d"
           }
          ],
          "scattercarpet": [
           {
            "marker": {
             "colorbar": {
              "outlinewidth": 0,
              "ticks": ""
             }
            },
            "type": "scattercarpet"
           }
          ],
          "scattergeo": [
           {
            "marker": {
             "colorbar": {
              "outlinewidth": 0,
              "ticks": ""
             }
            },
            "type": "scattergeo"
           }
          ],
          "scattergl": [
           {
            "marker": {
             "colorbar": {
              "outlinewidth": 0,
              "ticks": ""
             }
            },
            "type": "scattergl"
           }
          ],
          "scattermap": [
           {
            "marker": {
             "colorbar": {
              "outlinewidth": 0,
              "ticks": ""
             }
            },
            "type": "scattermap"
           }
          ],
          "scattermapbox": [
           {
            "marker": {
             "colorbar": {
              "outlinewidth": 0,
              "ticks": ""
             }
            },
            "type": "scattermapbox"
           }
          ],
          "scatterpolar": [
           {
            "marker": {
             "colorbar": {
              "outlinewidth": 0,
              "ticks": ""
             }
            },
            "type": "scatterpolar"
           }
          ],
          "scatterpolargl": [
           {
            "marker": {
             "colorbar": {
              "outlinewidth": 0,
              "ticks": ""
             }
            },
            "type": "scatterpolargl"
           }
          ],
          "scatterternary": [
           {
            "marker": {
             "colorbar": {
              "outlinewidth": 0,
              "ticks": ""
             }
            },
            "type": "scatterternary"
           }
          ],
          "surface": [
           {
            "colorbar": {
             "outlinewidth": 0,
             "ticks": ""
            },
            "colorscale": [
             [
              0,
              "#0d0887"
             ],
             [
              0.1111111111111111,
              "#46039f"
             ],
             [
              0.2222222222222222,
              "#7201a8"
             ],
             [
              0.3333333333333333,
              "#9c179e"
             ],
             [
              0.4444444444444444,
              "#bd3786"
             ],
             [
              0.5555555555555556,
              "#d8576b"
             ],
             [
              0.6666666666666666,
              "#ed7953"
             ],
             [
              0.7777777777777778,
              "#fb9f3a"
             ],
             [
              0.8888888888888888,
              "#fdca26"
             ],
             [
              1,
              "#f0f921"
             ]
            ],
            "type": "surface"
           }
          ],
          "table": [
           {
            "cells": {
             "fill": {
              "color": "#EBF0F8"
             },
             "line": {
              "color": "white"
             }
            },
            "header": {
             "fill": {
              "color": "#C8D4E3"
             },
             "line": {
              "color": "white"
             }
            },
            "type": "table"
           }
          ]
         },
         "layout": {
          "annotationdefaults": {
           "arrowcolor": "#2a3f5f",
           "arrowhead": 0,
           "arrowwidth": 1
          },
          "autotypenumbers": "strict",
          "coloraxis": {
           "colorbar": {
            "outlinewidth": 0,
            "ticks": ""
           }
          },
          "colorscale": {
           "diverging": [
            [
             0,
             "#8e0152"
            ],
            [
             0.1,
             "#c51b7d"
            ],
            [
             0.2,
             "#de77ae"
            ],
            [
             0.3,
             "#f1b6da"
            ],
            [
             0.4,
             "#fde0ef"
            ],
            [
             0.5,
             "#f7f7f7"
            ],
            [
             0.6,
             "#e6f5d0"
            ],
            [
             0.7,
             "#b8e186"
            ],
            [
             0.8,
             "#7fbc41"
            ],
            [
             0.9,
             "#4d9221"
            ],
            [
             1,
             "#276419"
            ]
           ],
           "sequential": [
            [
             0,
             "#0d0887"
            ],
            [
             0.1111111111111111,
             "#46039f"
            ],
            [
             0.2222222222222222,
             "#7201a8"
            ],
            [
             0.3333333333333333,
             "#9c179e"
            ],
            [
             0.4444444444444444,
             "#bd3786"
            ],
            [
             0.5555555555555556,
             "#d8576b"
            ],
            [
             0.6666666666666666,
             "#ed7953"
            ],
            [
             0.7777777777777778,
             "#fb9f3a"
            ],
            [
             0.8888888888888888,
             "#fdca26"
            ],
            [
             1,
             "#f0f921"
            ]
           ],
           "sequentialminus": [
            [
             0,
             "#0d0887"
            ],
            [
             0.1111111111111111,
             "#46039f"
            ],
            [
             0.2222222222222222,
             "#7201a8"
            ],
            [
             0.3333333333333333,
             "#9c179e"
            ],
            [
             0.4444444444444444,
             "#bd3786"
            ],
            [
             0.5555555555555556,
             "#d8576b"
            ],
            [
             0.6666666666666666,
             "#ed7953"
            ],
            [
             0.7777777777777778,
             "#fb9f3a"
            ],
            [
             0.8888888888888888,
             "#fdca26"
            ],
            [
             1,
             "#f0f921"
            ]
           ]
          },
          "colorway": [
           "#36b7d2",
           "#e76f51",
           "#f6bb37",
           "#264653",
           "#f3b3b4",
           "#2a9d8f",
           "#8455cb",
           "#f4a261",
           "#e76f51",
           "#264653"
          ],
          "font": {
           "color": "#3A3A3A",
           "family": "Palatino, 'Palatino Linotype', 'Book Antiqua', serif"
          },
          "geo": {
           "bgcolor": "white",
           "lakecolor": "white",
           "landcolor": "white",
           "showlakes": true,
           "showland": true,
           "subunitcolor": "#C8D4E3"
          },
          "hoverlabel": {
           "align": "left"
          },
          "hovermode": "closest",
          "mapbox": {
           "style": "light"
          },
          "paper_bgcolor": "rgba(0,0,0,0)",
          "plot_bgcolor": "white",
          "polar": {
           "angularaxis": {
            "gridcolor": "#EBF0F8",
            "linecolor": "#EBF0F8",
            "ticks": ""
           },
           "bgcolor": "white",
           "radialaxis": {
            "gridcolor": "#EBF0F8",
            "linecolor": "#EBF0F8",
            "ticks": ""
           }
          },
          "scene": {
           "xaxis": {
            "backgroundcolor": "white",
            "gridcolor": "#DFE8F3",
            "gridwidth": 2,
            "linecolor": "#EBF0F8",
            "showbackground": true,
            "ticks": "",
            "zerolinecolor": "#EBF0F8"
           },
           "yaxis": {
            "backgroundcolor": "white",
            "gridcolor": "#DFE8F3",
            "gridwidth": 2,
            "linecolor": "#EBF0F8",
            "showbackground": true,
            "ticks": "",
            "zerolinecolor": "#EBF0F8"
           },
           "zaxis": {
            "backgroundcolor": "white",
            "gridcolor": "#DFE8F3",
            "gridwidth": 2,
            "linecolor": "#EBF0F8",
            "showbackground": true,
            "ticks": "",
            "zerolinecolor": "#EBF0F8"
           }
          },
          "shapedefaults": {
           "line": {
            "color": "#2a3f5f"
           }
          },
          "ternary": {
           "aaxis": {
            "gridcolor": "#DFE8F3",
            "linecolor": "#A2B1C6",
            "ticks": ""
           },
           "baxis": {
            "gridcolor": "#DFE8F3",
            "linecolor": "#A2B1C6",
            "ticks": ""
           },
           "bgcolor": "white",
           "caxis": {
            "gridcolor": "#DFE8F3",
            "linecolor": "#A2B1C6",
            "ticks": ""
           }
          },
          "title": {
           "x": 0.5,
           "xanchor": "center"
          },
          "xaxis": {
           "automargin": true,
           "gridcolor": "#EBF0F8",
           "linecolor": "#EBF0F8",
           "ticks": "",
           "title": {
            "standoff": 15
           },
           "zerolinecolor": "#EBF0F8",
           "zerolinewidth": 2
          },
          "yaxis": {
           "automargin": true,
           "gridcolor": "#EBF0F8",
           "linecolor": "#EBF0F8",
           "ticks": "",
           "title": {
            "standoff": 15
           },
           "zerolinecolor": "#EBF0F8",
           "zerolinewidth": 2
          }
         }
        },
        "title": {
         "text": "DermaNet Validation Epoch Loss"
        },
        "width": 700,
        "xaxis": {
         "anchor": "y",
         "domain": [
          0,
          1
         ],
         "range": [
          0,
          78.9746835443038
         ],
         "title": {
          "text": "Epoch"
         }
        },
        "yaxis": {
         "anchor": "x",
         "domain": [
          0,
          1
         ],
         "range": [
          1.5,
          2.4822591662406923
         ],
         "title": {
          "text": "Loss"
         }
        }
       }
      }
     },
     "metadata": {},
     "output_type": "display_data"
    }
   ],
   "source": [
    "# DermaNet: validation epoch loss\n",
    "val_epoch_loss = pd.read_csv('../outputs/results_data/dermanet_training/dermanet_val_eoch_loss.csv')\n",
    "if 'Step' in val_epoch_loss.columns:\n",
    "    val_epoch_loss['Epoch'] = val_epoch_loss['Step'] / 79.0\n",
    "fig = px.line(\n",
    "    val_epoch_loss,\n",
    "    x='Epoch' if 'Epoch' in val_epoch_loss.columns else val_epoch_loss.index,\n",
    "    y='Value',\n",
    "    title='DermaNet Validation Epoch Loss',\n",
    "    labels={'Epoch': 'Epoch', 'Value': 'Loss'},\n",
    "    color_discrete_sequence=[DARK_BG]\n",
    ")\n",
    "fig.update_layout(yaxis_range=[min(1.5, val_epoch_loss['Value'].min()*0.95), max(0.1, val_epoch_loss['Value'].max()*1.05)], xaxis_range=[(val_epoch_loss['Epoch'].min() - 1) if 'Epoch' in val_epoch_loss.columns else None, (val_epoch_loss['Epoch'].max() + 1) if 'Epoch' in val_epoch_loss.columns else None], width=700, height=500)\n",
    "fig.write_image('imgs/dermanet_val_epoch_loss.png', scale=2)\n",
    "fig.show()"
   ]
  },
  {
   "cell_type": "code",
   "execution_count": 50,
   "id": "4539d108",
   "metadata": {},
   "outputs": [
    {
     "data": {
      "application/vnd.plotly.v1+json": {
       "config": {
        "plotlyServerURL": "https://plot.ly"
       },
       "data": [
        {
         "hovertemplate": "Epoch=%{x}<br>Top-1 Accuracy=%{y}<extra></extra>",
         "legendgroup": "",
         "line": {
          "color": "#e76f51",
          "dash": "solid"
         },
         "marker": {
          "symbol": "circle"
         },
         "mode": "lines",
         "name": "",
         "orientation": "v",
         "showlegend": false,
         "type": "scatter",
         "x": {
          "bdata": "AAAAAAAA8D80EJWO7BkAQGggKh3ZMwhATpjf1eImEEBoICod2TMUQIKodGTPQBhAnDC/q8VNHEBb3IT5XS0gQGggKh3ZMyJAdWTPQFQ6JECCqHRkz0AmQI/sGYhKRyhAnDC/q8VNKkCpdGTPQFQsQLW4CfO7Wi5AYX5Xi5swMEBoICod2TMxQG7C/K4WNzJAdWTPQFQ6M0B7BqLSkT00QIKodGTPQDVAiEpH9gxENkCP7BmISkc3QJWO7BmISjhAnDC/q8VNOUCi0pE9A1E6QKl0ZM9AVDtArxY3YX5XPEC1uAnzu1o9QLxa3IT5XT5AwvyuFjdhP0Bkz0BUOjJAQGggKh3Zs0BAa3ET5nc1QUBuwvyuFrdBQHET5ne1OEJAdWTPQFS6QkB4tbgJ8ztDQHsGotKRvUNAfleLmzA/RECCqHRkz8BEQIX5XS1uQkVAiEpH9gzERUCLmzC/q0VGQI/sGYhKx0ZAkj0DUelIR0CVjuwZiMpHQJjf1eImTEhAnDC/q8XNSECfgah0ZM9IQJ+BqHRkT0lAotKRPQPRSUClI3sGolJKQKl0ZM9A1EpArMVNmN9VS0CvFjdhftdLQLJnICodWUxAtbgJ87vaTEC5CfO7WlxNQLxa3IT53U1Av6vFTZhfTkDC/K4WN+FOQMZNmN/VYk9AyZ6BqHTkT0Dmd7W4CTNQQGggKh3Zc1BA6ciegai0UEBrcRPmd/VQQO0ZiEpHNlFAbsL8rhZ3UUDwanET5rdRQHET5ne1+FFA87ta3IQ5UkB1ZM9AVHpSQPYMRKUju1JAeLW4CfP7UkD6XS1uwjxTQHsGotKRfVNA/a4WN2F+U0A=",
          "dtype": "f8"
         },
         "xaxis": "x",
         "y": {
          "bdata": "/v//v+p6yj8AAAAAdk/VPwAAAMB4uNg/AAAAgBHC2T////8/JvzbPwAAAABItNw/AAAAYNsa3T////9/eF7ePwAAAMCtxd0/AAAAYBBr3T8AAABAhEDfPwAAAGAsEOE/AAAAQGQ84D8AAAAg1j/hPwAAACAHIuE/AAAAwIOl4T8AAADAYenhPwAAAECn1uE/AAAAQHhb4j8AAACgTZjiPwAAAMA69eE/AAAAAGMu4j8AAAAA2TnjPwAAAEBNhOM/AAAAQNJ74j8AAADAQlPjPwAAAICAluM/AAAAgLEh5D8AAABAWUzjPwAAAMBjEOQ/AAAAoN484z8AAAAgn3LkPwAAAEA8oOQ/AAAAgMfm5D8AAACAi2rkPwAAACCPB+U/AAAAoHJ05D8AAAAA58rkPwAAAEDYkuU/AAAA4Aom5T8AAABAt4nlPwAAAGBrYeU/AAAAwCAX5T8AAABgox7lPwAAAKDODOY/AAAAgKq65T8AAAAgs3flPwAAAIBbF+U/AAAA4AYr5j8AAABAt4nlPwAAACAcH+Y/AAAAQK/E5T8AAABAYhjmPwAAAODb6uU/AAAAIEWL5T8AAACAXxPmPwAAAMA63+U/AAAAACpI5j8AAADgzzjmPwAAAAClieY/AAAAACZa5j8AAAAAhP7lPwAAAKBUBuY/AAAAgGpa5j8AAACA+JLmPwAAAIB6deY/AAAAAMo55j8AAACAnKLmPwAAAEAUoeY/AAAAQC7C5j8AAAAAXIvmPwAAAKB6o+Y/AAAAQMSO5j8AAABAr4DmPwAAAACYkOY/AAAAgNxk5j8AAADARoPmPwAAAMCOhuY/AAAAAIT+5T8=",
          "dtype": "f8"
         },
         "yaxis": "y"
        }
       ],
       "layout": {
        "height": 500,
        "legend": {
         "tracegroupgap": 0
        },
        "template": {
         "data": {
          "bar": [
           {
            "error_x": {
             "color": "#2a3f5f"
            },
            "error_y": {
             "color": "#2a3f5f"
            },
            "marker": {
             "line": {
              "color": "white",
              "width": 0.5
             },
             "pattern": {
              "fillmode": "overlay",
              "size": 10,
              "solidity": 0.2
             }
            },
            "type": "bar"
           }
          ],
          "barpolar": [
           {
            "marker": {
             "line": {
              "color": "white",
              "width": 0.5
             },
             "pattern": {
              "fillmode": "overlay",
              "size": 10,
              "solidity": 0.2
             }
            },
            "type": "barpolar"
           }
          ],
          "carpet": [
           {
            "aaxis": {
             "endlinecolor": "#2a3f5f",
             "gridcolor": "#C8D4E3",
             "linecolor": "#C8D4E3",
             "minorgridcolor": "#C8D4E3",
             "startlinecolor": "#2a3f5f"
            },
            "baxis": {
             "endlinecolor": "#2a3f5f",
             "gridcolor": "#C8D4E3",
             "linecolor": "#C8D4E3",
             "minorgridcolor": "#C8D4E3",
             "startlinecolor": "#2a3f5f"
            },
            "type": "carpet"
           }
          ],
          "choropleth": [
           {
            "colorbar": {
             "outlinewidth": 0,
             "ticks": ""
            },
            "type": "choropleth"
           }
          ],
          "contour": [
           {
            "colorbar": {
             "outlinewidth": 0,
             "ticks": ""
            },
            "colorscale": [
             [
              0,
              "#0d0887"
             ],
             [
              0.1111111111111111,
              "#46039f"
             ],
             [
              0.2222222222222222,
              "#7201a8"
             ],
             [
              0.3333333333333333,
              "#9c179e"
             ],
             [
              0.4444444444444444,
              "#bd3786"
             ],
             [
              0.5555555555555556,
              "#d8576b"
             ],
             [
              0.6666666666666666,
              "#ed7953"
             ],
             [
              0.7777777777777778,
              "#fb9f3a"
             ],
             [
              0.8888888888888888,
              "#fdca26"
             ],
             [
              1,
              "#f0f921"
             ]
            ],
            "type": "contour"
           }
          ],
          "contourcarpet": [
           {
            "colorbar": {
             "outlinewidth": 0,
             "ticks": ""
            },
            "type": "contourcarpet"
           }
          ],
          "heatmap": [
           {
            "colorbar": {
             "outlinewidth": 0,
             "ticks": ""
            },
            "colorscale": [
             [
              0,
              "#0d0887"
             ],
             [
              0.1111111111111111,
              "#46039f"
             ],
             [
              0.2222222222222222,
              "#7201a8"
             ],
             [
              0.3333333333333333,
              "#9c179e"
             ],
             [
              0.4444444444444444,
              "#bd3786"
             ],
             [
              0.5555555555555556,
              "#d8576b"
             ],
             [
              0.6666666666666666,
              "#ed7953"
             ],
             [
              0.7777777777777778,
              "#fb9f3a"
             ],
             [
              0.8888888888888888,
              "#fdca26"
             ],
             [
              1,
              "#f0f921"
             ]
            ],
            "type": "heatmap"
           }
          ],
          "histogram": [
           {
            "marker": {
             "pattern": {
              "fillmode": "overlay",
              "size": 10,
              "solidity": 0.2
             }
            },
            "type": "histogram"
           }
          ],
          "histogram2d": [
           {
            "colorbar": {
             "outlinewidth": 0,
             "ticks": ""
            },
            "colorscale": [
             [
              0,
              "#0d0887"
             ],
             [
              0.1111111111111111,
              "#46039f"
             ],
             [
              0.2222222222222222,
              "#7201a8"
             ],
             [
              0.3333333333333333,
              "#9c179e"
             ],
             [
              0.4444444444444444,
              "#bd3786"
             ],
             [
              0.5555555555555556,
              "#d8576b"
             ],
             [
              0.6666666666666666,
              "#ed7953"
             ],
             [
              0.7777777777777778,
              "#fb9f3a"
             ],
             [
              0.8888888888888888,
              "#fdca26"
             ],
             [
              1,
              "#f0f921"
             ]
            ],
            "type": "histogram2d"
           }
          ],
          "histogram2dcontour": [
           {
            "colorbar": {
             "outlinewidth": 0,
             "ticks": ""
            },
            "colorscale": [
             [
              0,
              "#0d0887"
             ],
             [
              0.1111111111111111,
              "#46039f"
             ],
             [
              0.2222222222222222,
              "#7201a8"
             ],
             [
              0.3333333333333333,
              "#9c179e"
             ],
             [
              0.4444444444444444,
              "#bd3786"
             ],
             [
              0.5555555555555556,
              "#d8576b"
             ],
             [
              0.6666666666666666,
              "#ed7953"
             ],
             [
              0.7777777777777778,
              "#fb9f3a"
             ],
             [
              0.8888888888888888,
              "#fdca26"
             ],
             [
              1,
              "#f0f921"
             ]
            ],
            "type": "histogram2dcontour"
           }
          ],
          "mesh3d": [
           {
            "colorbar": {
             "outlinewidth": 0,
             "ticks": ""
            },
            "type": "mesh3d"
           }
          ],
          "parcoords": [
           {
            "line": {
             "colorbar": {
              "outlinewidth": 0,
              "ticks": ""
             }
            },
            "type": "parcoords"
           }
          ],
          "pie": [
           {
            "automargin": true,
            "type": "pie"
           }
          ],
          "scatter": [
           {
            "fillpattern": {
             "fillmode": "overlay",
             "size": 10,
             "solidity": 0.2
            },
            "type": "scatter"
           }
          ],
          "scatter3d": [
           {
            "line": {
             "colorbar": {
              "outlinewidth": 0,
              "ticks": ""
             }
            },
            "marker": {
             "colorbar": {
              "outlinewidth": 0,
              "ticks": ""
             }
            },
            "type": "scatter3d"
           }
          ],
          "scattercarpet": [
           {
            "marker": {
             "colorbar": {
              "outlinewidth": 0,
              "ticks": ""
             }
            },
            "type": "scattercarpet"
           }
          ],
          "scattergeo": [
           {
            "marker": {
             "colorbar": {
              "outlinewidth": 0,
              "ticks": ""
             }
            },
            "type": "scattergeo"
           }
          ],
          "scattergl": [
           {
            "marker": {
             "colorbar": {
              "outlinewidth": 0,
              "ticks": ""
             }
            },
            "type": "scattergl"
           }
          ],
          "scattermap": [
           {
            "marker": {
             "colorbar": {
              "outlinewidth": 0,
              "ticks": ""
             }
            },
            "type": "scattermap"
           }
          ],
          "scattermapbox": [
           {
            "marker": {
             "colorbar": {
              "outlinewidth": 0,
              "ticks": ""
             }
            },
            "type": "scattermapbox"
           }
          ],
          "scatterpolar": [
           {
            "marker": {
             "colorbar": {
              "outlinewidth": 0,
              "ticks": ""
             }
            },
            "type": "scatterpolar"
           }
          ],
          "scatterpolargl": [
           {
            "marker": {
             "colorbar": {
              "outlinewidth": 0,
              "ticks": ""
             }
            },
            "type": "scatterpolargl"
           }
          ],
          "scatterternary": [
           {
            "marker": {
             "colorbar": {
              "outlinewidth": 0,
              "ticks": ""
             }
            },
            "type": "scatterternary"
           }
          ],
          "surface": [
           {
            "colorbar": {
             "outlinewidth": 0,
             "ticks": ""
            },
            "colorscale": [
             [
              0,
              "#0d0887"
             ],
             [
              0.1111111111111111,
              "#46039f"
             ],
             [
              0.2222222222222222,
              "#7201a8"
             ],
             [
              0.3333333333333333,
              "#9c179e"
             ],
             [
              0.4444444444444444,
              "#bd3786"
             ],
             [
              0.5555555555555556,
              "#d8576b"
             ],
             [
              0.6666666666666666,
              "#ed7953"
             ],
             [
              0.7777777777777778,
              "#fb9f3a"
             ],
             [
              0.8888888888888888,
              "#fdca26"
             ],
             [
              1,
              "#f0f921"
             ]
            ],
            "type": "surface"
           }
          ],
          "table": [
           {
            "cells": {
             "fill": {
              "color": "#EBF0F8"
             },
             "line": {
              "color": "white"
             }
            },
            "header": {
             "fill": {
              "color": "#C8D4E3"
             },
             "line": {
              "color": "white"
             }
            },
            "type": "table"
           }
          ]
         },
         "layout": {
          "annotationdefaults": {
           "arrowcolor": "#2a3f5f",
           "arrowhead": 0,
           "arrowwidth": 1
          },
          "autotypenumbers": "strict",
          "coloraxis": {
           "colorbar": {
            "outlinewidth": 0,
            "ticks": ""
           }
          },
          "colorscale": {
           "diverging": [
            [
             0,
             "#8e0152"
            ],
            [
             0.1,
             "#c51b7d"
            ],
            [
             0.2,
             "#de77ae"
            ],
            [
             0.3,
             "#f1b6da"
            ],
            [
             0.4,
             "#fde0ef"
            ],
            [
             0.5,
             "#f7f7f7"
            ],
            [
             0.6,
             "#e6f5d0"
            ],
            [
             0.7,
             "#b8e186"
            ],
            [
             0.8,
             "#7fbc41"
            ],
            [
             0.9,
             "#4d9221"
            ],
            [
             1,
             "#276419"
            ]
           ],
           "sequential": [
            [
             0,
             "#0d0887"
            ],
            [
             0.1111111111111111,
             "#46039f"
            ],
            [
             0.2222222222222222,
             "#7201a8"
            ],
            [
             0.3333333333333333,
             "#9c179e"
            ],
            [
             0.4444444444444444,
             "#bd3786"
            ],
            [
             0.5555555555555556,
             "#d8576b"
            ],
            [
             0.6666666666666666,
             "#ed7953"
            ],
            [
             0.7777777777777778,
             "#fb9f3a"
            ],
            [
             0.8888888888888888,
             "#fdca26"
            ],
            [
             1,
             "#f0f921"
            ]
           ],
           "sequentialminus": [
            [
             0,
             "#0d0887"
            ],
            [
             0.1111111111111111,
             "#46039f"
            ],
            [
             0.2222222222222222,
             "#7201a8"
            ],
            [
             0.3333333333333333,
             "#9c179e"
            ],
            [
             0.4444444444444444,
             "#bd3786"
            ],
            [
             0.5555555555555556,
             "#d8576b"
            ],
            [
             0.6666666666666666,
             "#ed7953"
            ],
            [
             0.7777777777777778,
             "#fb9f3a"
            ],
            [
             0.8888888888888888,
             "#fdca26"
            ],
            [
             1,
             "#f0f921"
            ]
           ]
          },
          "colorway": [
           "#36b7d2",
           "#e76f51",
           "#f6bb37",
           "#264653",
           "#f3b3b4",
           "#2a9d8f",
           "#8455cb",
           "#f4a261",
           "#e76f51",
           "#264653"
          ],
          "font": {
           "color": "#3A3A3A",
           "family": "Palatino, 'Palatino Linotype', 'Book Antiqua', serif"
          },
          "geo": {
           "bgcolor": "white",
           "lakecolor": "white",
           "landcolor": "white",
           "showlakes": true,
           "showland": true,
           "subunitcolor": "#C8D4E3"
          },
          "hoverlabel": {
           "align": "left"
          },
          "hovermode": "closest",
          "mapbox": {
           "style": "light"
          },
          "paper_bgcolor": "rgba(0,0,0,0)",
          "plot_bgcolor": "white",
          "polar": {
           "angularaxis": {
            "gridcolor": "#EBF0F8",
            "linecolor": "#EBF0F8",
            "ticks": ""
           },
           "bgcolor": "white",
           "radialaxis": {
            "gridcolor": "#EBF0F8",
            "linecolor": "#EBF0F8",
            "ticks": ""
           }
          },
          "scene": {
           "xaxis": {
            "backgroundcolor": "white",
            "gridcolor": "#DFE8F3",
            "gridwidth": 2,
            "linecolor": "#EBF0F8",
            "showbackground": true,
            "ticks": "",
            "zerolinecolor": "#EBF0F8"
           },
           "yaxis": {
            "backgroundcolor": "white",
            "gridcolor": "#DFE8F3",
            "gridwidth": 2,
            "linecolor": "#EBF0F8",
            "showbackground": true,
            "ticks": "",
            "zerolinecolor": "#EBF0F8"
           },
           "zaxis": {
            "backgroundcolor": "white",
            "gridcolor": "#DFE8F3",
            "gridwidth": 2,
            "linecolor": "#EBF0F8",
            "showbackground": true,
            "ticks": "",
            "zerolinecolor": "#EBF0F8"
           }
          },
          "shapedefaults": {
           "line": {
            "color": "#2a3f5f"
           }
          },
          "ternary": {
           "aaxis": {
            "gridcolor": "#DFE8F3",
            "linecolor": "#A2B1C6",
            "ticks": ""
           },
           "baxis": {
            "gridcolor": "#DFE8F3",
            "linecolor": "#A2B1C6",
            "ticks": ""
           },
           "bgcolor": "white",
           "caxis": {
            "gridcolor": "#DFE8F3",
            "linecolor": "#A2B1C6",
            "ticks": ""
           }
          },
          "title": {
           "x": 0.5,
           "xanchor": "center"
          },
          "xaxis": {
           "automargin": true,
           "gridcolor": "#EBF0F8",
           "linecolor": "#EBF0F8",
           "ticks": "",
           "title": {
            "standoff": 15
           },
           "zerolinecolor": "#EBF0F8",
           "zerolinewidth": 2
          },
          "yaxis": {
           "automargin": true,
           "gridcolor": "#EBF0F8",
           "linecolor": "#EBF0F8",
           "ticks": "",
           "title": {
            "standoff": 15
           },
           "zerolinecolor": "#EBF0F8",
           "zerolinewidth": 2
          }
         }
        },
        "title": {
         "text": "DermaNet Validation Top-1 Accuracy"
        },
        "width": 700,
        "xaxis": {
         "anchor": "y",
         "domain": [
          0,
          1
         ],
         "range": [
          0,
          78.9746835443038
         ],
         "title": {
          "text": "Epoch"
         }
        },
        "yaxis": {
         "anchor": "x",
         "domain": [
          0,
          1
         ],
         "range": [
          0.1965323224663734,
          0.7467638790607453
         ],
         "title": {
          "text": "Top-1 Accuracy"
         }
        }
       }
      }
     },
     "metadata": {},
     "output_type": "display_data"
    }
   ],
   "source": [
    "# DermaNet: validation top-1 accuracy\n",
    "val_acc1 = pd.read_csv('../outputs/results_data/dermanet_training/dermanet_val_acc1.csv')\n",
    "if 'Step' in val_acc1.columns:\n",
    "    val_acc1['Epoch'] = val_acc1['Step'] / 79.0\n",
    "fig = px.line(\n",
    "    val_acc1,\n",
    "    x='Epoch' if 'Epoch' in val_acc1.columns else val_acc1.index,\n",
    "    y='Value',\n",
    "    title='DermaNet Validation Top-1 Accuracy',\n",
    "    labels={'Epoch': 'Epoch', 'Value': 'Top-1 Accuracy'},\n",
    "    color_discrete_sequence=[ACCENT3]\n",
    ")\n",
    "fig.update_layout(yaxis_range=[max(0, val_acc1['Value'].min()*0.95), min(1, val_acc1['Value'].max()*1.05)], xaxis_range=[(val_acc1['Epoch'].min() - 1) if 'Epoch' in val_acc1.columns else None, (val_acc1['Epoch'].max() + 1) if 'Epoch' in val_acc1.columns else None], width=700, height=500)\n",
    "fig.write_image('imgs/dermanet_val_acc1.png', scale=2)\n",
    "fig.show()"
   ]
  },
  {
   "cell_type": "code",
   "execution_count": 51,
   "id": "8d659755",
   "metadata": {},
   "outputs": [
    {
     "data": {
      "application/vnd.plotly.v1+json": {
       "config": {
        "plotlyServerURL": "https://plot.ly"
       },
       "data": [
        {
         "hovertemplate": "Epoch=%{x}<br>Top-5 Accuracy=%{y}<extra></extra>",
         "legendgroup": "",
         "line": {
          "color": "#e76f51",
          "dash": "solid"
         },
         "marker": {
          "symbol": "circle"
         },
         "mode": "lines",
         "name": "",
         "orientation": "v",
         "showlegend": false,
         "type": "scatter",
         "x": {
          "bdata": "AAAAAAAA8D80EJWO7BkAQGggKh3ZMwhATpjf1eImEEBoICod2TMUQIKodGTPQBhAnDC/q8VNHEBb3IT5XS0gQGggKh3ZMyJAdWTPQFQ6JECCqHRkz0AmQI/sGYhKRyhAnDC/q8VNKkCpdGTPQFQsQLW4CfO7Wi5AYX5Xi5swMEBoICod2TMxQG7C/K4WNzJAdWTPQFQ6M0B7BqLSkT00QIKodGTPQDVAiEpH9gxENkCP7BmISkc3QJWO7BmISjhAnDC/q8VNOUCi0pE9A1E6QKl0ZM9AVDtArxY3YX5XPEC1uAnzu1o9QLxa3IT5XT5AwvyuFjdhP0Bkz0BUOjJAQGggKh3Zs0BAa3ET5nc1QUBuwvyuFrdBQHET5ne1OEJAdWTPQFS6QkB4tbgJ8ztDQHsGotKRvUNAfleLmzA/RECCqHRkz8BEQIX5XS1uQkVAiEpH9gzERUCLmzC/q0VGQI/sGYhKx0ZAkj0DUelIR0CVjuwZiMpHQJjf1eImTEhAnDC/q8XNSECfgah0ZM9IQJ+BqHRkT0lAotKRPQPRSUClI3sGolJKQKl0ZM9A1EpArMVNmN9VS0CvFjdhftdLQLJnICodWUxAtbgJ87vaTEC5CfO7WlxNQLxa3IT53U1Av6vFTZhfTkDC/K4WN+FOQMZNmN/VYk9AyZ6BqHTkT0Dmd7W4CTNQQGggKh3Zc1BA6ciegai0UEBrcRPmd/VQQO0ZiEpHNlFAbsL8rhZ3UUDwanET5rdRQHET5ne1+FFA87ta3IQ5UkB1ZM9AVHpSQPYMRKUju1JAeLW4CfP7UkD6XS1uwjxTQHsGotKRfVNA/a4WN2F+U0A=",
          "dtype": "f8"
         },
         "xaxis": "x",
         "y": {
          "bdata": "AAAAAB9Y6T8AAAAgKhHsP////5/9KO0/AAAAgG9p7T8BAAAA7C/tP////79Mq+0/AQAAgMVS7T8AAADA8IbuPwAAAEDQTO4/AAAAADAY7j8BAACAAnPuPwAAAKCat+4/AAAAoK517j8AAACAHs/uP/////+dyO4/AQAAwAJC7j8AAACA7ZLuP//////ar+4/AAAAgNaf7j8AAABABozuPwAAAICdWe4/AQAAIGKb7j8AAAAAOFXuP/////+nXO4/AAAAQKB/7j/////fVKzuPwAAAEBEle4/AAAAQGHA7j8AAABAGs7uPwEAAMBVze4/////H2OP7j8AAACAq4/uPwAAAMC3ku4/////P/PF7j8BAACAOcLuP////z95ge4/AAAAQBeR7j8AAABgjY/uPwAAAAC0Te4//////1I87j8AAABgnWHuPwAAAMBg++0/AAAAAIRV7j8AAADg98rtPwAAAAD8VO4/AQAA4BhV7j8BAABArVnuPwAAAGCRWu4/AAAAQMlc7j8AAABgnWHuPwAAAIAhG+4/AQAAgPTs7T8BAAAg4iHuPwAAAECbS+4/AAAAgNIs7j8AAABAETTuPwAAAACOZe4/AAAAIItg7j8BAABAp1/uPwAAAEAGPO4/////P38Y7j8AAADAK/3tPwEAACCvJu4/AAAAQMsA7j8AAAAAgwLuPwAAAEBMGe4/AAAAoFny7T////9/je/tP////3951O0/AAAAAMwJ7j////+/TPLtP////z8sBu4//////2jc7T8BAADgUSLuP/////+XAO4/AQAAAKvv7T8AAAAgfuHtPwAAAAC05O0/AAAAwCv97T8=",
          "dtype": "f8"
         },
         "yaxis": "y"
        }
       ],
       "layout": {
        "height": 500,
        "legend": {
         "tracegroupgap": 0
        },
        "template": {
         "data": {
          "bar": [
           {
            "error_x": {
             "color": "#2a3f5f"
            },
            "error_y": {
             "color": "#2a3f5f"
            },
            "marker": {
             "line": {
              "color": "white",
              "width": 0.5
             },
             "pattern": {
              "fillmode": "overlay",
              "size": 10,
              "solidity": 0.2
             }
            },
            "type": "bar"
           }
          ],
          "barpolar": [
           {
            "marker": {
             "line": {
              "color": "white",
              "width": 0.5
             },
             "pattern": {
              "fillmode": "overlay",
              "size": 10,
              "solidity": 0.2
             }
            },
            "type": "barpolar"
           }
          ],
          "carpet": [
           {
            "aaxis": {
             "endlinecolor": "#2a3f5f",
             "gridcolor": "#C8D4E3",
             "linecolor": "#C8D4E3",
             "minorgridcolor": "#C8D4E3",
             "startlinecolor": "#2a3f5f"
            },
            "baxis": {
             "endlinecolor": "#2a3f5f",
             "gridcolor": "#C8D4E3",
             "linecolor": "#C8D4E3",
             "minorgridcolor": "#C8D4E3",
             "startlinecolor": "#2a3f5f"
            },
            "type": "carpet"
           }
          ],
          "choropleth": [
           {
            "colorbar": {
             "outlinewidth": 0,
             "ticks": ""
            },
            "type": "choropleth"
           }
          ],
          "contour": [
           {
            "colorbar": {
             "outlinewidth": 0,
             "ticks": ""
            },
            "colorscale": [
             [
              0,
              "#0d0887"
             ],
             [
              0.1111111111111111,
              "#46039f"
             ],
             [
              0.2222222222222222,
              "#7201a8"
             ],
             [
              0.3333333333333333,
              "#9c179e"
             ],
             [
              0.4444444444444444,
              "#bd3786"
             ],
             [
              0.5555555555555556,
              "#d8576b"
             ],
             [
              0.6666666666666666,
              "#ed7953"
             ],
             [
              0.7777777777777778,
              "#fb9f3a"
             ],
             [
              0.8888888888888888,
              "#fdca26"
             ],
             [
              1,
              "#f0f921"
             ]
            ],
            "type": "contour"
           }
          ],
          "contourcarpet": [
           {
            "colorbar": {
             "outlinewidth": 0,
             "ticks": ""
            },
            "type": "contourcarpet"
           }
          ],
          "heatmap": [
           {
            "colorbar": {
             "outlinewidth": 0,
             "ticks": ""
            },
            "colorscale": [
             [
              0,
              "#0d0887"
             ],
             [
              0.1111111111111111,
              "#46039f"
             ],
             [
              0.2222222222222222,
              "#7201a8"
             ],
             [
              0.3333333333333333,
              "#9c179e"
             ],
             [
              0.4444444444444444,
              "#bd3786"
             ],
             [
              0.5555555555555556,
              "#d8576b"
             ],
             [
              0.6666666666666666,
              "#ed7953"
             ],
             [
              0.7777777777777778,
              "#fb9f3a"
             ],
             [
              0.8888888888888888,
              "#fdca26"
             ],
             [
              1,
              "#f0f921"
             ]
            ],
            "type": "heatmap"
           }
          ],
          "histogram": [
           {
            "marker": {
             "pattern": {
              "fillmode": "overlay",
              "size": 10,
              "solidity": 0.2
             }
            },
            "type": "histogram"
           }
          ],
          "histogram2d": [
           {
            "colorbar": {
             "outlinewidth": 0,
             "ticks": ""
            },
            "colorscale": [
             [
              0,
              "#0d0887"
             ],
             [
              0.1111111111111111,
              "#46039f"
             ],
             [
              0.2222222222222222,
              "#7201a8"
             ],
             [
              0.3333333333333333,
              "#9c179e"
             ],
             [
              0.4444444444444444,
              "#bd3786"
             ],
             [
              0.5555555555555556,
              "#d8576b"
             ],
             [
              0.6666666666666666,
              "#ed7953"
             ],
             [
              0.7777777777777778,
              "#fb9f3a"
             ],
             [
              0.8888888888888888,
              "#fdca26"
             ],
             [
              1,
              "#f0f921"
             ]
            ],
            "type": "histogram2d"
           }
          ],
          "histogram2dcontour": [
           {
            "colorbar": {
             "outlinewidth": 0,
             "ticks": ""
            },
            "colorscale": [
             [
              0,
              "#0d0887"
             ],
             [
              0.1111111111111111,
              "#46039f"
             ],
             [
              0.2222222222222222,
              "#7201a8"
             ],
             [
              0.3333333333333333,
              "#9c179e"
             ],
             [
              0.4444444444444444,
              "#bd3786"
             ],
             [
              0.5555555555555556,
              "#d8576b"
             ],
             [
              0.6666666666666666,
              "#ed7953"
             ],
             [
              0.7777777777777778,
              "#fb9f3a"
             ],
             [
              0.8888888888888888,
              "#fdca26"
             ],
             [
              1,
              "#f0f921"
             ]
            ],
            "type": "histogram2dcontour"
           }
          ],
          "mesh3d": [
           {
            "colorbar": {
             "outlinewidth": 0,
             "ticks": ""
            },
            "type": "mesh3d"
           }
          ],
          "parcoords": [
           {
            "line": {
             "colorbar": {
              "outlinewidth": 0,
              "ticks": ""
             }
            },
            "type": "parcoords"
           }
          ],
          "pie": [
           {
            "automargin": true,
            "type": "pie"
           }
          ],
          "scatter": [
           {
            "fillpattern": {
             "fillmode": "overlay",
             "size": 10,
             "solidity": 0.2
            },
            "type": "scatter"
           }
          ],
          "scatter3d": [
           {
            "line": {
             "colorbar": {
              "outlinewidth": 0,
              "ticks": ""
             }
            },
            "marker": {
             "colorbar": {
              "outlinewidth": 0,
              "ticks": ""
             }
            },
            "type": "scatter3d"
           }
          ],
          "scattercarpet": [
           {
            "marker": {
             "colorbar": {
              "outlinewidth": 0,
              "ticks": ""
             }
            },
            "type": "scattercarpet"
           }
          ],
          "scattergeo": [
           {
            "marker": {
             "colorbar": {
              "outlinewidth": 0,
              "ticks": ""
             }
            },
            "type": "scattergeo"
           }
          ],
          "scattergl": [
           {
            "marker": {
             "colorbar": {
              "outlinewidth": 0,
              "ticks": ""
             }
            },
            "type": "scattergl"
           }
          ],
          "scattermap": [
           {
            "marker": {
             "colorbar": {
              "outlinewidth": 0,
              "ticks": ""
             }
            },
            "type": "scattermap"
           }
          ],
          "scattermapbox": [
           {
            "marker": {
             "colorbar": {
              "outlinewidth": 0,
              "ticks": ""
             }
            },
            "type": "scattermapbox"
           }
          ],
          "scatterpolar": [
           {
            "marker": {
             "colorbar": {
              "outlinewidth": 0,
              "ticks": ""
             }
            },
            "type": "scatterpolar"
           }
          ],
          "scatterpolargl": [
           {
            "marker": {
             "colorbar": {
              "outlinewidth": 0,
              "ticks": ""
             }
            },
            "type": "scatterpolargl"
           }
          ],
          "scatterternary": [
           {
            "marker": {
             "colorbar": {
              "outlinewidth": 0,
              "ticks": ""
             }
            },
            "type": "scatterternary"
           }
          ],
          "surface": [
           {
            "colorbar": {
             "outlinewidth": 0,
             "ticks": ""
            },
            "colorscale": [
             [
              0,
              "#0d0887"
             ],
             [
              0.1111111111111111,
              "#46039f"
             ],
             [
              0.2222222222222222,
              "#7201a8"
             ],
             [
              0.3333333333333333,
              "#9c179e"
             ],
             [
              0.4444444444444444,
              "#bd3786"
             ],
             [
              0.5555555555555556,
              "#d8576b"
             ],
             [
              0.6666666666666666,
              "#ed7953"
             ],
             [
              0.7777777777777778,
              "#fb9f3a"
             ],
             [
              0.8888888888888888,
              "#fdca26"
             ],
             [
              1,
              "#f0f921"
             ]
            ],
            "type": "surface"
           }
          ],
          "table": [
           {
            "cells": {
             "fill": {
              "color": "#EBF0F8"
             },
             "line": {
              "color": "white"
             }
            },
            "header": {
             "fill": {
              "color": "#C8D4E3"
             },
             "line": {
              "color": "white"
             }
            },
            "type": "table"
           }
          ]
         },
         "layout": {
          "annotationdefaults": {
           "arrowcolor": "#2a3f5f",
           "arrowhead": 0,
           "arrowwidth": 1
          },
          "autotypenumbers": "strict",
          "coloraxis": {
           "colorbar": {
            "outlinewidth": 0,
            "ticks": ""
           }
          },
          "colorscale": {
           "diverging": [
            [
             0,
             "#8e0152"
            ],
            [
             0.1,
             "#c51b7d"
            ],
            [
             0.2,
             "#de77ae"
            ],
            [
             0.3,
             "#f1b6da"
            ],
            [
             0.4,
             "#fde0ef"
            ],
            [
             0.5,
             "#f7f7f7"
            ],
            [
             0.6,
             "#e6f5d0"
            ],
            [
             0.7,
             "#b8e186"
            ],
            [
             0.8,
             "#7fbc41"
            ],
            [
             0.9,
             "#4d9221"
            ],
            [
             1,
             "#276419"
            ]
           ],
           "sequential": [
            [
             0,
             "#0d0887"
            ],
            [
             0.1111111111111111,
             "#46039f"
            ],
            [
             0.2222222222222222,
             "#7201a8"
            ],
            [
             0.3333333333333333,
             "#9c179e"
            ],
            [
             0.4444444444444444,
             "#bd3786"
            ],
            [
             0.5555555555555556,
             "#d8576b"
            ],
            [
             0.6666666666666666,
             "#ed7953"
            ],
            [
             0.7777777777777778,
             "#fb9f3a"
            ],
            [
             0.8888888888888888,
             "#fdca26"
            ],
            [
             1,
             "#f0f921"
            ]
           ],
           "sequentialminus": [
            [
             0,
             "#0d0887"
            ],
            [
             0.1111111111111111,
             "#46039f"
            ],
            [
             0.2222222222222222,
             "#7201a8"
            ],
            [
             0.3333333333333333,
             "#9c179e"
            ],
            [
             0.4444444444444444,
             "#bd3786"
            ],
            [
             0.5555555555555556,
             "#d8576b"
            ],
            [
             0.6666666666666666,
             "#ed7953"
            ],
            [
             0.7777777777777778,
             "#fb9f3a"
            ],
            [
             0.8888888888888888,
             "#fdca26"
            ],
            [
             1,
             "#f0f921"
            ]
           ]
          },
          "colorway": [
           "#36b7d2",
           "#e76f51",
           "#f6bb37",
           "#264653",
           "#f3b3b4",
           "#2a9d8f",
           "#8455cb",
           "#f4a261",
           "#e76f51",
           "#264653"
          ],
          "font": {
           "color": "#3A3A3A",
           "family": "Palatino, 'Palatino Linotype', 'Book Antiqua', serif"
          },
          "geo": {
           "bgcolor": "white",
           "lakecolor": "white",
           "landcolor": "white",
           "showlakes": true,
           "showland": true,
           "subunitcolor": "#C8D4E3"
          },
          "hoverlabel": {
           "align": "left"
          },
          "hovermode": "closest",
          "mapbox": {
           "style": "light"
          },
          "paper_bgcolor": "rgba(0,0,0,0)",
          "plot_bgcolor": "white",
          "polar": {
           "angularaxis": {
            "gridcolor": "#EBF0F8",
            "linecolor": "#EBF0F8",
            "ticks": ""
           },
           "bgcolor": "white",
           "radialaxis": {
            "gridcolor": "#EBF0F8",
            "linecolor": "#EBF0F8",
            "ticks": ""
           }
          },
          "scene": {
           "xaxis": {
            "backgroundcolor": "white",
            "gridcolor": "#DFE8F3",
            "gridwidth": 2,
            "linecolor": "#EBF0F8",
            "showbackground": true,
            "ticks": "",
            "zerolinecolor": "#EBF0F8"
           },
           "yaxis": {
            "backgroundcolor": "white",
            "gridcolor": "#DFE8F3",
            "gridwidth": 2,
            "linecolor": "#EBF0F8",
            "showbackground": true,
            "ticks": "",
            "zerolinecolor": "#EBF0F8"
           },
           "zaxis": {
            "backgroundcolor": "white",
            "gridcolor": "#DFE8F3",
            "gridwidth": 2,
            "linecolor": "#EBF0F8",
            "showbackground": true,
            "ticks": "",
            "zerolinecolor": "#EBF0F8"
           }
          },
          "shapedefaults": {
           "line": {
            "color": "#2a3f5f"
           }
          },
          "ternary": {
           "aaxis": {
            "gridcolor": "#DFE8F3",
            "linecolor": "#A2B1C6",
            "ticks": ""
           },
           "baxis": {
            "gridcolor": "#DFE8F3",
            "linecolor": "#A2B1C6",
            "ticks": ""
           },
           "bgcolor": "white",
           "caxis": {
            "gridcolor": "#DFE8F3",
            "linecolor": "#A2B1C6",
            "ticks": ""
           }
          },
          "title": {
           "x": 0.5,
           "xanchor": "center"
          },
          "xaxis": {
           "automargin": true,
           "gridcolor": "#EBF0F8",
           "linecolor": "#EBF0F8",
           "ticks": "",
           "title": {
            "standoff": 15
           },
           "zerolinecolor": "#EBF0F8",
           "zerolinewidth": 2
          },
          "yaxis": {
           "automargin": true,
           "gridcolor": "#EBF0F8",
           "linecolor": "#EBF0F8",
           "ticks": "",
           "title": {
            "standoff": 15
           },
           "zerolinecolor": "#EBF0F8",
           "zerolinewidth": 2
          }
         }
        },
        "title": {
         "text": "DermaNet Validation Top-5 Accuracy"
        },
        "width": 700,
        "xaxis": {
         "anchor": "y",
         "domain": [
          0,
          1
         ],
         "range": [
          0,
          78.9746835443038
         ],
         "title": {
          "text": "Epoch"
         }
        },
        "yaxis": {
         "anchor": "x",
         "domain": [
          0,
          1
         ],
         "range": [
          0.752406620979309,
          1
         ],
         "title": {
          "text": "Top-5 Accuracy"
         }
        }
       }
      }
     },
     "metadata": {},
     "output_type": "display_data"
    }
   ],
   "source": [
    "# DermaNet: validation top-5 accuracy\n",
    "val_acc5 = pd.read_csv('../outputs/results_data/dermanet_training/dermanet_val_acc5.csv')\n",
    "if 'Step' in val_acc5.columns:\n",
    "    val_acc5['Epoch'] = val_acc5['Step'] / 79.0\n",
    "fig = px.line(\n",
    "    val_acc5,\n",
    "    x='Epoch' if 'Epoch' in val_acc5.columns else val_acc5.index,\n",
    "    y='Value',\n",
    "    title='DermaNet Validation Top-5 Accuracy',\n",
    "    labels={'Epoch': 'Epoch', 'Value': 'Top-5 Accuracy'},\n",
    "    color_discrete_sequence=[ACCENT3]\n",
    ")\n",
    "fig.update_layout(yaxis_range=[max(0, val_acc5['Value'].min()*0.95), min(1, val_acc5['Value'].max()*1.05)], xaxis_range=[(val_acc5['Epoch'].min() - 1) if 'Epoch' in val_acc5.columns else None, (val_acc5['Epoch'].max() + 1) if 'Epoch' in val_acc5.columns else None], width=700, height=500)\n",
    "fig.write_image('imgs/dermanet_val_acc5.png', scale=2)\n",
    "fig.show()"
   ]
  },
  {
   "cell_type": "code",
   "execution_count": 52,
   "id": "fb8061ec",
   "metadata": {},
   "outputs": [
    {
     "data": {
      "application/vnd.plotly.v1+json": {
       "config": {
        "plotlyServerURL": "https://plot.ly"
       },
       "data": [
        {
         "hovertemplate": "Epoch=%{x}<br>AUROC=%{y}<extra></extra>",
         "legendgroup": "",
         "line": {
          "color": "#e76f51",
          "dash": "solid"
         },
         "marker": {
          "symbol": "circle"
         },
         "mode": "lines",
         "name": "",
         "orientation": "v",
         "showlegend": false,
         "type": "scatter",
         "x": {
          "bdata": "AAAAAAAA8D80EJWO7BkAQGggKh3ZMwhATpjf1eImEEBoICod2TMUQIKodGTPQBhAnDC/q8VNHEBb3IT5XS0gQGggKh3ZMyJAdWTPQFQ6JECCqHRkz0AmQI/sGYhKRyhAnDC/q8VNKkCpdGTPQFQsQLW4CfO7Wi5AYX5Xi5swMEBoICod2TMxQG7C/K4WNzJAdWTPQFQ6M0B7BqLSkT00QIKodGTPQDVAiEpH9gxENkCP7BmISkc3QJWO7BmISjhAnDC/q8VNOUCi0pE9A1E6QKl0ZM9AVDtArxY3YX5XPEC1uAnzu1o9QLxa3IT5XT5AwvyuFjdhP0Bkz0BUOjJAQGggKh3Zs0BAa3ET5nc1QUBuwvyuFrdBQHET5ne1OEJAdWTPQFS6QkB4tbgJ8ztDQHsGotKRvUNAfleLmzA/RECCqHRkz8BEQIX5XS1uQkVAiEpH9gzERUCLmzC/q0VGQI/sGYhKx0ZAkj0DUelIR0CVjuwZiMpHQJjf1eImTEhAnDC/q8XNSECfgah0ZM9IQJ+BqHRkT0lAotKRPQPRSUClI3sGolJKQKl0ZM9A1EpArMVNmN9VS0CvFjdhftdLQLJnICodWUxAtbgJ87vaTEC5CfO7WlxNQLxa3IT53U1Av6vFTZhfTkDC/K4WN+FOQMZNmN/VYk9AyZ6BqHTkT0Dmd7W4CTNQQGggKh3Zc1BA6ciegai0UEBrcRPmd/VQQO0ZiEpHNlFAbsL8rhZ3UUDwanET5rdRQHET5ne1+FFA87ta3IQ5UkB1ZM9AVHpSQPYMRKUju1JAeLW4CfP7UkD6XS1uwjxTQHsGotKRfVNA/a4WN2F+U0A=",
          "dtype": "f8"
         },
         "xaxis": "x",
         "y": {
          "bdata": "AAAAQB8y5z8AAAAAzrfpPwAAAMAMfek/AAAAwLIA6j8AAAAAQhLrPwAAAMCPBes/AAAAQFI56z8AAAAAiWDrPwAAACAqfus/AAAAgLel6j8AAAAAu9XrPwAAAABeCOw/AAAAwNTb6z8AAAAAohnsPwAAAMAQF+w/AAAAwGEQ7D8AAABgymXsPwAAACDfPew/AAAAgN9Q7D8AAABgT2bsPwAAAODzg+w/AAAAwDBi7D8AAABARoHsPwAAAECSyew/AAAAgIqq7D8AAAAAZWTsPwEAAODP8uw/AAAAAK7L7D8AAAAgh83sPwAAAOBdrOw/AAAAYBDG7D////+/3NPsPwAAAMDfq+w/AAAAQFYP7T8AAACAHQTtP////98N9Ow/AAAAgGaX7D8BAADAgt3sPwAAAADN3Ow/AAAAwCjx7D8BAACAgBLtPwAAAEBjsew/AAAAQFS97D8AAABAXbPsPwAAAAA36uw/////X3n/7D8AAACA6cTsPwAAAAANpuw/AAAAADTs7D8BAACAgBLtPwEAAICIB+0/AAAAQNvY7D8BAADgZf7sPwAAAMAp8+w/AQAAAF4B7T8AAACA4u7sPwAAAIAaGu0/AAAAADgM7T////8/MO3sPwAAAMDX0Ow/AAAAwPfw7D8AAACA0h3tPwAAAODB/Ow/AAAAgGsH7T8AAABAlfXsP////1/C+uw/AAAAQAb17D////9f+xHtPwEAAKDR9+w/////P/sF7T8AAAAA+AjtP////3+NAu0/AAAAoKX57D8AAAAAdQPtP//////iC+0/AAAAAHgE7T8BAADAzwztPwAAAACN9uw/AAAAgNId7T8=",
          "dtype": "f8"
         },
         "yaxis": "y"
        }
       ],
       "layout": {
        "height": 500,
        "legend": {
         "tracegroupgap": 0
        },
        "template": {
         "data": {
          "bar": [
           {
            "error_x": {
             "color": "#2a3f5f"
            },
            "error_y": {
             "color": "#2a3f5f"
            },
            "marker": {
             "line": {
              "color": "white",
              "width": 0.5
             },
             "pattern": {
              "fillmode": "overlay",
              "size": 10,
              "solidity": 0.2
             }
            },
            "type": "bar"
           }
          ],
          "barpolar": [
           {
            "marker": {
             "line": {
              "color": "white",
              "width": 0.5
             },
             "pattern": {
              "fillmode": "overlay",
              "size": 10,
              "solidity": 0.2
             }
            },
            "type": "barpolar"
           }
          ],
          "carpet": [
           {
            "aaxis": {
             "endlinecolor": "#2a3f5f",
             "gridcolor": "#C8D4E3",
             "linecolor": "#C8D4E3",
             "minorgridcolor": "#C8D4E3",
             "startlinecolor": "#2a3f5f"
            },
            "baxis": {
             "endlinecolor": "#2a3f5f",
             "gridcolor": "#C8D4E3",
             "linecolor": "#C8D4E3",
             "minorgridcolor": "#C8D4E3",
             "startlinecolor": "#2a3f5f"
            },
            "type": "carpet"
           }
          ],
          "choropleth": [
           {
            "colorbar": {
             "outlinewidth": 0,
             "ticks": ""
            },
            "type": "choropleth"
           }
          ],
          "contour": [
           {
            "colorbar": {
             "outlinewidth": 0,
             "ticks": ""
            },
            "colorscale": [
             [
              0,
              "#0d0887"
             ],
             [
              0.1111111111111111,
              "#46039f"
             ],
             [
              0.2222222222222222,
              "#7201a8"
             ],
             [
              0.3333333333333333,
              "#9c179e"
             ],
             [
              0.4444444444444444,
              "#bd3786"
             ],
             [
              0.5555555555555556,
              "#d8576b"
             ],
             [
              0.6666666666666666,
              "#ed7953"
             ],
             [
              0.7777777777777778,
              "#fb9f3a"
             ],
             [
              0.8888888888888888,
              "#fdca26"
             ],
             [
              1,
              "#f0f921"
             ]
            ],
            "type": "contour"
           }
          ],
          "contourcarpet": [
           {
            "colorbar": {
             "outlinewidth": 0,
             "ticks": ""
            },
            "type": "contourcarpet"
           }
          ],
          "heatmap": [
           {
            "colorbar": {
             "outlinewidth": 0,
             "ticks": ""
            },
            "colorscale": [
             [
              0,
              "#0d0887"
             ],
             [
              0.1111111111111111,
              "#46039f"
             ],
             [
              0.2222222222222222,
              "#7201a8"
             ],
             [
              0.3333333333333333,
              "#9c179e"
             ],
             [
              0.4444444444444444,
              "#bd3786"
             ],
             [
              0.5555555555555556,
              "#d8576b"
             ],
             [
              0.6666666666666666,
              "#ed7953"
             ],
             [
              0.7777777777777778,
              "#fb9f3a"
             ],
             [
              0.8888888888888888,
              "#fdca26"
             ],
             [
              1,
              "#f0f921"
             ]
            ],
            "type": "heatmap"
           }
          ],
          "histogram": [
           {
            "marker": {
             "pattern": {
              "fillmode": "overlay",
              "size": 10,
              "solidity": 0.2
             }
            },
            "type": "histogram"
           }
          ],
          "histogram2d": [
           {
            "colorbar": {
             "outlinewidth": 0,
             "ticks": ""
            },
            "colorscale": [
             [
              0,
              "#0d0887"
             ],
             [
              0.1111111111111111,
              "#46039f"
             ],
             [
              0.2222222222222222,
              "#7201a8"
             ],
             [
              0.3333333333333333,
              "#9c179e"
             ],
             [
              0.4444444444444444,
              "#bd3786"
             ],
             [
              0.5555555555555556,
              "#d8576b"
             ],
             [
              0.6666666666666666,
              "#ed7953"
             ],
             [
              0.7777777777777778,
              "#fb9f3a"
             ],
             [
              0.8888888888888888,
              "#fdca26"
             ],
             [
              1,
              "#f0f921"
             ]
            ],
            "type": "histogram2d"
           }
          ],
          "histogram2dcontour": [
           {
            "colorbar": {
             "outlinewidth": 0,
             "ticks": ""
            },
            "colorscale": [
             [
              0,
              "#0d0887"
             ],
             [
              0.1111111111111111,
              "#46039f"
             ],
             [
              0.2222222222222222,
              "#7201a8"
             ],
             [
              0.3333333333333333,
              "#9c179e"
             ],
             [
              0.4444444444444444,
              "#bd3786"
             ],
             [
              0.5555555555555556,
              "#d8576b"
             ],
             [
              0.6666666666666666,
              "#ed7953"
             ],
             [
              0.7777777777777778,
              "#fb9f3a"
             ],
             [
              0.8888888888888888,
              "#fdca26"
             ],
             [
              1,
              "#f0f921"
             ]
            ],
            "type": "histogram2dcontour"
           }
          ],
          "mesh3d": [
           {
            "colorbar": {
             "outlinewidth": 0,
             "ticks": ""
            },
            "type": "mesh3d"
           }
          ],
          "parcoords": [
           {
            "line": {
             "colorbar": {
              "outlinewidth": 0,
              "ticks": ""
             }
            },
            "type": "parcoords"
           }
          ],
          "pie": [
           {
            "automargin": true,
            "type": "pie"
           }
          ],
          "scatter": [
           {
            "fillpattern": {
             "fillmode": "overlay",
             "size": 10,
             "solidity": 0.2
            },
            "type": "scatter"
           }
          ],
          "scatter3d": [
           {
            "line": {
             "colorbar": {
              "outlinewidth": 0,
              "ticks": ""
             }
            },
            "marker": {
             "colorbar": {
              "outlinewidth": 0,
              "ticks": ""
             }
            },
            "type": "scatter3d"
           }
          ],
          "scattercarpet": [
           {
            "marker": {
             "colorbar": {
              "outlinewidth": 0,
              "ticks": ""
             }
            },
            "type": "scattercarpet"
           }
          ],
          "scattergeo": [
           {
            "marker": {
             "colorbar": {
              "outlinewidth": 0,
              "ticks": ""
             }
            },
            "type": "scattergeo"
           }
          ],
          "scattergl": [
           {
            "marker": {
             "colorbar": {
              "outlinewidth": 0,
              "ticks": ""
             }
            },
            "type": "scattergl"
           }
          ],
          "scattermap": [
           {
            "marker": {
             "colorbar": {
              "outlinewidth": 0,
              "ticks": ""
             }
            },
            "type": "scattermap"
           }
          ],
          "scattermapbox": [
           {
            "marker": {
             "colorbar": {
              "outlinewidth": 0,
              "ticks": ""
             }
            },
            "type": "scattermapbox"
           }
          ],
          "scatterpolar": [
           {
            "marker": {
             "colorbar": {
              "outlinewidth": 0,
              "ticks": ""
             }
            },
            "type": "scatterpolar"
           }
          ],
          "scatterpolargl": [
           {
            "marker": {
             "colorbar": {
              "outlinewidth": 0,
              "ticks": ""
             }
            },
            "type": "scatterpolargl"
           }
          ],
          "scatterternary": [
           {
            "marker": {
             "colorbar": {
              "outlinewidth": 0,
              "ticks": ""
             }
            },
            "type": "scatterternary"
           }
          ],
          "surface": [
           {
            "colorbar": {
             "outlinewidth": 0,
             "ticks": ""
            },
            "colorscale": [
             [
              0,
              "#0d0887"
             ],
             [
              0.1111111111111111,
              "#46039f"
             ],
             [
              0.2222222222222222,
              "#7201a8"
             ],
             [
              0.3333333333333333,
              "#9c179e"
             ],
             [
              0.4444444444444444,
              "#bd3786"
             ],
             [
              0.5555555555555556,
              "#d8576b"
             ],
             [
              0.6666666666666666,
              "#ed7953"
             ],
             [
              0.7777777777777778,
              "#fb9f3a"
             ],
             [
              0.8888888888888888,
              "#fdca26"
             ],
             [
              1,
              "#f0f921"
             ]
            ],
            "type": "surface"
           }
          ],
          "table": [
           {
            "cells": {
             "fill": {
              "color": "#EBF0F8"
             },
             "line": {
              "color": "white"
             }
            },
            "header": {
             "fill": {
              "color": "#C8D4E3"
             },
             "line": {
              "color": "white"
             }
            },
            "type": "table"
           }
          ]
         },
         "layout": {
          "annotationdefaults": {
           "arrowcolor": "#2a3f5f",
           "arrowhead": 0,
           "arrowwidth": 1
          },
          "autotypenumbers": "strict",
          "coloraxis": {
           "colorbar": {
            "outlinewidth": 0,
            "ticks": ""
           }
          },
          "colorscale": {
           "diverging": [
            [
             0,
             "#8e0152"
            ],
            [
             0.1,
             "#c51b7d"
            ],
            [
             0.2,
             "#de77ae"
            ],
            [
             0.3,
             "#f1b6da"
            ],
            [
             0.4,
             "#fde0ef"
            ],
            [
             0.5,
             "#f7f7f7"
            ],
            [
             0.6,
             "#e6f5d0"
            ],
            [
             0.7,
             "#b8e186"
            ],
            [
             0.8,
             "#7fbc41"
            ],
            [
             0.9,
             "#4d9221"
            ],
            [
             1,
             "#276419"
            ]
           ],
           "sequential": [
            [
             0,
             "#0d0887"
            ],
            [
             0.1111111111111111,
             "#46039f"
            ],
            [
             0.2222222222222222,
             "#7201a8"
            ],
            [
             0.3333333333333333,
             "#9c179e"
            ],
            [
             0.4444444444444444,
             "#bd3786"
            ],
            [
             0.5555555555555556,
             "#d8576b"
            ],
            [
             0.6666666666666666,
             "#ed7953"
            ],
            [
             0.7777777777777778,
             "#fb9f3a"
            ],
            [
             0.8888888888888888,
             "#fdca26"
            ],
            [
             1,
             "#f0f921"
            ]
           ],
           "sequentialminus": [
            [
             0,
             "#0d0887"
            ],
            [
             0.1111111111111111,
             "#46039f"
            ],
            [
             0.2222222222222222,
             "#7201a8"
            ],
            [
             0.3333333333333333,
             "#9c179e"
            ],
            [
             0.4444444444444444,
             "#bd3786"
            ],
            [
             0.5555555555555556,
             "#d8576b"
            ],
            [
             0.6666666666666666,
             "#ed7953"
            ],
            [
             0.7777777777777778,
             "#fb9f3a"
            ],
            [
             0.8888888888888888,
             "#fdca26"
            ],
            [
             1,
             "#f0f921"
            ]
           ]
          },
          "colorway": [
           "#36b7d2",
           "#e76f51",
           "#f6bb37",
           "#264653",
           "#f3b3b4",
           "#2a9d8f",
           "#8455cb",
           "#f4a261",
           "#e76f51",
           "#264653"
          ],
          "font": {
           "color": "#3A3A3A",
           "family": "Palatino, 'Palatino Linotype', 'Book Antiqua', serif"
          },
          "geo": {
           "bgcolor": "white",
           "lakecolor": "white",
           "landcolor": "white",
           "showlakes": true,
           "showland": true,
           "subunitcolor": "#C8D4E3"
          },
          "hoverlabel": {
           "align": "left"
          },
          "hovermode": "closest",
          "mapbox": {
           "style": "light"
          },
          "paper_bgcolor": "rgba(0,0,0,0)",
          "plot_bgcolor": "white",
          "polar": {
           "angularaxis": {
            "gridcolor": "#EBF0F8",
            "linecolor": "#EBF0F8",
            "ticks": ""
           },
           "bgcolor": "white",
           "radialaxis": {
            "gridcolor": "#EBF0F8",
            "linecolor": "#EBF0F8",
            "ticks": ""
           }
          },
          "scene": {
           "xaxis": {
            "backgroundcolor": "white",
            "gridcolor": "#DFE8F3",
            "gridwidth": 2,
            "linecolor": "#EBF0F8",
            "showbackground": true,
            "ticks": "",
            "zerolinecolor": "#EBF0F8"
           },
           "yaxis": {
            "backgroundcolor": "white",
            "gridcolor": "#DFE8F3",
            "gridwidth": 2,
            "linecolor": "#EBF0F8",
            "showbackground": true,
            "ticks": "",
            "zerolinecolor": "#EBF0F8"
           },
           "zaxis": {
            "backgroundcolor": "white",
            "gridcolor": "#DFE8F3",
            "gridwidth": 2,
            "linecolor": "#EBF0F8",
            "showbackground": true,
            "ticks": "",
            "zerolinecolor": "#EBF0F8"
           }
          },
          "shapedefaults": {
           "line": {
            "color": "#2a3f5f"
           }
          },
          "ternary": {
           "aaxis": {
            "gridcolor": "#DFE8F3",
            "linecolor": "#A2B1C6",
            "ticks": ""
           },
           "baxis": {
            "gridcolor": "#DFE8F3",
            "linecolor": "#A2B1C6",
            "ticks": ""
           },
           "bgcolor": "white",
           "caxis": {
            "gridcolor": "#DFE8F3",
            "linecolor": "#A2B1C6",
            "ticks": ""
           }
          },
          "title": {
           "x": 0.5,
           "xanchor": "center"
          },
          "xaxis": {
           "automargin": true,
           "gridcolor": "#EBF0F8",
           "linecolor": "#EBF0F8",
           "ticks": "",
           "title": {
            "standoff": 15
           },
           "zerolinecolor": "#EBF0F8",
           "zerolinewidth": 2
          },
          "yaxis": {
           "automargin": true,
           "gridcolor": "#EBF0F8",
           "linecolor": "#EBF0F8",
           "ticks": "",
           "title": {
            "standoff": 15
           },
           "zerolinecolor": "#EBF0F8",
           "zerolinewidth": 2
          }
         }
        },
        "title": {
         "text": "DermaNet Validation AUROC"
        },
        "width": 700,
        "xaxis": {
         "anchor": "y",
         "domain": [
          0,
          1
         ],
         "range": [
          0,
          78.9746835443038
         ],
         "title": {
          "text": "Epoch"
         }
        },
        "yaxis": {
         "anchor": "x",
         "domain": [
          0,
          1
         ],
         "range": [
          0.6886249959468841,
          0.9553849339485169
         ],
         "title": {
          "text": "AUROC"
         }
        }
       }
      }
     },
     "metadata": {},
     "output_type": "display_data"
    }
   ],
   "source": [
    "# DermaNet: validation AUROC\n",
    "val_auroc = pd.read_csv('../outputs/results_data/dermanet_training/dermanet_val_auroc.csv')\n",
    "if 'Step' in val_auroc.columns:\n",
    "    val_auroc['Epoch'] = val_auroc['Step'] / 79.0\n",
    "fig = px.line(\n",
    "    val_auroc,\n",
    "    x='Epoch' if 'Epoch' in val_auroc.columns else val_auroc.index,\n",
    "    y='Value',\n",
    "    title='DermaNet Validation AUROC',\n",
    "    labels={'Epoch': 'Epoch', 'Value': 'AUROC'},\n",
    "    color_discrete_sequence=[ACCENT3]\n",
    ")\n",
    "fig.update_layout(yaxis_range=[max(0.6, val_auroc['Value'].min()*0.95), min(1, val_auroc['Value'].max()*1.05)], xaxis_range=[(val_auroc['Epoch'].min() - 1) if 'Epoch' in val_auroc.columns else None, (val_auroc['Epoch'].max() + 1) if 'Epoch' in val_auroc.columns else None], width=700, height=500)\n",
    "fig.write_image('imgs/dermanet_val_auroc.png', scale=2)\n",
    "fig.show()"
   ]
  },
  {
   "cell_type": "code",
   "execution_count": 53,
   "id": "67a0ba84",
   "metadata": {},
   "outputs": [
    {
     "data": {
      "application/vnd.plotly.v1+json": {
       "config": {
        "plotlyServerURL": "https://plot.ly"
       },
       "data": [
        {
         "hovertemplate": "Epoch=%{x}<br>F1 Score=%{y}<extra></extra>",
         "legendgroup": "",
         "line": {
          "color": "#e76f51",
          "dash": "solid"
         },
         "marker": {
          "symbol": "circle"
         },
         "mode": "lines",
         "name": "",
         "orientation": "v",
         "showlegend": false,
         "type": "scatter",
         "x": {
          "bdata": "AAAAAAAA8D80EJWO7BkAQGggKh3ZMwhATpjf1eImEEBoICod2TMUQIKodGTPQBhAnDC/q8VNHEBb3IT5XS0gQGggKh3ZMyJAdWTPQFQ6JECCqHRkz0AmQI/sGYhKRyhAnDC/q8VNKkCpdGTPQFQsQLW4CfO7Wi5AYX5Xi5swMEBoICod2TMxQG7C/K4WNzJAdWTPQFQ6M0B7BqLSkT00QIKodGTPQDVAiEpH9gxENkCP7BmISkc3QJWO7BmISjhAnDC/q8VNOUCi0pE9A1E6QKl0ZM9AVDtArxY3YX5XPEC1uAnzu1o9QLxa3IT5XT5AwvyuFjdhP0Bkz0BUOjJAQGggKh3Zs0BAa3ET5nc1QUBuwvyuFrdBQHET5ne1OEJAdWTPQFS6QkB4tbgJ8ztDQHsGotKRvUNAfleLmzA/RECCqHRkz8BEQIX5XS1uQkVAiEpH9gzERUCLmzC/q0VGQI/sGYhKx0ZAkj0DUelIR0CVjuwZiMpHQJjf1eImTEhAnDC/q8XNSECfgah0ZM9IQJ+BqHRkT0lAotKRPQPRSUClI3sGolJKQKl0ZM9A1EpArMVNmN9VS0CvFjdhftdLQLJnICodWUxAtbgJ87vaTEC5CfO7WlxNQLxa3IT53U1Av6vFTZhfTkDC/K4WN+FOQMZNmN/VYk9AyZ6BqHTkT0Dmd7W4CTNQQGggKh3Zc1BA6ciegai0UEBrcRPmd/VQQO0ZiEpHNlFAbsL8rhZ3UUDwanET5rdRQHET5ne1+FFA87ta3IQ5UkB1ZM9AVHpSQPYMRKUju1JAeLW4CfP7UkD6XS1uwjxTQHsGotKRfVNA/a4WN2F+U0A=",
          "dtype": "f8"
         },
         "xaxis": "x",
         "y": {
          "bdata": "////P+8ctD////+/kxLIP////z8tY9M/AAAAwOHs0T8AAADgg+jQPwAAAABImNQ/AAAAgFCD0j8AAABgzN3WPwAAAIDUcdQ/AAAAQM4Z1D8AAADAalXVPwAAAAC/M9c/AAAAAMlc1z8AAACAItPXPwAAAEBMFNc/AAAAADx62T////9fwc7YPwAAAKBjm9k/AAAAYBAc2j////+/iN/ZP////79CDNs/////v1Hu2j//////bYvcPwAAAMBkzNs/////f0b+3D////9/co7dP////79MsN4/AAAAgPCd3T////9fq6fdPwAAAIBoY94/////n3/S3T8AAADAfLLfPwAAAGDnoOA/AAAAIE4Z4D8AAADAPQDhPwAAAEBi3eA/AAAAwHhT4j8AAADAumHhPwAAAKDi/eA/AAAAQCHS4D8AAAAAC0fiPwAAAACJNuI/AAAAwNrn4T8AAAAAR6riPwAAAIAG/uE/AAAA4OyM4T8AAACAHgXiPwAAAEBloOI/AAAAAP3s4j8AAAAAC0fiPwAAAKBR7uI/AAAAAIbG4j8AAABA5IziPwAAAOCdGuM/AAAA4Omb4j8AAACgpELjPwAAAADdPOM/AAAAAHKc4z8AAAAAlWXjPwAAACDlyOM/AAAAIG544z8AAADgVQ/jPwAAAMARU+M/AAAAYL584z8AAAAA13rjPwAAACAHdeM/AAAAwDc+4z8AAAAAGuLjPwAAAMC8qeM/AAAAwEy04z8AAADg/YDjPwAAAGC10uM/AAAAAPjr4z8AAACgFHrjPwAAAMAwyeM/AAAAAEyh4z8AAADAvMjjPwAAAKCB2uM/AAAA4FUP4z8=",
          "dtype": "f8"
         },
         "yaxis": "y"
        }
       ],
       "layout": {
        "height": 500,
        "legend": {
         "tracegroupgap": 0
        },
        "template": {
         "data": {
          "bar": [
           {
            "error_x": {
             "color": "#2a3f5f"
            },
            "error_y": {
             "color": "#2a3f5f"
            },
            "marker": {
             "line": {
              "color": "white",
              "width": 0.5
             },
             "pattern": {
              "fillmode": "overlay",
              "size": 10,
              "solidity": 0.2
             }
            },
            "type": "bar"
           }
          ],
          "barpolar": [
           {
            "marker": {
             "line": {
              "color": "white",
              "width": 0.5
             },
             "pattern": {
              "fillmode": "overlay",
              "size": 10,
              "solidity": 0.2
             }
            },
            "type": "barpolar"
           }
          ],
          "carpet": [
           {
            "aaxis": {
             "endlinecolor": "#2a3f5f",
             "gridcolor": "#C8D4E3",
             "linecolor": "#C8D4E3",
             "minorgridcolor": "#C8D4E3",
             "startlinecolor": "#2a3f5f"
            },
            "baxis": {
             "endlinecolor": "#2a3f5f",
             "gridcolor": "#C8D4E3",
             "linecolor": "#C8D4E3",
             "minorgridcolor": "#C8D4E3",
             "startlinecolor": "#2a3f5f"
            },
            "type": "carpet"
           }
          ],
          "choropleth": [
           {
            "colorbar": {
             "outlinewidth": 0,
             "ticks": ""
            },
            "type": "choropleth"
           }
          ],
          "contour": [
           {
            "colorbar": {
             "outlinewidth": 0,
             "ticks": ""
            },
            "colorscale": [
             [
              0,
              "#0d0887"
             ],
             [
              0.1111111111111111,
              "#46039f"
             ],
             [
              0.2222222222222222,
              "#7201a8"
             ],
             [
              0.3333333333333333,
              "#9c179e"
             ],
             [
              0.4444444444444444,
              "#bd3786"
             ],
             [
              0.5555555555555556,
              "#d8576b"
             ],
             [
              0.6666666666666666,
              "#ed7953"
             ],
             [
              0.7777777777777778,
              "#fb9f3a"
             ],
             [
              0.8888888888888888,
              "#fdca26"
             ],
             [
              1,
              "#f0f921"
             ]
            ],
            "type": "contour"
           }
          ],
          "contourcarpet": [
           {
            "colorbar": {
             "outlinewidth": 0,
             "ticks": ""
            },
            "type": "contourcarpet"
           }
          ],
          "heatmap": [
           {
            "colorbar": {
             "outlinewidth": 0,
             "ticks": ""
            },
            "colorscale": [
             [
              0,
              "#0d0887"
             ],
             [
              0.1111111111111111,
              "#46039f"
             ],
             [
              0.2222222222222222,
              "#7201a8"
             ],
             [
              0.3333333333333333,
              "#9c179e"
             ],
             [
              0.4444444444444444,
              "#bd3786"
             ],
             [
              0.5555555555555556,
              "#d8576b"
             ],
             [
              0.6666666666666666,
              "#ed7953"
             ],
             [
              0.7777777777777778,
              "#fb9f3a"
             ],
             [
              0.8888888888888888,
              "#fdca26"
             ],
             [
              1,
              "#f0f921"
             ]
            ],
            "type": "heatmap"
           }
          ],
          "histogram": [
           {
            "marker": {
             "pattern": {
              "fillmode": "overlay",
              "size": 10,
              "solidity": 0.2
             }
            },
            "type": "histogram"
           }
          ],
          "histogram2d": [
           {
            "colorbar": {
             "outlinewidth": 0,
             "ticks": ""
            },
            "colorscale": [
             [
              0,
              "#0d0887"
             ],
             [
              0.1111111111111111,
              "#46039f"
             ],
             [
              0.2222222222222222,
              "#7201a8"
             ],
             [
              0.3333333333333333,
              "#9c179e"
             ],
             [
              0.4444444444444444,
              "#bd3786"
             ],
             [
              0.5555555555555556,
              "#d8576b"
             ],
             [
              0.6666666666666666,
              "#ed7953"
             ],
             [
              0.7777777777777778,
              "#fb9f3a"
             ],
             [
              0.8888888888888888,
              "#fdca26"
             ],
             [
              1,
              "#f0f921"
             ]
            ],
            "type": "histogram2d"
           }
          ],
          "histogram2dcontour": [
           {
            "colorbar": {
             "outlinewidth": 0,
             "ticks": ""
            },
            "colorscale": [
             [
              0,
              "#0d0887"
             ],
             [
              0.1111111111111111,
              "#46039f"
             ],
             [
              0.2222222222222222,
              "#7201a8"
             ],
             [
              0.3333333333333333,
              "#9c179e"
             ],
             [
              0.4444444444444444,
              "#bd3786"
             ],
             [
              0.5555555555555556,
              "#d8576b"
             ],
             [
              0.6666666666666666,
              "#ed7953"
             ],
             [
              0.7777777777777778,
              "#fb9f3a"
             ],
             [
              0.8888888888888888,
              "#fdca26"
             ],
             [
              1,
              "#f0f921"
             ]
            ],
            "type": "histogram2dcontour"
           }
          ],
          "mesh3d": [
           {
            "colorbar": {
             "outlinewidth": 0,
             "ticks": ""
            },
            "type": "mesh3d"
           }
          ],
          "parcoords": [
           {
            "line": {
             "colorbar": {
              "outlinewidth": 0,
              "ticks": ""
             }
            },
            "type": "parcoords"
           }
          ],
          "pie": [
           {
            "automargin": true,
            "type": "pie"
           }
          ],
          "scatter": [
           {
            "fillpattern": {
             "fillmode": "overlay",
             "size": 10,
             "solidity": 0.2
            },
            "type": "scatter"
           }
          ],
          "scatter3d": [
           {
            "line": {
             "colorbar": {
              "outlinewidth": 0,
              "ticks": ""
             }
            },
            "marker": {
             "colorbar": {
              "outlinewidth": 0,
              "ticks": ""
             }
            },
            "type": "scatter3d"
           }
          ],
          "scattercarpet": [
           {
            "marker": {
             "colorbar": {
              "outlinewidth": 0,
              "ticks": ""
             }
            },
            "type": "scattercarpet"
           }
          ],
          "scattergeo": [
           {
            "marker": {
             "colorbar": {
              "outlinewidth": 0,
              "ticks": ""
             }
            },
            "type": "scattergeo"
           }
          ],
          "scattergl": [
           {
            "marker": {
             "colorbar": {
              "outlinewidth": 0,
              "ticks": ""
             }
            },
            "type": "scattergl"
           }
          ],
          "scattermap": [
           {
            "marker": {
             "colorbar": {
              "outlinewidth": 0,
              "ticks": ""
             }
            },
            "type": "scattermap"
           }
          ],
          "scattermapbox": [
           {
            "marker": {
             "colorbar": {
              "outlinewidth": 0,
              "ticks": ""
             }
            },
            "type": "scattermapbox"
           }
          ],
          "scatterpolar": [
           {
            "marker": {
             "colorbar": {
              "outlinewidth": 0,
              "ticks": ""
             }
            },
            "type": "scatterpolar"
           }
          ],
          "scatterpolargl": [
           {
            "marker": {
             "colorbar": {
              "outlinewidth": 0,
              "ticks": ""
             }
            },
            "type": "scatterpolargl"
           }
          ],
          "scatterternary": [
           {
            "marker": {
             "colorbar": {
              "outlinewidth": 0,
              "ticks": ""
             }
            },
            "type": "scatterternary"
           }
          ],
          "surface": [
           {
            "colorbar": {
             "outlinewidth": 0,
             "ticks": ""
            },
            "colorscale": [
             [
              0,
              "#0d0887"
             ],
             [
              0.1111111111111111,
              "#46039f"
             ],
             [
              0.2222222222222222,
              "#7201a8"
             ],
             [
              0.3333333333333333,
              "#9c179e"
             ],
             [
              0.4444444444444444,
              "#bd3786"
             ],
             [
              0.5555555555555556,
              "#d8576b"
             ],
             [
              0.6666666666666666,
              "#ed7953"
             ],
             [
              0.7777777777777778,
              "#fb9f3a"
             ],
             [
              0.8888888888888888,
              "#fdca26"
             ],
             [
              1,
              "#f0f921"
             ]
            ],
            "type": "surface"
           }
          ],
          "table": [
           {
            "cells": {
             "fill": {
              "color": "#EBF0F8"
             },
             "line": {
              "color": "white"
             }
            },
            "header": {
             "fill": {
              "color": "#C8D4E3"
             },
             "line": {
              "color": "white"
             }
            },
            "type": "table"
           }
          ]
         },
         "layout": {
          "annotationdefaults": {
           "arrowcolor": "#2a3f5f",
           "arrowhead": 0,
           "arrowwidth": 1
          },
          "autotypenumbers": "strict",
          "coloraxis": {
           "colorbar": {
            "outlinewidth": 0,
            "ticks": ""
           }
          },
          "colorscale": {
           "diverging": [
            [
             0,
             "#8e0152"
            ],
            [
             0.1,
             "#c51b7d"
            ],
            [
             0.2,
             "#de77ae"
            ],
            [
             0.3,
             "#f1b6da"
            ],
            [
             0.4,
             "#fde0ef"
            ],
            [
             0.5,
             "#f7f7f7"
            ],
            [
             0.6,
             "#e6f5d0"
            ],
            [
             0.7,
             "#b8e186"
            ],
            [
             0.8,
             "#7fbc41"
            ],
            [
             0.9,
             "#4d9221"
            ],
            [
             1,
             "#276419"
            ]
           ],
           "sequential": [
            [
             0,
             "#0d0887"
            ],
            [
             0.1111111111111111,
             "#46039f"
            ],
            [
             0.2222222222222222,
             "#7201a8"
            ],
            [
             0.3333333333333333,
             "#9c179e"
            ],
            [
             0.4444444444444444,
             "#bd3786"
            ],
            [
             0.5555555555555556,
             "#d8576b"
            ],
            [
             0.6666666666666666,
             "#ed7953"
            ],
            [
             0.7777777777777778,
             "#fb9f3a"
            ],
            [
             0.8888888888888888,
             "#fdca26"
            ],
            [
             1,
             "#f0f921"
            ]
           ],
           "sequentialminus": [
            [
             0,
             "#0d0887"
            ],
            [
             0.1111111111111111,
             "#46039f"
            ],
            [
             0.2222222222222222,
             "#7201a8"
            ],
            [
             0.3333333333333333,
             "#9c179e"
            ],
            [
             0.4444444444444444,
             "#bd3786"
            ],
            [
             0.5555555555555556,
             "#d8576b"
            ],
            [
             0.6666666666666666,
             "#ed7953"
            ],
            [
             0.7777777777777778,
             "#fb9f3a"
            ],
            [
             0.8888888888888888,
             "#fdca26"
            ],
            [
             1,
             "#f0f921"
            ]
           ]
          },
          "colorway": [
           "#36b7d2",
           "#e76f51",
           "#f6bb37",
           "#264653",
           "#f3b3b4",
           "#2a9d8f",
           "#8455cb",
           "#f4a261",
           "#e76f51",
           "#264653"
          ],
          "font": {
           "color": "#3A3A3A",
           "family": "Palatino, 'Palatino Linotype', 'Book Antiqua', serif"
          },
          "geo": {
           "bgcolor": "white",
           "lakecolor": "white",
           "landcolor": "white",
           "showlakes": true,
           "showland": true,
           "subunitcolor": "#C8D4E3"
          },
          "hoverlabel": {
           "align": "left"
          },
          "hovermode": "closest",
          "mapbox": {
           "style": "light"
          },
          "paper_bgcolor": "rgba(0,0,0,0)",
          "plot_bgcolor": "white",
          "polar": {
           "angularaxis": {
            "gridcolor": "#EBF0F8",
            "linecolor": "#EBF0F8",
            "ticks": ""
           },
           "bgcolor": "white",
           "radialaxis": {
            "gridcolor": "#EBF0F8",
            "linecolor": "#EBF0F8",
            "ticks": ""
           }
          },
          "scene": {
           "xaxis": {
            "backgroundcolor": "white",
            "gridcolor": "#DFE8F3",
            "gridwidth": 2,
            "linecolor": "#EBF0F8",
            "showbackground": true,
            "ticks": "",
            "zerolinecolor": "#EBF0F8"
           },
           "yaxis": {
            "backgroundcolor": "white",
            "gridcolor": "#DFE8F3",
            "gridwidth": 2,
            "linecolor": "#EBF0F8",
            "showbackground": true,
            "ticks": "",
            "zerolinecolor": "#EBF0F8"
           },
           "zaxis": {
            "backgroundcolor": "white",
            "gridcolor": "#DFE8F3",
            "gridwidth": 2,
            "linecolor": "#EBF0F8",
            "showbackground": true,
            "ticks": "",
            "zerolinecolor": "#EBF0F8"
           }
          },
          "shapedefaults": {
           "line": {
            "color": "#2a3f5f"
           }
          },
          "ternary": {
           "aaxis": {
            "gridcolor": "#DFE8F3",
            "linecolor": "#A2B1C6",
            "ticks": ""
           },
           "baxis": {
            "gridcolor": "#DFE8F3",
            "linecolor": "#A2B1C6",
            "ticks": ""
           },
           "bgcolor": "white",
           "caxis": {
            "gridcolor": "#DFE8F3",
            "linecolor": "#A2B1C6",
            "ticks": ""
           }
          },
          "title": {
           "x": 0.5,
           "xanchor": "center"
          },
          "xaxis": {
           "automargin": true,
           "gridcolor": "#EBF0F8",
           "linecolor": "#EBF0F8",
           "ticks": "",
           "title": {
            "standoff": 15
           },
           "zerolinecolor": "#EBF0F8",
           "zerolinewidth": 2
          },
          "yaxis": {
           "automargin": true,
           "gridcolor": "#EBF0F8",
           "linecolor": "#EBF0F8",
           "ticks": "",
           "title": {
            "standoff": 15
           },
           "zerolinecolor": "#EBF0F8",
           "zerolinewidth": 2
          }
         }
        },
        "title": {
         "text": "DermaNet Validation F1 Score"
        },
        "width": 700,
        "xaxis": {
         "anchor": "y",
         "domain": [
          0,
          1
         ],
         "range": [
          0,
          78.9746835443038
         ],
         "title": {
          "text": "Epoch"
         }
        },
        "yaxis": {
         "anchor": "x",
         "domain": [
          0,
          1
         ],
         "range": [
          0.07463818117976187,
          0.6536825180053711
         ],
         "title": {
          "text": "F1 Score"
         }
        }
       }
      }
     },
     "metadata": {},
     "output_type": "display_data"
    }
   ],
   "source": [
    "# DermaNet: validation F1\n",
    "val_f1 = pd.read_csv('../outputs/results_data/dermanet_training/dermanet_val_f1.csv')\n",
    "if 'Step' in val_f1.columns:\n",
    "    val_f1['Epoch'] = val_f1['Step'] / 79.0\n",
    "fig = px.line(\n",
    "    val_f1,\n",
    "    x='Epoch' if 'Epoch' in val_f1.columns else val_f1.index,\n",
    "    y='Value',\n",
    "    title='DermaNet Validation F1 Score',\n",
    "    labels={'Epoch': 'Epoch', 'Value': 'F1 Score'},\n",
    "    color_discrete_sequence=[ACCENT3]\n",
    ")\n",
    "fig.update_layout(yaxis_range=[max(0, val_f1['Value'].min()*0.95), min(1, val_f1['Value'].max()*1.05)], xaxis_range=[(val_f1['Epoch'].min() - 1) if 'Epoch' in val_f1.columns else None, (val_f1['Epoch'].max() + 1) if 'Epoch' in val_f1.columns else None], width=700, height=500)\n",
    "fig.write_image('imgs/dermanet_val_f1.png', scale=2)\n",
    "fig.show()"
   ]
  },
  {
   "cell_type": "markdown",
   "id": "0df4ed00",
   "metadata": {},
   "source": [
    "## Dermanet with BYOL pretraining"
   ]
  },
  {
   "cell_type": "code",
   "execution_count": 80,
   "id": "118d43ac",
   "metadata": {},
   "outputs": [
    {
     "data": {
      "application/vnd.plotly.v1+json": {
       "config": {
        "plotlyServerURL": "https://plot.ly"
       },
       "data": [
        {
         "hovertemplate": "Training Step=%{x}<br>Loss=%{y}<extra></extra>",
         "legendgroup": "",
         "line": {
          "color": "#264653",
          "dash": "solid"
         },
         "marker": {
          "symbol": "circle"
         },
         "mode": "lines",
         "name": "",
         "orientation": "v",
         "showlegend": false,
         "type": "scatter",
         "x": {
          "bdata": "MQBjAJUAxwD5ACsBXQGPAcEB8wElAlcCiQK7Au0CHwNRA4MDtQPnAxkESwR9BK8E4QQTBUUFdwWpBdsFDQY/BnEGowbVBgcHOQdrB50HzwcBCDMIZQiXCMkI+wgtCV8JkQnDCfUJJwpZCosKvQo=",
          "dtype": "i2"
         },
         "xaxis": "x",
         "y": {
          "bdata": "AAAAQKAcA0AAAAAghiQAQP///79P8v8/AQAA4BYs/T8BAADAXFr9PwEAAOCV+/0/AAAAgI/5/j8AAACgZU/7PwAAAECazfo/AAAAoOxK+j8AAAAAgHv7PwAAAEA0bvo/AQAAoBER+T8AAADACRH5PwAAAAAQLvw/AQAAwJoC+j8AAABgWwn5PwEAAIDNnPo/AAAAICSM+z8AAABAXyv7PwAAAMA1+Pg/AQAAgAjS+j8AAAAggTz5PwAAAKBogfU/AAAAgDhf+j8AAAAgt3n3PwEAAMCc0vU/AAAAgP7d8j8AAACAOyP4PwAAAMDxVfc/AAAAYJ4q9T8AAADAlVX1PwAAAIDoo/U/AQAAQLjV9z8BAAAAbpD0P////3+0xfU/////P2QS9j8AAACgCiP5PwAAAIC6TvQ/AAAAIJN09T8BAAAgNqX0P////596Lfg/AAAAwE1E8z8AAAAA/mn2PwAAAIDsgvI/AAAAQGvQ8j8AAABghwD1PwAAAEBwL/A/AAAAgJVH8z8AAAAgkDv2PwAAAIAUlfM/AAAAoEgb8j8AAADAk1z0PwAAAIAUL/Q/AAAAQI5r8z8=",
          "dtype": "f8"
         },
         "yaxis": "y"
        }
       ],
       "layout": {
        "height": 500,
        "legend": {
         "tracegroupgap": 0
        },
        "template": {
         "data": {
          "bar": [
           {
            "error_x": {
             "color": "#2a3f5f"
            },
            "error_y": {
             "color": "#2a3f5f"
            },
            "marker": {
             "line": {
              "color": "white",
              "width": 0.5
             },
             "pattern": {
              "fillmode": "overlay",
              "size": 10,
              "solidity": 0.2
             }
            },
            "type": "bar"
           }
          ],
          "barpolar": [
           {
            "marker": {
             "line": {
              "color": "white",
              "width": 0.5
             },
             "pattern": {
              "fillmode": "overlay",
              "size": 10,
              "solidity": 0.2
             }
            },
            "type": "barpolar"
           }
          ],
          "carpet": [
           {
            "aaxis": {
             "endlinecolor": "#2a3f5f",
             "gridcolor": "#C8D4E3",
             "linecolor": "#C8D4E3",
             "minorgridcolor": "#C8D4E3",
             "startlinecolor": "#2a3f5f"
            },
            "baxis": {
             "endlinecolor": "#2a3f5f",
             "gridcolor": "#C8D4E3",
             "linecolor": "#C8D4E3",
             "minorgridcolor": "#C8D4E3",
             "startlinecolor": "#2a3f5f"
            },
            "type": "carpet"
           }
          ],
          "choropleth": [
           {
            "colorbar": {
             "outlinewidth": 0,
             "ticks": ""
            },
            "type": "choropleth"
           }
          ],
          "contour": [
           {
            "colorbar": {
             "outlinewidth": 0,
             "ticks": ""
            },
            "colorscale": [
             [
              0,
              "#0d0887"
             ],
             [
              0.1111111111111111,
              "#46039f"
             ],
             [
              0.2222222222222222,
              "#7201a8"
             ],
             [
              0.3333333333333333,
              "#9c179e"
             ],
             [
              0.4444444444444444,
              "#bd3786"
             ],
             [
              0.5555555555555556,
              "#d8576b"
             ],
             [
              0.6666666666666666,
              "#ed7953"
             ],
             [
              0.7777777777777778,
              "#fb9f3a"
             ],
             [
              0.8888888888888888,
              "#fdca26"
             ],
             [
              1,
              "#f0f921"
             ]
            ],
            "type": "contour"
           }
          ],
          "contourcarpet": [
           {
            "colorbar": {
             "outlinewidth": 0,
             "ticks": ""
            },
            "type": "contourcarpet"
           }
          ],
          "heatmap": [
           {
            "colorbar": {
             "outlinewidth": 0,
             "ticks": ""
            },
            "colorscale": [
             [
              0,
              "#0d0887"
             ],
             [
              0.1111111111111111,
              "#46039f"
             ],
             [
              0.2222222222222222,
              "#7201a8"
             ],
             [
              0.3333333333333333,
              "#9c179e"
             ],
             [
              0.4444444444444444,
              "#bd3786"
             ],
             [
              0.5555555555555556,
              "#d8576b"
             ],
             [
              0.6666666666666666,
              "#ed7953"
             ],
             [
              0.7777777777777778,
              "#fb9f3a"
             ],
             [
              0.8888888888888888,
              "#fdca26"
             ],
             [
              1,
              "#f0f921"
             ]
            ],
            "type": "heatmap"
           }
          ],
          "histogram": [
           {
            "marker": {
             "pattern": {
              "fillmode": "overlay",
              "size": 10,
              "solidity": 0.2
             }
            },
            "type": "histogram"
           }
          ],
          "histogram2d": [
           {
            "colorbar": {
             "outlinewidth": 0,
             "ticks": ""
            },
            "colorscale": [
             [
              0,
              "#0d0887"
             ],
             [
              0.1111111111111111,
              "#46039f"
             ],
             [
              0.2222222222222222,
              "#7201a8"
             ],
             [
              0.3333333333333333,
              "#9c179e"
             ],
             [
              0.4444444444444444,
              "#bd3786"
             ],
             [
              0.5555555555555556,
              "#d8576b"
             ],
             [
              0.6666666666666666,
              "#ed7953"
             ],
             [
              0.7777777777777778,
              "#fb9f3a"
             ],
             [
              0.8888888888888888,
              "#fdca26"
             ],
             [
              1,
              "#f0f921"
             ]
            ],
            "type": "histogram2d"
           }
          ],
          "histogram2dcontour": [
           {
            "colorbar": {
             "outlinewidth": 0,
             "ticks": ""
            },
            "colorscale": [
             [
              0,
              "#0d0887"
             ],
             [
              0.1111111111111111,
              "#46039f"
             ],
             [
              0.2222222222222222,
              "#7201a8"
             ],
             [
              0.3333333333333333,
              "#9c179e"
             ],
             [
              0.4444444444444444,
              "#bd3786"
             ],
             [
              0.5555555555555556,
              "#d8576b"
             ],
             [
              0.6666666666666666,
              "#ed7953"
             ],
             [
              0.7777777777777778,
              "#fb9f3a"
             ],
             [
              0.8888888888888888,
              "#fdca26"
             ],
             [
              1,
              "#f0f921"
             ]
            ],
            "type": "histogram2dcontour"
           }
          ],
          "mesh3d": [
           {
            "colorbar": {
             "outlinewidth": 0,
             "ticks": ""
            },
            "type": "mesh3d"
           }
          ],
          "parcoords": [
           {
            "line": {
             "colorbar": {
              "outlinewidth": 0,
              "ticks": ""
             }
            },
            "type": "parcoords"
           }
          ],
          "pie": [
           {
            "automargin": true,
            "type": "pie"
           }
          ],
          "scatter": [
           {
            "fillpattern": {
             "fillmode": "overlay",
             "size": 10,
             "solidity": 0.2
            },
            "type": "scatter"
           }
          ],
          "scatter3d": [
           {
            "line": {
             "colorbar": {
              "outlinewidth": 0,
              "ticks": ""
             }
            },
            "marker": {
             "colorbar": {
              "outlinewidth": 0,
              "ticks": ""
             }
            },
            "type": "scatter3d"
           }
          ],
          "scattercarpet": [
           {
            "marker": {
             "colorbar": {
              "outlinewidth": 0,
              "ticks": ""
             }
            },
            "type": "scattercarpet"
           }
          ],
          "scattergeo": [
           {
            "marker": {
             "colorbar": {
              "outlinewidth": 0,
              "ticks": ""
             }
            },
            "type": "scattergeo"
           }
          ],
          "scattergl": [
           {
            "marker": {
             "colorbar": {
              "outlinewidth": 0,
              "ticks": ""
             }
            },
            "type": "scattergl"
           }
          ],
          "scattermap": [
           {
            "marker": {
             "colorbar": {
              "outlinewidth": 0,
              "ticks": ""
             }
            },
            "type": "scattermap"
           }
          ],
          "scattermapbox": [
           {
            "marker": {
             "colorbar": {
              "outlinewidth": 0,
              "ticks": ""
             }
            },
            "type": "scattermapbox"
           }
          ],
          "scatterpolar": [
           {
            "marker": {
             "colorbar": {
              "outlinewidth": 0,
              "ticks": ""
             }
            },
            "type": "scatterpolar"
           }
          ],
          "scatterpolargl": [
           {
            "marker": {
             "colorbar": {
              "outlinewidth": 0,
              "ticks": ""
             }
            },
            "type": "scatterpolargl"
           }
          ],
          "scatterternary": [
           {
            "marker": {
             "colorbar": {
              "outlinewidth": 0,
              "ticks": ""
             }
            },
            "type": "scatterternary"
           }
          ],
          "surface": [
           {
            "colorbar": {
             "outlinewidth": 0,
             "ticks": ""
            },
            "colorscale": [
             [
              0,
              "#0d0887"
             ],
             [
              0.1111111111111111,
              "#46039f"
             ],
             [
              0.2222222222222222,
              "#7201a8"
             ],
             [
              0.3333333333333333,
              "#9c179e"
             ],
             [
              0.4444444444444444,
              "#bd3786"
             ],
             [
              0.5555555555555556,
              "#d8576b"
             ],
             [
              0.6666666666666666,
              "#ed7953"
             ],
             [
              0.7777777777777778,
              "#fb9f3a"
             ],
             [
              0.8888888888888888,
              "#fdca26"
             ],
             [
              1,
              "#f0f921"
             ]
            ],
            "type": "surface"
           }
          ],
          "table": [
           {
            "cells": {
             "fill": {
              "color": "#EBF0F8"
             },
             "line": {
              "color": "white"
             }
            },
            "header": {
             "fill": {
              "color": "#C8D4E3"
             },
             "line": {
              "color": "white"
             }
            },
            "type": "table"
           }
          ]
         },
         "layout": {
          "annotationdefaults": {
           "arrowcolor": "#2a3f5f",
           "arrowhead": 0,
           "arrowwidth": 1
          },
          "autotypenumbers": "strict",
          "coloraxis": {
           "colorbar": {
            "outlinewidth": 0,
            "ticks": ""
           }
          },
          "colorscale": {
           "diverging": [
            [
             0,
             "#8e0152"
            ],
            [
             0.1,
             "#c51b7d"
            ],
            [
             0.2,
             "#de77ae"
            ],
            [
             0.3,
             "#f1b6da"
            ],
            [
             0.4,
             "#fde0ef"
            ],
            [
             0.5,
             "#f7f7f7"
            ],
            [
             0.6,
             "#e6f5d0"
            ],
            [
             0.7,
             "#b8e186"
            ],
            [
             0.8,
             "#7fbc41"
            ],
            [
             0.9,
             "#4d9221"
            ],
            [
             1,
             "#276419"
            ]
           ],
           "sequential": [
            [
             0,
             "#0d0887"
            ],
            [
             0.1111111111111111,
             "#46039f"
            ],
            [
             0.2222222222222222,
             "#7201a8"
            ],
            [
             0.3333333333333333,
             "#9c179e"
            ],
            [
             0.4444444444444444,
             "#bd3786"
            ],
            [
             0.5555555555555556,
             "#d8576b"
            ],
            [
             0.6666666666666666,
             "#ed7953"
            ],
            [
             0.7777777777777778,
             "#fb9f3a"
            ],
            [
             0.8888888888888888,
             "#fdca26"
            ],
            [
             1,
             "#f0f921"
            ]
           ],
           "sequentialminus": [
            [
             0,
             "#0d0887"
            ],
            [
             0.1111111111111111,
             "#46039f"
            ],
            [
             0.2222222222222222,
             "#7201a8"
            ],
            [
             0.3333333333333333,
             "#9c179e"
            ],
            [
             0.4444444444444444,
             "#bd3786"
            ],
            [
             0.5555555555555556,
             "#d8576b"
            ],
            [
             0.6666666666666666,
             "#ed7953"
            ],
            [
             0.7777777777777778,
             "#fb9f3a"
            ],
            [
             0.8888888888888888,
             "#fdca26"
            ],
            [
             1,
             "#f0f921"
            ]
           ]
          },
          "colorway": [
           "#36b7d2",
           "#e76f51",
           "#f6bb37",
           "#264653",
           "#f3b3b4",
           "#2a9d8f",
           "#8455cb",
           "#f4a261",
           "#e76f51",
           "#264653"
          ],
          "font": {
           "color": "#3A3A3A",
           "family": "Palatino, 'Palatino Linotype', 'Book Antiqua', serif"
          },
          "geo": {
           "bgcolor": "white",
           "lakecolor": "white",
           "landcolor": "white",
           "showlakes": true,
           "showland": true,
           "subunitcolor": "#C8D4E3"
          },
          "hoverlabel": {
           "align": "left"
          },
          "hovermode": "closest",
          "mapbox": {
           "style": "light"
          },
          "paper_bgcolor": "rgba(0,0,0,0)",
          "plot_bgcolor": "white",
          "polar": {
           "angularaxis": {
            "gridcolor": "#EBF0F8",
            "linecolor": "#EBF0F8",
            "ticks": ""
           },
           "bgcolor": "white",
           "radialaxis": {
            "gridcolor": "#EBF0F8",
            "linecolor": "#EBF0F8",
            "ticks": ""
           }
          },
          "scene": {
           "xaxis": {
            "backgroundcolor": "white",
            "gridcolor": "#DFE8F3",
            "gridwidth": 2,
            "linecolor": "#EBF0F8",
            "showbackground": true,
            "ticks": "",
            "zerolinecolor": "#EBF0F8"
           },
           "yaxis": {
            "backgroundcolor": "white",
            "gridcolor": "#DFE8F3",
            "gridwidth": 2,
            "linecolor": "#EBF0F8",
            "showbackground": true,
            "ticks": "",
            "zerolinecolor": "#EBF0F8"
           },
           "zaxis": {
            "backgroundcolor": "white",
            "gridcolor": "#DFE8F3",
            "gridwidth": 2,
            "linecolor": "#EBF0F8",
            "showbackground": true,
            "ticks": "",
            "zerolinecolor": "#EBF0F8"
           }
          },
          "shapedefaults": {
           "line": {
            "color": "#2a3f5f"
           }
          },
          "ternary": {
           "aaxis": {
            "gridcolor": "#DFE8F3",
            "linecolor": "#A2B1C6",
            "ticks": ""
           },
           "baxis": {
            "gridcolor": "#DFE8F3",
            "linecolor": "#A2B1C6",
            "ticks": ""
           },
           "bgcolor": "white",
           "caxis": {
            "gridcolor": "#DFE8F3",
            "linecolor": "#A2B1C6",
            "ticks": ""
           }
          },
          "title": {
           "x": 0.5,
           "xanchor": "center"
          },
          "xaxis": {
           "automargin": true,
           "gridcolor": "#EBF0F8",
           "linecolor": "#EBF0F8",
           "ticks": "",
           "title": {
            "standoff": 15
           },
           "zerolinecolor": "#EBF0F8",
           "zerolinewidth": 2
          },
          "yaxis": {
           "automargin": true,
           "gridcolor": "#EBF0F8",
           "linecolor": "#EBF0F8",
           "ticks": "",
           "title": {
            "standoff": 15
           },
           "zerolinecolor": "#EBF0F8",
           "zerolinewidth": 2
          }
         }
        },
        "title": {
         "text": "DermaNet w/ BYOL Training Step Loss"
        },
        "width": 700,
        "xaxis": {
         "anchor": "y",
         "domain": [
          0,
          1
         ],
         "title": {
          "text": "Training Step"
         }
        },
        "yaxis": {
         "anchor": "x",
         "domain": [
          0,
          1
         ],
         "range": [
          0.95,
          2.5084264039993287
         ],
         "title": {
          "text": "Loss"
         }
        }
       }
      }
     },
     "metadata": {},
     "output_type": "display_data"
    }
   ],
   "source": [
    "# Dermanet w/ BYOL: training step loss\n",
    "train_step_w = pd.read_csv('../outputs/results_data/dermanet_training_with_pretrain/dermanet_wbyol_train_step_loss.csv')\n",
    "fig = px.line(\n",
    "    train_step_w,\n",
    "    x='Step',\n",
    "    y='Value',\n",
    "    title='DermaNet w/ BYOL Training Step Loss',\n",
    "    labels={'Step': 'Training Step', 'Value': 'Loss'},\n",
    "    color_discrete_sequence=[DARK_BG]\n",
    ")\n",
    "fig.update_layout(yaxis_range=[0.95, train_step_w['Value'].max()*1.05], width=700, height=500)\n",
    "fig.write_image('imgs/dermanet_wbyol_train_step_loss.png', scale=2)\n",
    "fig.show()"
   ]
  },
  {
   "cell_type": "code",
   "execution_count": 81,
   "id": "29c3465c",
   "metadata": {},
   "outputs": [
    {
     "data": {
      "application/vnd.plotly.v1+json": {
       "config": {
        "plotlyServerURL": "https://plot.ly"
       },
       "data": [
        {
         "hovertemplate": "Epoch=%{x}<br>Loss=%{y}<extra></extra>",
         "legendgroup": "",
         "line": {
          "color": "#264653",
          "dash": "solid"
         },
         "marker": {
          "symbol": "circle"
         },
         "mode": "lines",
         "name": "",
         "orientation": "v",
         "showlegend": false,
         "type": "scatter",
         "x": {
          "bdata": "AAAAAAAAAAAAAAAAAADwPwAAAAAAAAhAAAAAAAAAEEAAAAAAAAAUQAAAAAAAABhAAAAAAAAAHEAAAAAAAAAgQAAAAAAAACJAAAAAAAAAJEAAAAAAAAAmQAAAAAAAAChAAAAAAAAAKkAAAAAAAAAsQAAAAAAAAC5AAAAAAAAAMEAAAAAAAAAxQAAAAAAAADJAAAAAAAAAM0AAAAAAAAA0QAAAAAAAADVAAAAAAAAANkAAAAAAAAA3QAAAAAAAADhAAAAAAAAAOUAAAAAAAAA6QAAAAAAAADtAAAAAAAAAPEAAAAAAAAA9QAAAAAAAAD5AAAAAAAAAP0AAAAAAAABAQAAAAAAAgEBAAAAAAAAAQUAAAAAAAIBBQAAAAAAAAEJAAAAAAACAQkAAAAAAAABDQAAAAAAAgENAAAAAAAAAREAAAAAAAIBEQAAAAAAAAEVAAAAAAACARUAAAAAAAABGQAAAAAAAgEZAAAAAAAAAR0AAAAAAAIBHQAAAAAAAAEhAAAAAAACASEAAAAAAAABJQAAAAAAAgElAAAAAAAAASkAAAAAAAIBKQAAAAAAAAEtAAAAAAACAS0AAAAAAAABMQAAAAAAAgExAAAAAAAAATUAAAAAAAIBNQAAAAAAAAE5AAAAAAACATkAAAAAAAABPQAAAAAAAgE9AAAAAAAAAUEAAAAAAAEBQQAAAAAAAgFBAAAAAAADAUEAAAAAAAABRQAAAAAAAQFFA",
          "dtype": "f8"
         },
         "xaxis": "x",
         "y": {
          "bdata": "AAAAwI/MAkAAAAAgd2cBQAAAAODorgBAAQAAwJoqAED/////5Zz/PwAAACCA7v4//////xRR/j8AAADA4bb9PwEAAGCAcP0/AAAAAHJN/T////8/5rv8PwAAAABIXfw/AAAAAKUg/D8AAADgkt/7PwAAAOC8efs/AAAAwDo5+z8AAABg5e76PwAAAGBZ8vo/AAAAQG5q+j8AAADAaF/6PwAAACABHvo/AAAAIGPx+T8AAABg+sP5PwAAAIDibfk/AAAAIKA/+T8BAADgITv5PwEAAGCAzvg/AAAAoGTA+D8AAADgP6L4PwAAAOAZdvg/AAAAoF5C+D8AAABgCNL3PwAAAABhvPc/AAAAAGfL9z8AAACgDaX3PwAAAECxafc/AAAAoMhG9z8AAAAgrQn3PwAAAKBY5PY/AAAAIPe39j8AAADAXaj2PwAAAMAscvY/AAAAADxZ9j////8/IzP2PwAAAIDPF/Y/AAAAQLH99T8AAABAduX1P////5/6wPU/AAAAwHGg9T8AAAAAfn31PwAAACC6iPU/AQAAYANK9T8AAADg5jv1PwAAAAAoMPU/AAAAYPYI9T8AAAAAm9z0PwAAAABACfU/////f/XF9D8AAADAK7X0PwAAAOBsyfQ/AAAA4BN29D8AAADA7XH0PwAAAKABX/Q/AAAA4FFF9D8BAACAikv0PwAAAOAoSvQ/AAAAYCQj9D8AAABAnyD0PwAAAADGFvQ/",
          "dtype": "f8"
         },
         "yaxis": "y"
        }
       ],
       "layout": {
        "height": 500,
        "legend": {
         "tracegroupgap": 0
        },
        "template": {
         "data": {
          "bar": [
           {
            "error_x": {
             "color": "#2a3f5f"
            },
            "error_y": {
             "color": "#2a3f5f"
            },
            "marker": {
             "line": {
              "color": "white",
              "width": 0.5
             },
             "pattern": {
              "fillmode": "overlay",
              "size": 10,
              "solidity": 0.2
             }
            },
            "type": "bar"
           }
          ],
          "barpolar": [
           {
            "marker": {
             "line": {
              "color": "white",
              "width": 0.5
             },
             "pattern": {
              "fillmode": "overlay",
              "size": 10,
              "solidity": 0.2
             }
            },
            "type": "barpolar"
           }
          ],
          "carpet": [
           {
            "aaxis": {
             "endlinecolor": "#2a3f5f",
             "gridcolor": "#C8D4E3",
             "linecolor": "#C8D4E3",
             "minorgridcolor": "#C8D4E3",
             "startlinecolor": "#2a3f5f"
            },
            "baxis": {
             "endlinecolor": "#2a3f5f",
             "gridcolor": "#C8D4E3",
             "linecolor": "#C8D4E3",
             "minorgridcolor": "#C8D4E3",
             "startlinecolor": "#2a3f5f"
            },
            "type": "carpet"
           }
          ],
          "choropleth": [
           {
            "colorbar": {
             "outlinewidth": 0,
             "ticks": ""
            },
            "type": "choropleth"
           }
          ],
          "contour": [
           {
            "colorbar": {
             "outlinewidth": 0,
             "ticks": ""
            },
            "colorscale": [
             [
              0,
              "#0d0887"
             ],
             [
              0.1111111111111111,
              "#46039f"
             ],
             [
              0.2222222222222222,
              "#7201a8"
             ],
             [
              0.3333333333333333,
              "#9c179e"
             ],
             [
              0.4444444444444444,
              "#bd3786"
             ],
             [
              0.5555555555555556,
              "#d8576b"
             ],
             [
              0.6666666666666666,
              "#ed7953"
             ],
             [
              0.7777777777777778,
              "#fb9f3a"
             ],
             [
              0.8888888888888888,
              "#fdca26"
             ],
             [
              1,
              "#f0f921"
             ]
            ],
            "type": "contour"
           }
          ],
          "contourcarpet": [
           {
            "colorbar": {
             "outlinewidth": 0,
             "ticks": ""
            },
            "type": "contourcarpet"
           }
          ],
          "heatmap": [
           {
            "colorbar": {
             "outlinewidth": 0,
             "ticks": ""
            },
            "colorscale": [
             [
              0,
              "#0d0887"
             ],
             [
              0.1111111111111111,
              "#46039f"
             ],
             [
              0.2222222222222222,
              "#7201a8"
             ],
             [
              0.3333333333333333,
              "#9c179e"
             ],
             [
              0.4444444444444444,
              "#bd3786"
             ],
             [
              0.5555555555555556,
              "#d8576b"
             ],
             [
              0.6666666666666666,
              "#ed7953"
             ],
             [
              0.7777777777777778,
              "#fb9f3a"
             ],
             [
              0.8888888888888888,
              "#fdca26"
             ],
             [
              1,
              "#f0f921"
             ]
            ],
            "type": "heatmap"
           }
          ],
          "histogram": [
           {
            "marker": {
             "pattern": {
              "fillmode": "overlay",
              "size": 10,
              "solidity": 0.2
             }
            },
            "type": "histogram"
           }
          ],
          "histogram2d": [
           {
            "colorbar": {
             "outlinewidth": 0,
             "ticks": ""
            },
            "colorscale": [
             [
              0,
              "#0d0887"
             ],
             [
              0.1111111111111111,
              "#46039f"
             ],
             [
              0.2222222222222222,
              "#7201a8"
             ],
             [
              0.3333333333333333,
              "#9c179e"
             ],
             [
              0.4444444444444444,
              "#bd3786"
             ],
             [
              0.5555555555555556,
              "#d8576b"
             ],
             [
              0.6666666666666666,
              "#ed7953"
             ],
             [
              0.7777777777777778,
              "#fb9f3a"
             ],
             [
              0.8888888888888888,
              "#fdca26"
             ],
             [
              1,
              "#f0f921"
             ]
            ],
            "type": "histogram2d"
           }
          ],
          "histogram2dcontour": [
           {
            "colorbar": {
             "outlinewidth": 0,
             "ticks": ""
            },
            "colorscale": [
             [
              0,
              "#0d0887"
             ],
             [
              0.1111111111111111,
              "#46039f"
             ],
             [
              0.2222222222222222,
              "#7201a8"
             ],
             [
              0.3333333333333333,
              "#9c179e"
             ],
             [
              0.4444444444444444,
              "#bd3786"
             ],
             [
              0.5555555555555556,
              "#d8576b"
             ],
             [
              0.6666666666666666,
              "#ed7953"
             ],
             [
              0.7777777777777778,
              "#fb9f3a"
             ],
             [
              0.8888888888888888,
              "#fdca26"
             ],
             [
              1,
              "#f0f921"
             ]
            ],
            "type": "histogram2dcontour"
           }
          ],
          "mesh3d": [
           {
            "colorbar": {
             "outlinewidth": 0,
             "ticks": ""
            },
            "type": "mesh3d"
           }
          ],
          "parcoords": [
           {
            "line": {
             "colorbar": {
              "outlinewidth": 0,
              "ticks": ""
             }
            },
            "type": "parcoords"
           }
          ],
          "pie": [
           {
            "automargin": true,
            "type": "pie"
           }
          ],
          "scatter": [
           {
            "fillpattern": {
             "fillmode": "overlay",
             "size": 10,
             "solidity": 0.2
            },
            "type": "scatter"
           }
          ],
          "scatter3d": [
           {
            "line": {
             "colorbar": {
              "outlinewidth": 0,
              "ticks": ""
             }
            },
            "marker": {
             "colorbar": {
              "outlinewidth": 0,
              "ticks": ""
             }
            },
            "type": "scatter3d"
           }
          ],
          "scattercarpet": [
           {
            "marker": {
             "colorbar": {
              "outlinewidth": 0,
              "ticks": ""
             }
            },
            "type": "scattercarpet"
           }
          ],
          "scattergeo": [
           {
            "marker": {
             "colorbar": {
              "outlinewidth": 0,
              "ticks": ""
             }
            },
            "type": "scattergeo"
           }
          ],
          "scattergl": [
           {
            "marker": {
             "colorbar": {
              "outlinewidth": 0,
              "ticks": ""
             }
            },
            "type": "scattergl"
           }
          ],
          "scattermap": [
           {
            "marker": {
             "colorbar": {
              "outlinewidth": 0,
              "ticks": ""
             }
            },
            "type": "scattermap"
           }
          ],
          "scattermapbox": [
           {
            "marker": {
             "colorbar": {
              "outlinewidth": 0,
              "ticks": ""
             }
            },
            "type": "scattermapbox"
           }
          ],
          "scatterpolar": [
           {
            "marker": {
             "colorbar": {
              "outlinewidth": 0,
              "ticks": ""
             }
            },
            "type": "scatterpolar"
           }
          ],
          "scatterpolargl": [
           {
            "marker": {
             "colorbar": {
              "outlinewidth": 0,
              "ticks": ""
             }
            },
            "type": "scatterpolargl"
           }
          ],
          "scatterternary": [
           {
            "marker": {
             "colorbar": {
              "outlinewidth": 0,
              "ticks": ""
             }
            },
            "type": "scatterternary"
           }
          ],
          "surface": [
           {
            "colorbar": {
             "outlinewidth": 0,
             "ticks": ""
            },
            "colorscale": [
             [
              0,
              "#0d0887"
             ],
             [
              0.1111111111111111,
              "#46039f"
             ],
             [
              0.2222222222222222,
              "#7201a8"
             ],
             [
              0.3333333333333333,
              "#9c179e"
             ],
             [
              0.4444444444444444,
              "#bd3786"
             ],
             [
              0.5555555555555556,
              "#d8576b"
             ],
             [
              0.6666666666666666,
              "#ed7953"
             ],
             [
              0.7777777777777778,
              "#fb9f3a"
             ],
             [
              0.8888888888888888,
              "#fdca26"
             ],
             [
              1,
              "#f0f921"
             ]
            ],
            "type": "surface"
           }
          ],
          "table": [
           {
            "cells": {
             "fill": {
              "color": "#EBF0F8"
             },
             "line": {
              "color": "white"
             }
            },
            "header": {
             "fill": {
              "color": "#C8D4E3"
             },
             "line": {
              "color": "white"
             }
            },
            "type": "table"
           }
          ]
         },
         "layout": {
          "annotationdefaults": {
           "arrowcolor": "#2a3f5f",
           "arrowhead": 0,
           "arrowwidth": 1
          },
          "autotypenumbers": "strict",
          "coloraxis": {
           "colorbar": {
            "outlinewidth": 0,
            "ticks": ""
           }
          },
          "colorscale": {
           "diverging": [
            [
             0,
             "#8e0152"
            ],
            [
             0.1,
             "#c51b7d"
            ],
            [
             0.2,
             "#de77ae"
            ],
            [
             0.3,
             "#f1b6da"
            ],
            [
             0.4,
             "#fde0ef"
            ],
            [
             0.5,
             "#f7f7f7"
            ],
            [
             0.6,
             "#e6f5d0"
            ],
            [
             0.7,
             "#b8e186"
            ],
            [
             0.8,
             "#7fbc41"
            ],
            [
             0.9,
             "#4d9221"
            ],
            [
             1,
             "#276419"
            ]
           ],
           "sequential": [
            [
             0,
             "#0d0887"
            ],
            [
             0.1111111111111111,
             "#46039f"
            ],
            [
             0.2222222222222222,
             "#7201a8"
            ],
            [
             0.3333333333333333,
             "#9c179e"
            ],
            [
             0.4444444444444444,
             "#bd3786"
            ],
            [
             0.5555555555555556,
             "#d8576b"
            ],
            [
             0.6666666666666666,
             "#ed7953"
            ],
            [
             0.7777777777777778,
             "#fb9f3a"
            ],
            [
             0.8888888888888888,
             "#fdca26"
            ],
            [
             1,
             "#f0f921"
            ]
           ],
           "sequentialminus": [
            [
             0,
             "#0d0887"
            ],
            [
             0.1111111111111111,
             "#46039f"
            ],
            [
             0.2222222222222222,
             "#7201a8"
            ],
            [
             0.3333333333333333,
             "#9c179e"
            ],
            [
             0.4444444444444444,
             "#bd3786"
            ],
            [
             0.5555555555555556,
             "#d8576b"
            ],
            [
             0.6666666666666666,
             "#ed7953"
            ],
            [
             0.7777777777777778,
             "#fb9f3a"
            ],
            [
             0.8888888888888888,
             "#fdca26"
            ],
            [
             1,
             "#f0f921"
            ]
           ]
          },
          "colorway": [
           "#36b7d2",
           "#e76f51",
           "#f6bb37",
           "#264653",
           "#f3b3b4",
           "#2a9d8f",
           "#8455cb",
           "#f4a261",
           "#e76f51",
           "#264653"
          ],
          "font": {
           "color": "#3A3A3A",
           "family": "Palatino, 'Palatino Linotype', 'Book Antiqua', serif"
          },
          "geo": {
           "bgcolor": "white",
           "lakecolor": "white",
           "landcolor": "white",
           "showlakes": true,
           "showland": true,
           "subunitcolor": "#C8D4E3"
          },
          "hoverlabel": {
           "align": "left"
          },
          "hovermode": "closest",
          "mapbox": {
           "style": "light"
          },
          "paper_bgcolor": "rgba(0,0,0,0)",
          "plot_bgcolor": "white",
          "polar": {
           "angularaxis": {
            "gridcolor": "#EBF0F8",
            "linecolor": "#EBF0F8",
            "ticks": ""
           },
           "bgcolor": "white",
           "radialaxis": {
            "gridcolor": "#EBF0F8",
            "linecolor": "#EBF0F8",
            "ticks": ""
           }
          },
          "scene": {
           "xaxis": {
            "backgroundcolor": "white",
            "gridcolor": "#DFE8F3",
            "gridwidth": 2,
            "linecolor": "#EBF0F8",
            "showbackground": true,
            "ticks": "",
            "zerolinecolor": "#EBF0F8"
           },
           "yaxis": {
            "backgroundcolor": "white",
            "gridcolor": "#DFE8F3",
            "gridwidth": 2,
            "linecolor": "#EBF0F8",
            "showbackground": true,
            "ticks": "",
            "zerolinecolor": "#EBF0F8"
           },
           "zaxis": {
            "backgroundcolor": "white",
            "gridcolor": "#DFE8F3",
            "gridwidth": 2,
            "linecolor": "#EBF0F8",
            "showbackground": true,
            "ticks": "",
            "zerolinecolor": "#EBF0F8"
           }
          },
          "shapedefaults": {
           "line": {
            "color": "#2a3f5f"
           }
          },
          "ternary": {
           "aaxis": {
            "gridcolor": "#DFE8F3",
            "linecolor": "#A2B1C6",
            "ticks": ""
           },
           "baxis": {
            "gridcolor": "#DFE8F3",
            "linecolor": "#A2B1C6",
            "ticks": ""
           },
           "bgcolor": "white",
           "caxis": {
            "gridcolor": "#DFE8F3",
            "linecolor": "#A2B1C6",
            "ticks": ""
           }
          },
          "title": {
           "x": 0.5,
           "xanchor": "center"
          },
          "xaxis": {
           "automargin": true,
           "gridcolor": "#EBF0F8",
           "linecolor": "#EBF0F8",
           "ticks": "",
           "title": {
            "standoff": 15
           },
           "zerolinecolor": "#EBF0F8",
           "zerolinewidth": 2
          },
          "yaxis": {
           "automargin": true,
           "gridcolor": "#EBF0F8",
           "linecolor": "#EBF0F8",
           "ticks": "",
           "title": {
            "standoff": 15
           },
           "zerolinecolor": "#EBF0F8",
           "zerolinewidth": 2
          }
         }
        },
        "title": {
         "text": "DermaNet w/ BYOL Training Epoch Loss"
        },
        "width": 700,
        "xaxis": {
         "anchor": "y",
         "domain": [
          0,
          1
         ],
         "range": [
          -1,
          70
         ],
         "title": {
          "text": "Epoch"
         }
        },
        "yaxis": {
         "anchor": "x",
         "domain": [
          0,
          1
         ],
         "range": [
          1.2,
          2.4673777341842653
         ],
         "title": {
          "text": "Loss"
         }
        }
       }
      }
     },
     "metadata": {},
     "output_type": "display_data"
    }
   ],
   "source": [
    "# Dermanet w/ BYOL: training epoch loss\n",
    "train_epoch_w = pd.read_csv('../outputs/results_data/dermanet_training_with_pretrain/dermanet_wbyol_train_epoch_loss.csv')\n",
    "if 'Step' in train_epoch_w.columns:\n",
    "    train_epoch_w['Epoch'] = train_epoch_w['Step'] // 39.58\n",
    "fig = px.line(\n",
    "    train_epoch_w,\n",
    "    x='Epoch' if 'Epoch' in train_epoch_w.columns else train_epoch_w.index,\n",
    "    y='Value',\n",
    "    title='DermaNet w/ BYOL Training Epoch Loss',\n",
    "    labels={'Epoch': 'Epoch', 'Value': 'Loss'},\n",
    "    color_discrete_sequence=[DARK_BG]\n",
    ")\n",
    "fig.update_layout(yaxis_range=[1.2, max(0.1, train_epoch_w['Value'].max()*1.05)], xaxis_range=[min(train_epoch_w['Epoch'])-1, max(train_epoch_w['Epoch'])+1], width=700, height=500)\n",
    "fig.write_image('imgs/dermanet_wbyol_train_epoch_loss.png', scale=2)\n",
    "fig.show()"
   ]
  },
  {
   "cell_type": "code",
   "execution_count": 82,
   "id": "680ac257",
   "metadata": {},
   "outputs": [
    {
     "data": {
      "application/vnd.plotly.v1+json": {
       "config": {
        "plotlyServerURL": "https://plot.ly"
       },
       "data": [
        {
         "hovertemplate": "Epoch=%{x}<br>Loss=%{y}<extra></extra>",
         "legendgroup": "",
         "line": {
          "color": "#264653",
          "dash": "solid"
         },
         "marker": {
          "symbol": "circle"
         },
         "mode": "lines",
         "name": "",
         "orientation": "v",
         "showlegend": false,
         "type": "scatter",
         "x": {
          "bdata": "AAAAAAAAAAAAAAAAAADwPwAAAAAAAAhAAAAAAAAAEEAAAAAAAAAUQAAAAAAAABhAAAAAAAAAHEAAAAAAAAAgQAAAAAAAACJAAAAAAAAAJEAAAAAAAAAmQAAAAAAAAChAAAAAAAAAKkAAAAAAAAAsQAAAAAAAAC5AAAAAAAAAMEAAAAAAAAAxQAAAAAAAADJAAAAAAAAAM0AAAAAAAAA0QAAAAAAAADVAAAAAAAAANkAAAAAAAAA3QAAAAAAAADhAAAAAAAAAOUAAAAAAAAA6QAAAAAAAADtAAAAAAAAAPEAAAAAAAAA9QAAAAAAAAD5AAAAAAAAAP0AAAAAAAABAQAAAAAAAgEBAAAAAAAAAQUAAAAAAAIBBQAAAAAAAAEJAAAAAAACAQkAAAAAAAABDQAAAAAAAgENAAAAAAAAAREAAAAAAAIBEQAAAAAAAAEVAAAAAAACARUAAAAAAAABGQAAAAAAAgEZAAAAAAAAAR0AAAAAAAIBHQAAAAAAAAEhAAAAAAACASEAAAAAAAABJQAAAAAAAgElAAAAAAAAASkAAAAAAAIBKQAAAAAAAAEtAAAAAAACAS0AAAAAAAABMQAAAAAAAgExAAAAAAAAATUAAAAAAAIBNQAAAAAAAAE5AAAAAAACATkAAAAAAAABPQAAAAAAAgE9AAAAAAAAAUEAAAAAAAEBQQAAAAAAAgFBAAAAAAADAUEAAAAAAAABRQAAAAAAAQFFAAAAAAABAUUA=",
          "dtype": "f8"
         },
         "xaxis": "x",
         "y": {
          "bdata": "AAAAIEmlAUAAAABgk5wAQAAAAGAjOgBA/////1td/z8BAABAKVD/PwAAACCUff4/AAAAYJcL/j8AAADgZgb+PwEAAOCWfP0/AAAAgHhF/T8AAADgXMn8P////78D3fw/AAAAoFJo/T8AAABAvrL8PwAAAID7N/w/AAAAYNOC/D8AAABAf0f8PwEAAOCkV/w/AAAA4HRj/D8AAADAkfT7PwAAAECh9/s/AAAAoHlh/D8AAADANrP7PwAAAEC3mvs/AAAAACRG/D8AAACAJFr7P////98JBPw/AAAA4Gni+z8AAADgrn/7PwEAAMDcXfs/AAAAoK8l+z8AAADgV1D7PwAAAOCRSfs/AAAAoAP4+j////9/snr7PwAAAED/L/s/AAAA4IWB+j8AAADATzr7PwAAACD6Dfs/AQAAAClb+z8AAACA4S77PwEAAED92vo/AAAAgIQp+z8AAABg8hz7PwAAAGCxEPs/AAAAwPUg+z8AAAAgKvj6PwAAAGDTsPo/AAAAYH3m+j8AAAAgJfv6PwAAAGDluvo//////9PO+j8BAACg07X6P////z+k2/o/////v8VX+z8AAABgxzD7PwAAAOADzvo/AAAA4IgO+z8AAABgUPL6PwEAACAyHfs/AAAAgCkc+z8AAAAAHxD7P////9+Nrvo/AAAAIFUt+z8AAABg+PD6PwEAAACpJ/s/AAAAoNwk+z8BAADgZfz6PwEAAMAZ4vo/AAAA4IWB+j8=",
          "dtype": "f8"
         },
         "yaxis": "y"
        }
       ],
       "layout": {
        "height": 500,
        "legend": {
         "tracegroupgap": 0
        },
        "template": {
         "data": {
          "bar": [
           {
            "error_x": {
             "color": "#2a3f5f"
            },
            "error_y": {
             "color": "#2a3f5f"
            },
            "marker": {
             "line": {
              "color": "white",
              "width": 0.5
             },
             "pattern": {
              "fillmode": "overlay",
              "size": 10,
              "solidity": 0.2
             }
            },
            "type": "bar"
           }
          ],
          "barpolar": [
           {
            "marker": {
             "line": {
              "color": "white",
              "width": 0.5
             },
             "pattern": {
              "fillmode": "overlay",
              "size": 10,
              "solidity": 0.2
             }
            },
            "type": "barpolar"
           }
          ],
          "carpet": [
           {
            "aaxis": {
             "endlinecolor": "#2a3f5f",
             "gridcolor": "#C8D4E3",
             "linecolor": "#C8D4E3",
             "minorgridcolor": "#C8D4E3",
             "startlinecolor": "#2a3f5f"
            },
            "baxis": {
             "endlinecolor": "#2a3f5f",
             "gridcolor": "#C8D4E3",
             "linecolor": "#C8D4E3",
             "minorgridcolor": "#C8D4E3",
             "startlinecolor": "#2a3f5f"
            },
            "type": "carpet"
           }
          ],
          "choropleth": [
           {
            "colorbar": {
             "outlinewidth": 0,
             "ticks": ""
            },
            "type": "choropleth"
           }
          ],
          "contour": [
           {
            "colorbar": {
             "outlinewidth": 0,
             "ticks": ""
            },
            "colorscale": [
             [
              0,
              "#0d0887"
             ],
             [
              0.1111111111111111,
              "#46039f"
             ],
             [
              0.2222222222222222,
              "#7201a8"
             ],
             [
              0.3333333333333333,
              "#9c179e"
             ],
             [
              0.4444444444444444,
              "#bd3786"
             ],
             [
              0.5555555555555556,
              "#d8576b"
             ],
             [
              0.6666666666666666,
              "#ed7953"
             ],
             [
              0.7777777777777778,
              "#fb9f3a"
             ],
             [
              0.8888888888888888,
              "#fdca26"
             ],
             [
              1,
              "#f0f921"
             ]
            ],
            "type": "contour"
           }
          ],
          "contourcarpet": [
           {
            "colorbar": {
             "outlinewidth": 0,
             "ticks": ""
            },
            "type": "contourcarpet"
           }
          ],
          "heatmap": [
           {
            "colorbar": {
             "outlinewidth": 0,
             "ticks": ""
            },
            "colorscale": [
             [
              0,
              "#0d0887"
             ],
             [
              0.1111111111111111,
              "#46039f"
             ],
             [
              0.2222222222222222,
              "#7201a8"
             ],
             [
              0.3333333333333333,
              "#9c179e"
             ],
             [
              0.4444444444444444,
              "#bd3786"
             ],
             [
              0.5555555555555556,
              "#d8576b"
             ],
             [
              0.6666666666666666,
              "#ed7953"
             ],
             [
              0.7777777777777778,
              "#fb9f3a"
             ],
             [
              0.8888888888888888,
              "#fdca26"
             ],
             [
              1,
              "#f0f921"
             ]
            ],
            "type": "heatmap"
           }
          ],
          "histogram": [
           {
            "marker": {
             "pattern": {
              "fillmode": "overlay",
              "size": 10,
              "solidity": 0.2
             }
            },
            "type": "histogram"
           }
          ],
          "histogram2d": [
           {
            "colorbar": {
             "outlinewidth": 0,
             "ticks": ""
            },
            "colorscale": [
             [
              0,
              "#0d0887"
             ],
             [
              0.1111111111111111,
              "#46039f"
             ],
             [
              0.2222222222222222,
              "#7201a8"
             ],
             [
              0.3333333333333333,
              "#9c179e"
             ],
             [
              0.4444444444444444,
              "#bd3786"
             ],
             [
              0.5555555555555556,
              "#d8576b"
             ],
             [
              0.6666666666666666,
              "#ed7953"
             ],
             [
              0.7777777777777778,
              "#fb9f3a"
             ],
             [
              0.8888888888888888,
              "#fdca26"
             ],
             [
              1,
              "#f0f921"
             ]
            ],
            "type": "histogram2d"
           }
          ],
          "histogram2dcontour": [
           {
            "colorbar": {
             "outlinewidth": 0,
             "ticks": ""
            },
            "colorscale": [
             [
              0,
              "#0d0887"
             ],
             [
              0.1111111111111111,
              "#46039f"
             ],
             [
              0.2222222222222222,
              "#7201a8"
             ],
             [
              0.3333333333333333,
              "#9c179e"
             ],
             [
              0.4444444444444444,
              "#bd3786"
             ],
             [
              0.5555555555555556,
              "#d8576b"
             ],
             [
              0.6666666666666666,
              "#ed7953"
             ],
             [
              0.7777777777777778,
              "#fb9f3a"
             ],
             [
              0.8888888888888888,
              "#fdca26"
             ],
             [
              1,
              "#f0f921"
             ]
            ],
            "type": "histogram2dcontour"
           }
          ],
          "mesh3d": [
           {
            "colorbar": {
             "outlinewidth": 0,
             "ticks": ""
            },
            "type": "mesh3d"
           }
          ],
          "parcoords": [
           {
            "line": {
             "colorbar": {
              "outlinewidth": 0,
              "ticks": ""
             }
            },
            "type": "parcoords"
           }
          ],
          "pie": [
           {
            "automargin": true,
            "type": "pie"
           }
          ],
          "scatter": [
           {
            "fillpattern": {
             "fillmode": "overlay",
             "size": 10,
             "solidity": 0.2
            },
            "type": "scatter"
           }
          ],
          "scatter3d": [
           {
            "line": {
             "colorbar": {
              "outlinewidth": 0,
              "ticks": ""
             }
            },
            "marker": {
             "colorbar": {
              "outlinewidth": 0,
              "ticks": ""
             }
            },
            "type": "scatter3d"
           }
          ],
          "scattercarpet": [
           {
            "marker": {
             "colorbar": {
              "outlinewidth": 0,
              "ticks": ""
             }
            },
            "type": "scattercarpet"
           }
          ],
          "scattergeo": [
           {
            "marker": {
             "colorbar": {
              "outlinewidth": 0,
              "ticks": ""
             }
            },
            "type": "scattergeo"
           }
          ],
          "scattergl": [
           {
            "marker": {
             "colorbar": {
              "outlinewidth": 0,
              "ticks": ""
             }
            },
            "type": "scattergl"
           }
          ],
          "scattermap": [
           {
            "marker": {
             "colorbar": {
              "outlinewidth": 0,
              "ticks": ""
             }
            },
            "type": "scattermap"
           }
          ],
          "scattermapbox": [
           {
            "marker": {
             "colorbar": {
              "outlinewidth": 0,
              "ticks": ""
             }
            },
            "type": "scattermapbox"
           }
          ],
          "scatterpolar": [
           {
            "marker": {
             "colorbar": {
              "outlinewidth": 0,
              "ticks": ""
             }
            },
            "type": "scatterpolar"
           }
          ],
          "scatterpolargl": [
           {
            "marker": {
             "colorbar": {
              "outlinewidth": 0,
              "ticks": ""
             }
            },
            "type": "scatterpolargl"
           }
          ],
          "scatterternary": [
           {
            "marker": {
             "colorbar": {
              "outlinewidth": 0,
              "ticks": ""
             }
            },
            "type": "scatterternary"
           }
          ],
          "surface": [
           {
            "colorbar": {
             "outlinewidth": 0,
             "ticks": ""
            },
            "colorscale": [
             [
              0,
              "#0d0887"
             ],
             [
              0.1111111111111111,
              "#46039f"
             ],
             [
              0.2222222222222222,
              "#7201a8"
             ],
             [
              0.3333333333333333,
              "#9c179e"
             ],
             [
              0.4444444444444444,
              "#bd3786"
             ],
             [
              0.5555555555555556,
              "#d8576b"
             ],
             [
              0.6666666666666666,
              "#ed7953"
             ],
             [
              0.7777777777777778,
              "#fb9f3a"
             ],
             [
              0.8888888888888888,
              "#fdca26"
             ],
             [
              1,
              "#f0f921"
             ]
            ],
            "type": "surface"
           }
          ],
          "table": [
           {
            "cells": {
             "fill": {
              "color": "#EBF0F8"
             },
             "line": {
              "color": "white"
             }
            },
            "header": {
             "fill": {
              "color": "#C8D4E3"
             },
             "line": {
              "color": "white"
             }
            },
            "type": "table"
           }
          ]
         },
         "layout": {
          "annotationdefaults": {
           "arrowcolor": "#2a3f5f",
           "arrowhead": 0,
           "arrowwidth": 1
          },
          "autotypenumbers": "strict",
          "coloraxis": {
           "colorbar": {
            "outlinewidth": 0,
            "ticks": ""
           }
          },
          "colorscale": {
           "diverging": [
            [
             0,
             "#8e0152"
            ],
            [
             0.1,
             "#c51b7d"
            ],
            [
             0.2,
             "#de77ae"
            ],
            [
             0.3,
             "#f1b6da"
            ],
            [
             0.4,
             "#fde0ef"
            ],
            [
             0.5,
             "#f7f7f7"
            ],
            [
             0.6,
             "#e6f5d0"
            ],
            [
             0.7,
             "#b8e186"
            ],
            [
             0.8,
             "#7fbc41"
            ],
            [
             0.9,
             "#4d9221"
            ],
            [
             1,
             "#276419"
            ]
           ],
           "sequential": [
            [
             0,
             "#0d0887"
            ],
            [
             0.1111111111111111,
             "#46039f"
            ],
            [
             0.2222222222222222,
             "#7201a8"
            ],
            [
             0.3333333333333333,
             "#9c179e"
            ],
            [
             0.4444444444444444,
             "#bd3786"
            ],
            [
             0.5555555555555556,
             "#d8576b"
            ],
            [
             0.6666666666666666,
             "#ed7953"
            ],
            [
             0.7777777777777778,
             "#fb9f3a"
            ],
            [
             0.8888888888888888,
             "#fdca26"
            ],
            [
             1,
             "#f0f921"
            ]
           ],
           "sequentialminus": [
            [
             0,
             "#0d0887"
            ],
            [
             0.1111111111111111,
             "#46039f"
            ],
            [
             0.2222222222222222,
             "#7201a8"
            ],
            [
             0.3333333333333333,
             "#9c179e"
            ],
            [
             0.4444444444444444,
             "#bd3786"
            ],
            [
             0.5555555555555556,
             "#d8576b"
            ],
            [
             0.6666666666666666,
             "#ed7953"
            ],
            [
             0.7777777777777778,
             "#fb9f3a"
            ],
            [
             0.8888888888888888,
             "#fdca26"
            ],
            [
             1,
             "#f0f921"
            ]
           ]
          },
          "colorway": [
           "#36b7d2",
           "#e76f51",
           "#f6bb37",
           "#264653",
           "#f3b3b4",
           "#2a9d8f",
           "#8455cb",
           "#f4a261",
           "#e76f51",
           "#264653"
          ],
          "font": {
           "color": "#3A3A3A",
           "family": "Palatino, 'Palatino Linotype', 'Book Antiqua', serif"
          },
          "geo": {
           "bgcolor": "white",
           "lakecolor": "white",
           "landcolor": "white",
           "showlakes": true,
           "showland": true,
           "subunitcolor": "#C8D4E3"
          },
          "hoverlabel": {
           "align": "left"
          },
          "hovermode": "closest",
          "mapbox": {
           "style": "light"
          },
          "paper_bgcolor": "rgba(0,0,0,0)",
          "plot_bgcolor": "white",
          "polar": {
           "angularaxis": {
            "gridcolor": "#EBF0F8",
            "linecolor": "#EBF0F8",
            "ticks": ""
           },
           "bgcolor": "white",
           "radialaxis": {
            "gridcolor": "#EBF0F8",
            "linecolor": "#EBF0F8",
            "ticks": ""
           }
          },
          "scene": {
           "xaxis": {
            "backgroundcolor": "white",
            "gridcolor": "#DFE8F3",
            "gridwidth": 2,
            "linecolor": "#EBF0F8",
            "showbackground": true,
            "ticks": "",
            "zerolinecolor": "#EBF0F8"
           },
           "yaxis": {
            "backgroundcolor": "white",
            "gridcolor": "#DFE8F3",
            "gridwidth": 2,
            "linecolor": "#EBF0F8",
            "showbackground": true,
            "ticks": "",
            "zerolinecolor": "#EBF0F8"
           },
           "zaxis": {
            "backgroundcolor": "white",
            "gridcolor": "#DFE8F3",
            "gridwidth": 2,
            "linecolor": "#EBF0F8",
            "showbackground": true,
            "ticks": "",
            "zerolinecolor": "#EBF0F8"
           }
          },
          "shapedefaults": {
           "line": {
            "color": "#2a3f5f"
           }
          },
          "ternary": {
           "aaxis": {
            "gridcolor": "#DFE8F3",
            "linecolor": "#A2B1C6",
            "ticks": ""
           },
           "baxis": {
            "gridcolor": "#DFE8F3",
            "linecolor": "#A2B1C6",
            "ticks": ""
           },
           "bgcolor": "white",
           "caxis": {
            "gridcolor": "#DFE8F3",
            "linecolor": "#A2B1C6",
            "ticks": ""
           }
          },
          "title": {
           "x": 0.5,
           "xanchor": "center"
          },
          "xaxis": {
           "automargin": true,
           "gridcolor": "#EBF0F8",
           "linecolor": "#EBF0F8",
           "ticks": "",
           "title": {
            "standoff": 15
           },
           "zerolinecolor": "#EBF0F8",
           "zerolinewidth": 2
          },
          "yaxis": {
           "automargin": true,
           "gridcolor": "#EBF0F8",
           "linecolor": "#EBF0F8",
           "ticks": "",
           "title": {
            "standoff": 15
           },
           "zerolinecolor": "#EBF0F8",
           "zerolinewidth": 2
          }
         }
        },
        "title": {
         "text": "DermaNet w/ BYOL Validation Loss"
        },
        "width": 700,
        "xaxis": {
         "anchor": "y",
         "domain": [
          0,
          1
         ],
         "range": [
          -1,
          70
         ],
         "title": {
          "text": "Epoch"
         }
        },
        "yaxis": {
         "anchor": "x",
         "domain": [
          0,
          1
         ],
         "range": [
          1.6,
          2.3159911751747133
         ],
         "title": {
          "text": "Loss"
         }
        }
       }
      }
     },
     "metadata": {},
     "output_type": "display_data"
    }
   ],
   "source": [
    "# Dermanet w/ BYOL: validation loss\n",
    "val_loss_w = pd.read_csv('../outputs/results_data/dermanet_training_with_pretrain/dermanet_wbyol_val_loss.csv')\n",
    "if 'Step' in val_loss_w.columns:\n",
    "    val_loss_w['Epoch'] = val_loss_w['Step'] // 39.58\n",
    "fig = px.line(\n",
    "    val_loss_w,\n",
    "    x='Epoch' if 'Epoch' in val_loss_w.columns else val_loss_w.index,\n",
    "    y='Value',\n",
    "    title='DermaNet w/ BYOL Validation Loss',\n",
    "    labels={'Epoch': 'Epoch', 'Value': 'Loss'},\n",
    "    color_discrete_sequence=[DARK_BG]\n",
    ")\n",
    "fig.update_layout(yaxis_range=[1.6, max(0.1, val_loss_w['Value'].max()*1.05)], xaxis_range=[(val_loss_w['Epoch'].min() - 1) if 'Epoch' in val_loss_w.columns else None, (val_loss_w['Epoch'].max() + 1) if 'Epoch' in val_loss_w.columns else None], width=700, height=500)\n",
    "fig.write_image('imgs/dermanet_wbyol_val_loss.png', scale=2)\n",
    "fig.show()"
   ]
  },
  {
   "cell_type": "code",
   "execution_count": 83,
   "id": "1122ad2e",
   "metadata": {},
   "outputs": [
    {
     "data": {
      "application/vnd.plotly.v1+json": {
       "config": {
        "plotlyServerURL": "https://plot.ly"
       },
       "data": [
        {
         "hovertemplate": "Epoch=%{x}<br>Top-1 Accuracy=%{y}<extra></extra>",
         "legendgroup": "",
         "line": {
          "color": "#e76f51",
          "dash": "solid"
         },
         "marker": {
          "symbol": "circle"
         },
         "mode": "lines",
         "name": "",
         "orientation": "v",
         "showlegend": false,
         "type": "scatter",
         "x": {
          "bdata": "AAAAAAAAAAAAAAAAAADwPwAAAAAAAAhAAAAAAAAAEEAAAAAAAAAUQAAAAAAAABhAAAAAAAAAHEAAAAAAAAAgQAAAAAAAACJAAAAAAAAAJEAAAAAAAAAmQAAAAAAAAChAAAAAAAAAKkAAAAAAAAAsQAAAAAAAAC5AAAAAAAAAMEAAAAAAAAAxQAAAAAAAADJAAAAAAAAAM0AAAAAAAAA0QAAAAAAAADVAAAAAAAAANkAAAAAAAAA3QAAAAAAAADhAAAAAAAAAOUAAAAAAAAA6QAAAAAAAADtAAAAAAAAAPEAAAAAAAAA9QAAAAAAAAD5AAAAAAAAAP0AAAAAAAABAQAAAAAAAgEBAAAAAAAAAQUAAAAAAAIBBQAAAAAAAAEJAAAAAAACAQkAAAAAAAABDQAAAAAAAgENAAAAAAAAAREAAAAAAAIBEQAAAAAAAAEVAAAAAAACARUAAAAAAAABGQAAAAAAAgEZAAAAAAAAAR0AAAAAAAIBHQAAAAAAAAEhAAAAAAACASEAAAAAAAABJQAAAAAAAgElAAAAAAAAASkAAAAAAAIBKQAAAAAAAAEtAAAAAAACAS0AAAAAAAABMQAAAAAAAgExAAAAAAAAATUAAAAAAAIBNQAAAAAAAAE5AAAAAAACATkAAAAAAAABPQAAAAAAAgE9AAAAAAAAAUEAAAAAAAEBQQAAAAAAAgFBAAAAAAADAUEAAAAAAAABRQAAAAAAAQFFAAAAAAABAUUA=",
          "dtype": "f8"
         },
         "xaxis": "x",
         "y": {
          "bdata": "AAAAgCq01T////8/937aPwAAAAC6ato/////f8Km3D//////aaPdPwAAAADBDN4/AAAAAK9y3j8AAABgZx7gPwAAAADF4+A/AAAAADEI4T8AAADgaHjhPwAAAOAhHOE/AAAA4Ghf4D8AAACgc8vhPwAAAIDQYeI/AAAAYNIp4j8AAAAAAVriPwAAAECtWuI/AAAAgBm+4j8AAADAYwriPwAAAMAiy+I/AAAAABo24j8AAABAZsDiPwAAAOAEreI/AAAA4B2w4j8AAAAAekfjPwAAAGD3OuM/AAAAoGtE4z8AAADAnXTjPwAAAIDxxeM/AAAAQMjN4z8AAABgu1LjPwAAAID7qeM/AAAAYNjP4z8AAACglVDjPwAAAMABCeQ/AAAAQEk+5D8AAADAzo7jPwAAAAC5t+M/AAAAwEOd4z8AAADA8vbjPwAAAEBLB+Q/AAAAwE3Y4z8AAABAFxfkPwAAAICNX+Q/AAAAAJ3o4z8AAACAB9bjPwAAAABAQuQ/AAAAQLIk5D8AAADA+u3jPwAAAAD/DeQ/AAAAADF85D8AAACA7RPkPwAAAKBpTuQ/AAAAgNNL5D8AAAAALGbkPwAAAAALjOQ/AAAAwMKl5D8AAADAqQzlPwAAAED4ZOQ/AAAA4NRL5D8AAABAH6fkPwAAAIBE+eQ/AAAAQOq65D8AAABAUMXkPwAAAMCeQ+Q/AAAAAPK65D8AAACAF+/kPwAAAABz7+Q/AAAAQEk+5D8=",
          "dtype": "f8"
         },
         "yaxis": "y"
        }
       ],
       "layout": {
        "height": 500,
        "legend": {
         "tracegroupgap": 0
        },
        "template": {
         "data": {
          "bar": [
           {
            "error_x": {
             "color": "#2a3f5f"
            },
            "error_y": {
             "color": "#2a3f5f"
            },
            "marker": {
             "line": {
              "color": "white",
              "width": 0.5
             },
             "pattern": {
              "fillmode": "overlay",
              "size": 10,
              "solidity": 0.2
             }
            },
            "type": "bar"
           }
          ],
          "barpolar": [
           {
            "marker": {
             "line": {
              "color": "white",
              "width": 0.5
             },
             "pattern": {
              "fillmode": "overlay",
              "size": 10,
              "solidity": 0.2
             }
            },
            "type": "barpolar"
           }
          ],
          "carpet": [
           {
            "aaxis": {
             "endlinecolor": "#2a3f5f",
             "gridcolor": "#C8D4E3",
             "linecolor": "#C8D4E3",
             "minorgridcolor": "#C8D4E3",
             "startlinecolor": "#2a3f5f"
            },
            "baxis": {
             "endlinecolor": "#2a3f5f",
             "gridcolor": "#C8D4E3",
             "linecolor": "#C8D4E3",
             "minorgridcolor": "#C8D4E3",
             "startlinecolor": "#2a3f5f"
            },
            "type": "carpet"
           }
          ],
          "choropleth": [
           {
            "colorbar": {
             "outlinewidth": 0,
             "ticks": ""
            },
            "type": "choropleth"
           }
          ],
          "contour": [
           {
            "colorbar": {
             "outlinewidth": 0,
             "ticks": ""
            },
            "colorscale": [
             [
              0,
              "#0d0887"
             ],
             [
              0.1111111111111111,
              "#46039f"
             ],
             [
              0.2222222222222222,
              "#7201a8"
             ],
             [
              0.3333333333333333,
              "#9c179e"
             ],
             [
              0.4444444444444444,
              "#bd3786"
             ],
             [
              0.5555555555555556,
              "#d8576b"
             ],
             [
              0.6666666666666666,
              "#ed7953"
             ],
             [
              0.7777777777777778,
              "#fb9f3a"
             ],
             [
              0.8888888888888888,
              "#fdca26"
             ],
             [
              1,
              "#f0f921"
             ]
            ],
            "type": "contour"
           }
          ],
          "contourcarpet": [
           {
            "colorbar": {
             "outlinewidth": 0,
             "ticks": ""
            },
            "type": "contourcarpet"
           }
          ],
          "heatmap": [
           {
            "colorbar": {
             "outlinewidth": 0,
             "ticks": ""
            },
            "colorscale": [
             [
              0,
              "#0d0887"
             ],
             [
              0.1111111111111111,
              "#46039f"
             ],
             [
              0.2222222222222222,
              "#7201a8"
             ],
             [
              0.3333333333333333,
              "#9c179e"
             ],
             [
              0.4444444444444444,
              "#bd3786"
             ],
             [
              0.5555555555555556,
              "#d8576b"
             ],
             [
              0.6666666666666666,
              "#ed7953"
             ],
             [
              0.7777777777777778,
              "#fb9f3a"
             ],
             [
              0.8888888888888888,
              "#fdca26"
             ],
             [
              1,
              "#f0f921"
             ]
            ],
            "type": "heatmap"
           }
          ],
          "histogram": [
           {
            "marker": {
             "pattern": {
              "fillmode": "overlay",
              "size": 10,
              "solidity": 0.2
             }
            },
            "type": "histogram"
           }
          ],
          "histogram2d": [
           {
            "colorbar": {
             "outlinewidth": 0,
             "ticks": ""
            },
            "colorscale": [
             [
              0,
              "#0d0887"
             ],
             [
              0.1111111111111111,
              "#46039f"
             ],
             [
              0.2222222222222222,
              "#7201a8"
             ],
             [
              0.3333333333333333,
              "#9c179e"
             ],
             [
              0.4444444444444444,
              "#bd3786"
             ],
             [
              0.5555555555555556,
              "#d8576b"
             ],
             [
              0.6666666666666666,
              "#ed7953"
             ],
             [
              0.7777777777777778,
              "#fb9f3a"
             ],
             [
              0.8888888888888888,
              "#fdca26"
             ],
             [
              1,
              "#f0f921"
             ]
            ],
            "type": "histogram2d"
           }
          ],
          "histogram2dcontour": [
           {
            "colorbar": {
             "outlinewidth": 0,
             "ticks": ""
            },
            "colorscale": [
             [
              0,
              "#0d0887"
             ],
             [
              0.1111111111111111,
              "#46039f"
             ],
             [
              0.2222222222222222,
              "#7201a8"
             ],
             [
              0.3333333333333333,
              "#9c179e"
             ],
             [
              0.4444444444444444,
              "#bd3786"
             ],
             [
              0.5555555555555556,
              "#d8576b"
             ],
             [
              0.6666666666666666,
              "#ed7953"
             ],
             [
              0.7777777777777778,
              "#fb9f3a"
             ],
             [
              0.8888888888888888,
              "#fdca26"
             ],
             [
              1,
              "#f0f921"
             ]
            ],
            "type": "histogram2dcontour"
           }
          ],
          "mesh3d": [
           {
            "colorbar": {
             "outlinewidth": 0,
             "ticks": ""
            },
            "type": "mesh3d"
           }
          ],
          "parcoords": [
           {
            "line": {
             "colorbar": {
              "outlinewidth": 0,
              "ticks": ""
             }
            },
            "type": "parcoords"
           }
          ],
          "pie": [
           {
            "automargin": true,
            "type": "pie"
           }
          ],
          "scatter": [
           {
            "fillpattern": {
             "fillmode": "overlay",
             "size": 10,
             "solidity": 0.2
            },
            "type": "scatter"
           }
          ],
          "scatter3d": [
           {
            "line": {
             "colorbar": {
              "outlinewidth": 0,
              "ticks": ""
             }
            },
            "marker": {
             "colorbar": {
              "outlinewidth": 0,
              "ticks": ""
             }
            },
            "type": "scatter3d"
           }
          ],
          "scattercarpet": [
           {
            "marker": {
             "colorbar": {
              "outlinewidth": 0,
              "ticks": ""
             }
            },
            "type": "scattercarpet"
           }
          ],
          "scattergeo": [
           {
            "marker": {
             "colorbar": {
              "outlinewidth": 0,
              "ticks": ""
             }
            },
            "type": "scattergeo"
           }
          ],
          "scattergl": [
           {
            "marker": {
             "colorbar": {
              "outlinewidth": 0,
              "ticks": ""
             }
            },
            "type": "scattergl"
           }
          ],
          "scattermap": [
           {
            "marker": {
             "colorbar": {
              "outlinewidth": 0,
              "ticks": ""
             }
            },
            "type": "scattermap"
           }
          ],
          "scattermapbox": [
           {
            "marker": {
             "colorbar": {
              "outlinewidth": 0,
              "ticks": ""
             }
            },
            "type": "scattermapbox"
           }
          ],
          "scatterpolar": [
           {
            "marker": {
             "colorbar": {
              "outlinewidth": 0,
              "ticks": ""
             }
            },
            "type": "scatterpolar"
           }
          ],
          "scatterpolargl": [
           {
            "marker": {
             "colorbar": {
              "outlinewidth": 0,
              "ticks": ""
             }
            },
            "type": "scatterpolargl"
           }
          ],
          "scatterternary": [
           {
            "marker": {
             "colorbar": {
              "outlinewidth": 0,
              "ticks": ""
             }
            },
            "type": "scatterternary"
           }
          ],
          "surface": [
           {
            "colorbar": {
             "outlinewidth": 0,
             "ticks": ""
            },
            "colorscale": [
             [
              0,
              "#0d0887"
             ],
             [
              0.1111111111111111,
              "#46039f"
             ],
             [
              0.2222222222222222,
              "#7201a8"
             ],
             [
              0.3333333333333333,
              "#9c179e"
             ],
             [
              0.4444444444444444,
              "#bd3786"
             ],
             [
              0.5555555555555556,
              "#d8576b"
             ],
             [
              0.6666666666666666,
              "#ed7953"
             ],
             [
              0.7777777777777778,
              "#fb9f3a"
             ],
             [
              0.8888888888888888,
              "#fdca26"
             ],
             [
              1,
              "#f0f921"
             ]
            ],
            "type": "surface"
           }
          ],
          "table": [
           {
            "cells": {
             "fill": {
              "color": "#EBF0F8"
             },
             "line": {
              "color": "white"
             }
            },
            "header": {
             "fill": {
              "color": "#C8D4E3"
             },
             "line": {
              "color": "white"
             }
            },
            "type": "table"
           }
          ]
         },
         "layout": {
          "annotationdefaults": {
           "arrowcolor": "#2a3f5f",
           "arrowhead": 0,
           "arrowwidth": 1
          },
          "autotypenumbers": "strict",
          "coloraxis": {
           "colorbar": {
            "outlinewidth": 0,
            "ticks": ""
           }
          },
          "colorscale": {
           "diverging": [
            [
             0,
             "#8e0152"
            ],
            [
             0.1,
             "#c51b7d"
            ],
            [
             0.2,
             "#de77ae"
            ],
            [
             0.3,
             "#f1b6da"
            ],
            [
             0.4,
             "#fde0ef"
            ],
            [
             0.5,
             "#f7f7f7"
            ],
            [
             0.6,
             "#e6f5d0"
            ],
            [
             0.7,
             "#b8e186"
            ],
            [
             0.8,
             "#7fbc41"
            ],
            [
             0.9,
             "#4d9221"
            ],
            [
             1,
             "#276419"
            ]
           ],
           "sequential": [
            [
             0,
             "#0d0887"
            ],
            [
             0.1111111111111111,
             "#46039f"
            ],
            [
             0.2222222222222222,
             "#7201a8"
            ],
            [
             0.3333333333333333,
             "#9c179e"
            ],
            [
             0.4444444444444444,
             "#bd3786"
            ],
            [
             0.5555555555555556,
             "#d8576b"
            ],
            [
             0.6666666666666666,
             "#ed7953"
            ],
            [
             0.7777777777777778,
             "#fb9f3a"
            ],
            [
             0.8888888888888888,
             "#fdca26"
            ],
            [
             1,
             "#f0f921"
            ]
           ],
           "sequentialminus": [
            [
             0,
             "#0d0887"
            ],
            [
             0.1111111111111111,
             "#46039f"
            ],
            [
             0.2222222222222222,
             "#7201a8"
            ],
            [
             0.3333333333333333,
             "#9c179e"
            ],
            [
             0.4444444444444444,
             "#bd3786"
            ],
            [
             0.5555555555555556,
             "#d8576b"
            ],
            [
             0.6666666666666666,
             "#ed7953"
            ],
            [
             0.7777777777777778,
             "#fb9f3a"
            ],
            [
             0.8888888888888888,
             "#fdca26"
            ],
            [
             1,
             "#f0f921"
            ]
           ]
          },
          "colorway": [
           "#36b7d2",
           "#e76f51",
           "#f6bb37",
           "#264653",
           "#f3b3b4",
           "#2a9d8f",
           "#8455cb",
           "#f4a261",
           "#e76f51",
           "#264653"
          ],
          "font": {
           "color": "#3A3A3A",
           "family": "Palatino, 'Palatino Linotype', 'Book Antiqua', serif"
          },
          "geo": {
           "bgcolor": "white",
           "lakecolor": "white",
           "landcolor": "white",
           "showlakes": true,
           "showland": true,
           "subunitcolor": "#C8D4E3"
          },
          "hoverlabel": {
           "align": "left"
          },
          "hovermode": "closest",
          "mapbox": {
           "style": "light"
          },
          "paper_bgcolor": "rgba(0,0,0,0)",
          "plot_bgcolor": "white",
          "polar": {
           "angularaxis": {
            "gridcolor": "#EBF0F8",
            "linecolor": "#EBF0F8",
            "ticks": ""
           },
           "bgcolor": "white",
           "radialaxis": {
            "gridcolor": "#EBF0F8",
            "linecolor": "#EBF0F8",
            "ticks": ""
           }
          },
          "scene": {
           "xaxis": {
            "backgroundcolor": "white",
            "gridcolor": "#DFE8F3",
            "gridwidth": 2,
            "linecolor": "#EBF0F8",
            "showbackground": true,
            "ticks": "",
            "zerolinecolor": "#EBF0F8"
           },
           "yaxis": {
            "backgroundcolor": "white",
            "gridcolor": "#DFE8F3",
            "gridwidth": 2,
            "linecolor": "#EBF0F8",
            "showbackground": true,
            "ticks": "",
            "zerolinecolor": "#EBF0F8"
           },
           "zaxis": {
            "backgroundcolor": "white",
            "gridcolor": "#DFE8F3",
            "gridwidth": 2,
            "linecolor": "#EBF0F8",
            "showbackground": true,
            "ticks": "",
            "zerolinecolor": "#EBF0F8"
           }
          },
          "shapedefaults": {
           "line": {
            "color": "#2a3f5f"
           }
          },
          "ternary": {
           "aaxis": {
            "gridcolor": "#DFE8F3",
            "linecolor": "#A2B1C6",
            "ticks": ""
           },
           "baxis": {
            "gridcolor": "#DFE8F3",
            "linecolor": "#A2B1C6",
            "ticks": ""
           },
           "bgcolor": "white",
           "caxis": {
            "gridcolor": "#DFE8F3",
            "linecolor": "#A2B1C6",
            "ticks": ""
           }
          },
          "title": {
           "x": 0.5,
           "xanchor": "center"
          },
          "xaxis": {
           "automargin": true,
           "gridcolor": "#EBF0F8",
           "linecolor": "#EBF0F8",
           "ticks": "",
           "title": {
            "standoff": 15
           },
           "zerolinecolor": "#EBF0F8",
           "zerolinewidth": 2
          },
          "yaxis": {
           "automargin": true,
           "gridcolor": "#EBF0F8",
           "linecolor": "#EBF0F8",
           "ticks": "",
           "title": {
            "standoff": 15
           },
           "zerolinecolor": "#EBF0F8",
           "zerolinewidth": 2
          }
         }
        },
        "title": {
         "text": "DermaNet w/ BYOL Validation Top-1 Accuracy"
        },
        "width": 700,
        "xaxis": {
         "anchor": "y",
         "domain": [
          0,
          1
         ],
         "range": [
          -1,
          70
         ],
         "title": {
          "text": "Epoch"
         }
        },
        "yaxis": {
         "anchor": "x",
         "domain": [
          0,
          1
         ],
         "range": [
          0.3221653878688812,
          0.6906855762004852
         ],
         "title": {
          "text": "Top-1 Accuracy"
         }
        }
       }
      }
     },
     "metadata": {},
     "output_type": "display_data"
    }
   ],
   "source": [
    "# Dermanet w/ BYOL: validation top-1 accuracy\n",
    "val_acc1_w = pd.read_csv('../outputs/results_data/dermanet_training_with_pretrain/dermanet_wbyol_val_acc1.csv')\n",
    "if 'Step' in val_acc1_w.columns:\n",
    "    val_acc1_w['Epoch'] = val_acc1_w['Step'] // 39.58\n",
    "fig = px.line(\n",
    "    val_acc1_w,\n",
    "    x='Epoch' if 'Epoch' in val_acc1_w.columns else val_acc1_w.index,\n",
    "    y='Value',\n",
    "    title='DermaNet w/ BYOL Validation Top-1 Accuracy',\n",
    "    labels={'Epoch': 'Epoch', 'Value': 'Top-1 Accuracy'},\n",
    "    color_discrete_sequence=[ACCENT3]\n",
    ")\n",
    "fig.update_layout(yaxis_range=[max(0, val_acc1_w['Value'].min()*0.95), min(1, val_acc1_w['Value'].max()*1.05)], xaxis_range=[(val_acc1_w['Epoch'].min() - 1) if 'Epoch' in val_acc1_w.columns else None, (val_acc1_w['Epoch'].max() + 1) if 'Epoch' in val_acc1_w.columns else None], width=700, height=500)\n",
    "fig.write_image('imgs/dermanet_wbyol_val_acc1.png', scale=2)\n",
    "fig.show()"
   ]
  },
  {
   "cell_type": "code",
   "execution_count": 84,
   "id": "845ce1cf",
   "metadata": {},
   "outputs": [
    {
     "data": {
      "application/vnd.plotly.v1+json": {
       "config": {
        "plotlyServerURL": "https://plot.ly"
       },
       "data": [
        {
         "hovertemplate": "Epoch=%{x}<br>Top-5 Accuracy=%{y}<extra></extra>",
         "legendgroup": "",
         "line": {
          "color": "#e76f51",
          "dash": "solid"
         },
         "marker": {
          "symbol": "circle"
         },
         "mode": "lines",
         "name": "",
         "orientation": "v",
         "showlegend": false,
         "type": "scatter",
         "x": {
          "bdata": "AAAAAAAAAAAAAAAAAADwPwAAAAAAAAhAAAAAAAAAEEAAAAAAAAAUQAAAAAAAABhAAAAAAAAAHEAAAAAAAAAgQAAAAAAAACJAAAAAAAAAJEAAAAAAAAAmQAAAAAAAAChAAAAAAAAAKkAAAAAAAAAsQAAAAAAAAC5AAAAAAAAAMEAAAAAAAAAxQAAAAAAAADJAAAAAAAAAM0AAAAAAAAA0QAAAAAAAADVAAAAAAAAANkAAAAAAAAA3QAAAAAAAADhAAAAAAAAAOUAAAAAAAAA6QAAAAAAAADtAAAAAAAAAPEAAAAAAAAA9QAAAAAAAAD5AAAAAAAAAP0AAAAAAAABAQAAAAAAAgEBAAAAAAAAAQUAAAAAAAIBBQAAAAAAAAEJAAAAAAACAQkAAAAAAAABDQAAAAAAAgENAAAAAAAAAREAAAAAAAIBEQAAAAAAAAEVAAAAAAACARUAAAAAAAABGQAAAAAAAgEZAAAAAAAAAR0AAAAAAAIBHQAAAAAAAAEhAAAAAAACASEAAAAAAAABJQAAAAAAAgElAAAAAAAAASkAAAAAAAIBKQAAAAAAAAEtAAAAAAACAS0AAAAAAAABMQAAAAAAAgExAAAAAAAAATUAAAAAAAIBNQAAAAAAAAE5AAAAAAACATkAAAAAAAABPQAAAAAAAgE9AAAAAAAAAUEAAAAAAAEBQQAAAAAAAgFBAAAAAAADAUEAAAAAAAABRQAAAAAAAQFFAAAAAAABAUUA=",
          "dtype": "f8"
         },
         "xaxis": "x",
         "y": {
          "bdata": "AAAAQBgn6z//////2uDsPwAAAGARFe0/////P2+C7T8AAAAgP/ntPwAAAMCo6e0/AAAAgNs07j8AAAAgDVruPwAAAMA8Ru4/AAAAQFas7j////9/g5DuPwAAAADHdO4/AQAAANLJ7j8BAADASfDuP////x/13O4/////3yfy7j8AAACAaPXuP////z+uze4/AAAAgBMM7z8BAACgBPvuPwAAAECU3u4/AAAAoHW+7j8AAACAT+buP////3/9B+8/AAAAANGW7j////9f/6TuPwEAAICMxe4/AQAAgMOr7j8AAACA4+HuPwAAAAAPf+4/AQAA4M+37j8AAACgqqLuPwAAAECMnu4/AAAAgFeK7j////8f21TuPwEAAACpY+4/AQAAgACw7j8BAACAQXruPwAAAAA+Yu4/AAAAgNlP7j////8f2zzuP/////+XjO4/AAAAgJxA7j8AAAAANVTuPwAAAIBge+4/AAAAQF0Z7j8BAACgjgfuPwEAAEC5ZO4/AAAAgNNF7j////9/RmbuPwAAAIBRfe4/AAAAgJVU7j8AAABAglDuPwAAAOD97O0/AAAAIAPk7T8AAAAAtQPuPwEAAED8Nu4/AAAAYEk77j8AAACAWOvtPwAAAIAW7+0/AAAAINLj7T8AAABATuXtPwAAAKA38u0/AAAAAHMK7j8AAAAAcwfuPwAAACAI3u0/AAAA4Dz67T8AAACAmuXtPwAAAOBwJe4/AQAAgACw7j8=",
          "dtype": "f8"
         },
         "yaxis": "y"
        }
       ],
       "layout": {
        "height": 500,
        "legend": {
         "tracegroupgap": 0
        },
        "template": {
         "data": {
          "bar": [
           {
            "error_x": {
             "color": "#2a3f5f"
            },
            "error_y": {
             "color": "#2a3f5f"
            },
            "marker": {
             "line": {
              "color": "white",
              "width": 0.5
             },
             "pattern": {
              "fillmode": "overlay",
              "size": 10,
              "solidity": 0.2
             }
            },
            "type": "bar"
           }
          ],
          "barpolar": [
           {
            "marker": {
             "line": {
              "color": "white",
              "width": 0.5
             },
             "pattern": {
              "fillmode": "overlay",
              "size": 10,
              "solidity": 0.2
             }
            },
            "type": "barpolar"
           }
          ],
          "carpet": [
           {
            "aaxis": {
             "endlinecolor": "#2a3f5f",
             "gridcolor": "#C8D4E3",
             "linecolor": "#C8D4E3",
             "minorgridcolor": "#C8D4E3",
             "startlinecolor": "#2a3f5f"
            },
            "baxis": {
             "endlinecolor": "#2a3f5f",
             "gridcolor": "#C8D4E3",
             "linecolor": "#C8D4E3",
             "minorgridcolor": "#C8D4E3",
             "startlinecolor": "#2a3f5f"
            },
            "type": "carpet"
           }
          ],
          "choropleth": [
           {
            "colorbar": {
             "outlinewidth": 0,
             "ticks": ""
            },
            "type": "choropleth"
           }
          ],
          "contour": [
           {
            "colorbar": {
             "outlinewidth": 0,
             "ticks": ""
            },
            "colorscale": [
             [
              0,
              "#0d0887"
             ],
             [
              0.1111111111111111,
              "#46039f"
             ],
             [
              0.2222222222222222,
              "#7201a8"
             ],
             [
              0.3333333333333333,
              "#9c179e"
             ],
             [
              0.4444444444444444,
              "#bd3786"
             ],
             [
              0.5555555555555556,
              "#d8576b"
             ],
             [
              0.6666666666666666,
              "#ed7953"
             ],
             [
              0.7777777777777778,
              "#fb9f3a"
             ],
             [
              0.8888888888888888,
              "#fdca26"
             ],
             [
              1,
              "#f0f921"
             ]
            ],
            "type": "contour"
           }
          ],
          "contourcarpet": [
           {
            "colorbar": {
             "outlinewidth": 0,
             "ticks": ""
            },
            "type": "contourcarpet"
           }
          ],
          "heatmap": [
           {
            "colorbar": {
             "outlinewidth": 0,
             "ticks": ""
            },
            "colorscale": [
             [
              0,
              "#0d0887"
             ],
             [
              0.1111111111111111,
              "#46039f"
             ],
             [
              0.2222222222222222,
              "#7201a8"
             ],
             [
              0.3333333333333333,
              "#9c179e"
             ],
             [
              0.4444444444444444,
              "#bd3786"
             ],
             [
              0.5555555555555556,
              "#d8576b"
             ],
             [
              0.6666666666666666,
              "#ed7953"
             ],
             [
              0.7777777777777778,
              "#fb9f3a"
             ],
             [
              0.8888888888888888,
              "#fdca26"
             ],
             [
              1,
              "#f0f921"
             ]
            ],
            "type": "heatmap"
           }
          ],
          "histogram": [
           {
            "marker": {
             "pattern": {
              "fillmode": "overlay",
              "size": 10,
              "solidity": 0.2
             }
            },
            "type": "histogram"
           }
          ],
          "histogram2d": [
           {
            "colorbar": {
             "outlinewidth": 0,
             "ticks": ""
            },
            "colorscale": [
             [
              0,
              "#0d0887"
             ],
             [
              0.1111111111111111,
              "#46039f"
             ],
             [
              0.2222222222222222,
              "#7201a8"
             ],
             [
              0.3333333333333333,
              "#9c179e"
             ],
             [
              0.4444444444444444,
              "#bd3786"
             ],
             [
              0.5555555555555556,
              "#d8576b"
             ],
             [
              0.6666666666666666,
              "#ed7953"
             ],
             [
              0.7777777777777778,
              "#fb9f3a"
             ],
             [
              0.8888888888888888,
              "#fdca26"
             ],
             [
              1,
              "#f0f921"
             ]
            ],
            "type": "histogram2d"
           }
          ],
          "histogram2dcontour": [
           {
            "colorbar": {
             "outlinewidth": 0,
             "ticks": ""
            },
            "colorscale": [
             [
              0,
              "#0d0887"
             ],
             [
              0.1111111111111111,
              "#46039f"
             ],
             [
              0.2222222222222222,
              "#7201a8"
             ],
             [
              0.3333333333333333,
              "#9c179e"
             ],
             [
              0.4444444444444444,
              "#bd3786"
             ],
             [
              0.5555555555555556,
              "#d8576b"
             ],
             [
              0.6666666666666666,
              "#ed7953"
             ],
             [
              0.7777777777777778,
              "#fb9f3a"
             ],
             [
              0.8888888888888888,
              "#fdca26"
             ],
             [
              1,
              "#f0f921"
             ]
            ],
            "type": "histogram2dcontour"
           }
          ],
          "mesh3d": [
           {
            "colorbar": {
             "outlinewidth": 0,
             "ticks": ""
            },
            "type": "mesh3d"
           }
          ],
          "parcoords": [
           {
            "line": {
             "colorbar": {
              "outlinewidth": 0,
              "ticks": ""
             }
            },
            "type": "parcoords"
           }
          ],
          "pie": [
           {
            "automargin": true,
            "type": "pie"
           }
          ],
          "scatter": [
           {
            "fillpattern": {
             "fillmode": "overlay",
             "size": 10,
             "solidity": 0.2
            },
            "type": "scatter"
           }
          ],
          "scatter3d": [
           {
            "line": {
             "colorbar": {
              "outlinewidth": 0,
              "ticks": ""
             }
            },
            "marker": {
             "colorbar": {
              "outlinewidth": 0,
              "ticks": ""
             }
            },
            "type": "scatter3d"
           }
          ],
          "scattercarpet": [
           {
            "marker": {
             "colorbar": {
              "outlinewidth": 0,
              "ticks": ""
             }
            },
            "type": "scattercarpet"
           }
          ],
          "scattergeo": [
           {
            "marker": {
             "colorbar": {
              "outlinewidth": 0,
              "ticks": ""
             }
            },
            "type": "scattergeo"
           }
          ],
          "scattergl": [
           {
            "marker": {
             "colorbar": {
              "outlinewidth": 0,
              "ticks": ""
             }
            },
            "type": "scattergl"
           }
          ],
          "scattermap": [
           {
            "marker": {
             "colorbar": {
              "outlinewidth": 0,
              "ticks": ""
             }
            },
            "type": "scattermap"
           }
          ],
          "scattermapbox": [
           {
            "marker": {
             "colorbar": {
              "outlinewidth": 0,
              "ticks": ""
             }
            },
            "type": "scattermapbox"
           }
          ],
          "scatterpolar": [
           {
            "marker": {
             "colorbar": {
              "outlinewidth": 0,
              "ticks": ""
             }
            },
            "type": "scatterpolar"
           }
          ],
          "scatterpolargl": [
           {
            "marker": {
             "colorbar": {
              "outlinewidth": 0,
              "ticks": ""
             }
            },
            "type": "scatterpolargl"
           }
          ],
          "scatterternary": [
           {
            "marker": {
             "colorbar": {
              "outlinewidth": 0,
              "ticks": ""
             }
            },
            "type": "scatterternary"
           }
          ],
          "surface": [
           {
            "colorbar": {
             "outlinewidth": 0,
             "ticks": ""
            },
            "colorscale": [
             [
              0,
              "#0d0887"
             ],
             [
              0.1111111111111111,
              "#46039f"
             ],
             [
              0.2222222222222222,
              "#7201a8"
             ],
             [
              0.3333333333333333,
              "#9c179e"
             ],
             [
              0.4444444444444444,
              "#bd3786"
             ],
             [
              0.5555555555555556,
              "#d8576b"
             ],
             [
              0.6666666666666666,
              "#ed7953"
             ],
             [
              0.7777777777777778,
              "#fb9f3a"
             ],
             [
              0.8888888888888888,
              "#fdca26"
             ],
             [
              1,
              "#f0f921"
             ]
            ],
            "type": "surface"
           }
          ],
          "table": [
           {
            "cells": {
             "fill": {
              "color": "#EBF0F8"
             },
             "line": {
              "color": "white"
             }
            },
            "header": {
             "fill": {
              "color": "#C8D4E3"
             },
             "line": {
              "color": "white"
             }
            },
            "type": "table"
           }
          ]
         },
         "layout": {
          "annotationdefaults": {
           "arrowcolor": "#2a3f5f",
           "arrowhead": 0,
           "arrowwidth": 1
          },
          "autotypenumbers": "strict",
          "coloraxis": {
           "colorbar": {
            "outlinewidth": 0,
            "ticks": ""
           }
          },
          "colorscale": {
           "diverging": [
            [
             0,
             "#8e0152"
            ],
            [
             0.1,
             "#c51b7d"
            ],
            [
             0.2,
             "#de77ae"
            ],
            [
             0.3,
             "#f1b6da"
            ],
            [
             0.4,
             "#fde0ef"
            ],
            [
             0.5,
             "#f7f7f7"
            ],
            [
             0.6,
             "#e6f5d0"
            ],
            [
             0.7,
             "#b8e186"
            ],
            [
             0.8,
             "#7fbc41"
            ],
            [
             0.9,
             "#4d9221"
            ],
            [
             1,
             "#276419"
            ]
           ],
           "sequential": [
            [
             0,
             "#0d0887"
            ],
            [
             0.1111111111111111,
             "#46039f"
            ],
            [
             0.2222222222222222,
             "#7201a8"
            ],
            [
             0.3333333333333333,
             "#9c179e"
            ],
            [
             0.4444444444444444,
             "#bd3786"
            ],
            [
             0.5555555555555556,
             "#d8576b"
            ],
            [
             0.6666666666666666,
             "#ed7953"
            ],
            [
             0.7777777777777778,
             "#fb9f3a"
            ],
            [
             0.8888888888888888,
             "#fdca26"
            ],
            [
             1,
             "#f0f921"
            ]
           ],
           "sequentialminus": [
            [
             0,
             "#0d0887"
            ],
            [
             0.1111111111111111,
             "#46039f"
            ],
            [
             0.2222222222222222,
             "#7201a8"
            ],
            [
             0.3333333333333333,
             "#9c179e"
            ],
            [
             0.4444444444444444,
             "#bd3786"
            ],
            [
             0.5555555555555556,
             "#d8576b"
            ],
            [
             0.6666666666666666,
             "#ed7953"
            ],
            [
             0.7777777777777778,
             "#fb9f3a"
            ],
            [
             0.8888888888888888,
             "#fdca26"
            ],
            [
             1,
             "#f0f921"
            ]
           ]
          },
          "colorway": [
           "#36b7d2",
           "#e76f51",
           "#f6bb37",
           "#264653",
           "#f3b3b4",
           "#2a9d8f",
           "#8455cb",
           "#f4a261",
           "#e76f51",
           "#264653"
          ],
          "font": {
           "color": "#3A3A3A",
           "family": "Palatino, 'Palatino Linotype', 'Book Antiqua', serif"
          },
          "geo": {
           "bgcolor": "white",
           "lakecolor": "white",
           "landcolor": "white",
           "showlakes": true,
           "showland": true,
           "subunitcolor": "#C8D4E3"
          },
          "hoverlabel": {
           "align": "left"
          },
          "hovermode": "closest",
          "mapbox": {
           "style": "light"
          },
          "paper_bgcolor": "rgba(0,0,0,0)",
          "plot_bgcolor": "white",
          "polar": {
           "angularaxis": {
            "gridcolor": "#EBF0F8",
            "linecolor": "#EBF0F8",
            "ticks": ""
           },
           "bgcolor": "white",
           "radialaxis": {
            "gridcolor": "#EBF0F8",
            "linecolor": "#EBF0F8",
            "ticks": ""
           }
          },
          "scene": {
           "xaxis": {
            "backgroundcolor": "white",
            "gridcolor": "#DFE8F3",
            "gridwidth": 2,
            "linecolor": "#EBF0F8",
            "showbackground": true,
            "ticks": "",
            "zerolinecolor": "#EBF0F8"
           },
           "yaxis": {
            "backgroundcolor": "white",
            "gridcolor": "#DFE8F3",
            "gridwidth": 2,
            "linecolor": "#EBF0F8",
            "showbackground": true,
            "ticks": "",
            "zerolinecolor": "#EBF0F8"
           },
           "zaxis": {
            "backgroundcolor": "white",
            "gridcolor": "#DFE8F3",
            "gridwidth": 2,
            "linecolor": "#EBF0F8",
            "showbackground": true,
            "ticks": "",
            "zerolinecolor": "#EBF0F8"
           }
          },
          "shapedefaults": {
           "line": {
            "color": "#2a3f5f"
           }
          },
          "ternary": {
           "aaxis": {
            "gridcolor": "#DFE8F3",
            "linecolor": "#A2B1C6",
            "ticks": ""
           },
           "baxis": {
            "gridcolor": "#DFE8F3",
            "linecolor": "#A2B1C6",
            "ticks": ""
           },
           "bgcolor": "white",
           "caxis": {
            "gridcolor": "#DFE8F3",
            "linecolor": "#A2B1C6",
            "ticks": ""
           }
          },
          "title": {
           "x": 0.5,
           "xanchor": "center"
          },
          "xaxis": {
           "automargin": true,
           "gridcolor": "#EBF0F8",
           "linecolor": "#EBF0F8",
           "ticks": "",
           "title": {
            "standoff": 15
           },
           "zerolinecolor": "#EBF0F8",
           "zerolinewidth": 2
          },
          "yaxis": {
           "automargin": true,
           "gridcolor": "#EBF0F8",
           "linecolor": "#EBF0F8",
           "ticks": "",
           "title": {
            "standoff": 15
           },
           "zerolinecolor": "#EBF0F8",
           "zerolinewidth": 2
          }
         }
        },
        "title": {
         "text": "DermaNet w/ BYOL Validation Top-5 Accuracy"
        },
        "width": 700,
        "xaxis": {
         "anchor": "y",
         "domain": [
          0,
          1
         ],
         "range": [
          -1,
          70
         ],
         "title": {
          "text": "Epoch"
         }
        },
        "yaxis": {
         "anchor": "x",
         "domain": [
          0,
          1
         ],
         "range": [
          0.83,
          1
         ],
         "title": {
          "text": "Top-5 Accuracy"
         }
        }
       }
      }
     },
     "metadata": {},
     "output_type": "display_data"
    }
   ],
   "source": [
    "# Dermanet w/ BYOL: validation top-5 accuracy\n",
    "val_acc5_w = pd.read_csv('../outputs/results_data/dermanet_training_with_pretrain/dermanet_wbyol_val_acc5.csv')\n",
    "if 'Step' in val_acc5_w.columns:\n",
    "    val_acc5_w['Epoch'] = val_acc5_w['Step'] // 39.58\n",
    "fig = px.line(\n",
    "    val_acc5_w,\n",
    "    x='Epoch' if 'Epoch' in val_acc5_w.columns else val_acc5_w.index,\n",
    "    y='Value',\n",
    "    title='DermaNet w/ BYOL Validation Top-5 Accuracy',\n",
    "    labels={'Epoch': 'Epoch', 'Value': 'Top-5 Accuracy'},\n",
    "    color_discrete_sequence=[ACCENT3]\n",
    ")\n",
    "fig.update_layout(yaxis_range=[0.83, min(1, val_acc5_w['Value'].max()*1.05)], xaxis_range=[(val_acc5_w['Epoch'].min() - 1) if 'Epoch' in val_acc5_w.columns else None, (val_acc5_w['Epoch'].max() + 1) if 'Epoch' in val_acc5_w.columns else None], width=700, height=500)\n",
    "fig.write_image('imgs/dermanet_wbyol_val_acc5.png', scale=2)\n",
    "fig.show()"
   ]
  },
  {
   "cell_type": "code",
   "execution_count": 85,
   "id": "7f9518af",
   "metadata": {},
   "outputs": [
    {
     "data": {
      "application/vnd.plotly.v1+json": {
       "config": {
        "plotlyServerURL": "https://plot.ly"
       },
       "data": [
        {
         "hovertemplate": "Epoch=%{x}<br>AUROC=%{y}<extra></extra>",
         "legendgroup": "",
         "line": {
          "color": "#e76f51",
          "dash": "solid"
         },
         "marker": {
          "symbol": "circle"
         },
         "mode": "lines",
         "name": "",
         "orientation": "v",
         "showlegend": false,
         "type": "scatter",
         "x": {
          "bdata": "AAAAAAAAAAAAAAAAAADwPwAAAAAAAAhAAAAAAAAAEEAAAAAAAAAUQAAAAAAAABhAAAAAAAAAHEAAAAAAAAAgQAAAAAAAACJAAAAAAAAAJEAAAAAAAAAmQAAAAAAAAChAAAAAAAAAKkAAAAAAAAAsQAAAAAAAAC5AAAAAAAAAMEAAAAAAAAAxQAAAAAAAADJAAAAAAAAAM0AAAAAAAAA0QAAAAAAAADVAAAAAAAAANkAAAAAAAAA3QAAAAAAAADhAAAAAAAAAOUAAAAAAAAA6QAAAAAAAADtAAAAAAAAAPEAAAAAAAAA9QAAAAAAAAD5AAAAAAAAAP0AAAAAAAABAQAAAAAAAgEBAAAAAAAAAQUAAAAAAAIBBQAAAAAAAAEJAAAAAAACAQkAAAAAAAABDQAAAAAAAgENAAAAAAAAAREAAAAAAAIBEQAAAAAAAAEVAAAAAAACARUAAAAAAAABGQAAAAAAAgEZAAAAAAAAAR0AAAAAAAIBHQAAAAAAAAEhAAAAAAACASEAAAAAAAABJQAAAAAAAgElAAAAAAAAASkAAAAAAAIBKQAAAAAAAAEtAAAAAAACAS0AAAAAAAABMQAAAAAAAgExAAAAAAAAATUAAAAAAAIBNQAAAAAAAAE5AAAAAAACATkAAAAAAAABPQAAAAAAAgE9AAAAAAAAAUEAAAAAAAEBQQAAAAAAAgFBAAAAAAADAUEAAAAAAAABRQAAAAAAAQFFAAAAAAABAUUA=",
          "dtype": "f8"
         },
         "xaxis": "x",
         "y": {
          "bdata": "AAAAgEwO6T8AAADAonnqPwAAAKAHs+o/AAAA4ERL6z8AAABge3LrPwAAAMA9zes/AAAAYJcN7D8AAAAAwO7rPwAAAOCOSuw/AAAAAH9i7D8AAACA4XLsPwAAAIAifOw/AAAAQDwg7D8AAABAv7HsPwAAAECYrOw/AAAAgKuV7D8AAADABavsPwAAAEA0tew/AAAAgDyA7D8AAADAEsXsPwAAAOC7s+w/AAAAgMKI7D8BAADglP3sPwAAACC64Ow/AAAAQL9y7D8AAABAq8jsPwAAAMB0muw/AAAAwEWG7D8AAAAAycbsPwAAAIAavOw/AAAAQAv97D8AAADgRNrsPwAAAMDpruw/AAAAwJ707D8AAABAjaTsPwAAAOBMvuw/AAAAgFIX7T8AAADge77sPwAAAMAi2ew/AAAAQISe7D8AAAAA17rsPwAAAAAiwuw/AAAAYJ2c7D8AAACA8NHsPwAAAABiq+w/AAAAgBOz7D8AAAAgdKfsPwAAAKCotuw/AAAAYA7M7D8AAACgmcPsPwAAAGDi9ew/AAAAwP+q7D////+/nRHtP/////+p2uw/AAAAgC6v7D8AAAAgX5jsPwAAAOBov+w/AAAAAMCh7D8AAADAmLrsPwAAAMDrlew/AAAAYAOV7D8AAABAxIvsPwAAAABv0Ow/AAAAAGN87D8AAADAcavsPwAAAIC1cuw/AAAAIMdg7D8AAADgqZjsPwAAAIB7f+w/AAAAgFIX7T8=",
          "dtype": "f8"
         },
         "yaxis": "y"
        }
       ],
       "layout": {
        "height": 500,
        "legend": {
         "tracegroupgap": 0
        },
        "template": {
         "data": {
          "bar": [
           {
            "error_x": {
             "color": "#2a3f5f"
            },
            "error_y": {
             "color": "#2a3f5f"
            },
            "marker": {
             "line": {
              "color": "white",
              "width": 0.5
             },
             "pattern": {
              "fillmode": "overlay",
              "size": 10,
              "solidity": 0.2
             }
            },
            "type": "bar"
           }
          ],
          "barpolar": [
           {
            "marker": {
             "line": {
              "color": "white",
              "width": 0.5
             },
             "pattern": {
              "fillmode": "overlay",
              "size": 10,
              "solidity": 0.2
             }
            },
            "type": "barpolar"
           }
          ],
          "carpet": [
           {
            "aaxis": {
             "endlinecolor": "#2a3f5f",
             "gridcolor": "#C8D4E3",
             "linecolor": "#C8D4E3",
             "minorgridcolor": "#C8D4E3",
             "startlinecolor": "#2a3f5f"
            },
            "baxis": {
             "endlinecolor": "#2a3f5f",
             "gridcolor": "#C8D4E3",
             "linecolor": "#C8D4E3",
             "minorgridcolor": "#C8D4E3",
             "startlinecolor": "#2a3f5f"
            },
            "type": "carpet"
           }
          ],
          "choropleth": [
           {
            "colorbar": {
             "outlinewidth": 0,
             "ticks": ""
            },
            "type": "choropleth"
           }
          ],
          "contour": [
           {
            "colorbar": {
             "outlinewidth": 0,
             "ticks": ""
            },
            "colorscale": [
             [
              0,
              "#0d0887"
             ],
             [
              0.1111111111111111,
              "#46039f"
             ],
             [
              0.2222222222222222,
              "#7201a8"
             ],
             [
              0.3333333333333333,
              "#9c179e"
             ],
             [
              0.4444444444444444,
              "#bd3786"
             ],
             [
              0.5555555555555556,
              "#d8576b"
             ],
             [
              0.6666666666666666,
              "#ed7953"
             ],
             [
              0.7777777777777778,
              "#fb9f3a"
             ],
             [
              0.8888888888888888,
              "#fdca26"
             ],
             [
              1,
              "#f0f921"
             ]
            ],
            "type": "contour"
           }
          ],
          "contourcarpet": [
           {
            "colorbar": {
             "outlinewidth": 0,
             "ticks": ""
            },
            "type": "contourcarpet"
           }
          ],
          "heatmap": [
           {
            "colorbar": {
             "outlinewidth": 0,
             "ticks": ""
            },
            "colorscale": [
             [
              0,
              "#0d0887"
             ],
             [
              0.1111111111111111,
              "#46039f"
             ],
             [
              0.2222222222222222,
              "#7201a8"
             ],
             [
              0.3333333333333333,
              "#9c179e"
             ],
             [
              0.4444444444444444,
              "#bd3786"
             ],
             [
              0.5555555555555556,
              "#d8576b"
             ],
             [
              0.6666666666666666,
              "#ed7953"
             ],
             [
              0.7777777777777778,
              "#fb9f3a"
             ],
             [
              0.8888888888888888,
              "#fdca26"
             ],
             [
              1,
              "#f0f921"
             ]
            ],
            "type": "heatmap"
           }
          ],
          "histogram": [
           {
            "marker": {
             "pattern": {
              "fillmode": "overlay",
              "size": 10,
              "solidity": 0.2
             }
            },
            "type": "histogram"
           }
          ],
          "histogram2d": [
           {
            "colorbar": {
             "outlinewidth": 0,
             "ticks": ""
            },
            "colorscale": [
             [
              0,
              "#0d0887"
             ],
             [
              0.1111111111111111,
              "#46039f"
             ],
             [
              0.2222222222222222,
              "#7201a8"
             ],
             [
              0.3333333333333333,
              "#9c179e"
             ],
             [
              0.4444444444444444,
              "#bd3786"
             ],
             [
              0.5555555555555556,
              "#d8576b"
             ],
             [
              0.6666666666666666,
              "#ed7953"
             ],
             [
              0.7777777777777778,
              "#fb9f3a"
             ],
             [
              0.8888888888888888,
              "#fdca26"
             ],
             [
              1,
              "#f0f921"
             ]
            ],
            "type": "histogram2d"
           }
          ],
          "histogram2dcontour": [
           {
            "colorbar": {
             "outlinewidth": 0,
             "ticks": ""
            },
            "colorscale": [
             [
              0,
              "#0d0887"
             ],
             [
              0.1111111111111111,
              "#46039f"
             ],
             [
              0.2222222222222222,
              "#7201a8"
             ],
             [
              0.3333333333333333,
              "#9c179e"
             ],
             [
              0.4444444444444444,
              "#bd3786"
             ],
             [
              0.5555555555555556,
              "#d8576b"
             ],
             [
              0.6666666666666666,
              "#ed7953"
             ],
             [
              0.7777777777777778,
              "#fb9f3a"
             ],
             [
              0.8888888888888888,
              "#fdca26"
             ],
             [
              1,
              "#f0f921"
             ]
            ],
            "type": "histogram2dcontour"
           }
          ],
          "mesh3d": [
           {
            "colorbar": {
             "outlinewidth": 0,
             "ticks": ""
            },
            "type": "mesh3d"
           }
          ],
          "parcoords": [
           {
            "line": {
             "colorbar": {
              "outlinewidth": 0,
              "ticks": ""
             }
            },
            "type": "parcoords"
           }
          ],
          "pie": [
           {
            "automargin": true,
            "type": "pie"
           }
          ],
          "scatter": [
           {
            "fillpattern": {
             "fillmode": "overlay",
             "size": 10,
             "solidity": 0.2
            },
            "type": "scatter"
           }
          ],
          "scatter3d": [
           {
            "line": {
             "colorbar": {
              "outlinewidth": 0,
              "ticks": ""
             }
            },
            "marker": {
             "colorbar": {
              "outlinewidth": 0,
              "ticks": ""
             }
            },
            "type": "scatter3d"
           }
          ],
          "scattercarpet": [
           {
            "marker": {
             "colorbar": {
              "outlinewidth": 0,
              "ticks": ""
             }
            },
            "type": "scattercarpet"
           }
          ],
          "scattergeo": [
           {
            "marker": {
             "colorbar": {
              "outlinewidth": 0,
              "ticks": ""
             }
            },
            "type": "scattergeo"
           }
          ],
          "scattergl": [
           {
            "marker": {
             "colorbar": {
              "outlinewidth": 0,
              "ticks": ""
             }
            },
            "type": "scattergl"
           }
          ],
          "scattermap": [
           {
            "marker": {
             "colorbar": {
              "outlinewidth": 0,
              "ticks": ""
             }
            },
            "type": "scattermap"
           }
          ],
          "scattermapbox": [
           {
            "marker": {
             "colorbar": {
              "outlinewidth": 0,
              "ticks": ""
             }
            },
            "type": "scattermapbox"
           }
          ],
          "scatterpolar": [
           {
            "marker": {
             "colorbar": {
              "outlinewidth": 0,
              "ticks": ""
             }
            },
            "type": "scatterpolar"
           }
          ],
          "scatterpolargl": [
           {
            "marker": {
             "colorbar": {
              "outlinewidth": 0,
              "ticks": ""
             }
            },
            "type": "scatterpolargl"
           }
          ],
          "scatterternary": [
           {
            "marker": {
             "colorbar": {
              "outlinewidth": 0,
              "ticks": ""
             }
            },
            "type": "scatterternary"
           }
          ],
          "surface": [
           {
            "colorbar": {
             "outlinewidth": 0,
             "ticks": ""
            },
            "colorscale": [
             [
              0,
              "#0d0887"
             ],
             [
              0.1111111111111111,
              "#46039f"
             ],
             [
              0.2222222222222222,
              "#7201a8"
             ],
             [
              0.3333333333333333,
              "#9c179e"
             ],
             [
              0.4444444444444444,
              "#bd3786"
             ],
             [
              0.5555555555555556,
              "#d8576b"
             ],
             [
              0.6666666666666666,
              "#ed7953"
             ],
             [
              0.7777777777777778,
              "#fb9f3a"
             ],
             [
              0.8888888888888888,
              "#fdca26"
             ],
             [
              1,
              "#f0f921"
             ]
            ],
            "type": "surface"
           }
          ],
          "table": [
           {
            "cells": {
             "fill": {
              "color": "#EBF0F8"
             },
             "line": {
              "color": "white"
             }
            },
            "header": {
             "fill": {
              "color": "#C8D4E3"
             },
             "line": {
              "color": "white"
             }
            },
            "type": "table"
           }
          ]
         },
         "layout": {
          "annotationdefaults": {
           "arrowcolor": "#2a3f5f",
           "arrowhead": 0,
           "arrowwidth": 1
          },
          "autotypenumbers": "strict",
          "coloraxis": {
           "colorbar": {
            "outlinewidth": 0,
            "ticks": ""
           }
          },
          "colorscale": {
           "diverging": [
            [
             0,
             "#8e0152"
            ],
            [
             0.1,
             "#c51b7d"
            ],
            [
             0.2,
             "#de77ae"
            ],
            [
             0.3,
             "#f1b6da"
            ],
            [
             0.4,
             "#fde0ef"
            ],
            [
             0.5,
             "#f7f7f7"
            ],
            [
             0.6,
             "#e6f5d0"
            ],
            [
             0.7,
             "#b8e186"
            ],
            [
             0.8,
             "#7fbc41"
            ],
            [
             0.9,
             "#4d9221"
            ],
            [
             1,
             "#276419"
            ]
           ],
           "sequential": [
            [
             0,
             "#0d0887"
            ],
            [
             0.1111111111111111,
             "#46039f"
            ],
            [
             0.2222222222222222,
             "#7201a8"
            ],
            [
             0.3333333333333333,
             "#9c179e"
            ],
            [
             0.4444444444444444,
             "#bd3786"
            ],
            [
             0.5555555555555556,
             "#d8576b"
            ],
            [
             0.6666666666666666,
             "#ed7953"
            ],
            [
             0.7777777777777778,
             "#fb9f3a"
            ],
            [
             0.8888888888888888,
             "#fdca26"
            ],
            [
             1,
             "#f0f921"
            ]
           ],
           "sequentialminus": [
            [
             0,
             "#0d0887"
            ],
            [
             0.1111111111111111,
             "#46039f"
            ],
            [
             0.2222222222222222,
             "#7201a8"
            ],
            [
             0.3333333333333333,
             "#9c179e"
            ],
            [
             0.4444444444444444,
             "#bd3786"
            ],
            [
             0.5555555555555556,
             "#d8576b"
            ],
            [
             0.6666666666666666,
             "#ed7953"
            ],
            [
             0.7777777777777778,
             "#fb9f3a"
            ],
            [
             0.8888888888888888,
             "#fdca26"
            ],
            [
             1,
             "#f0f921"
            ]
           ]
          },
          "colorway": [
           "#36b7d2",
           "#e76f51",
           "#f6bb37",
           "#264653",
           "#f3b3b4",
           "#2a9d8f",
           "#8455cb",
           "#f4a261",
           "#e76f51",
           "#264653"
          ],
          "font": {
           "color": "#3A3A3A",
           "family": "Palatino, 'Palatino Linotype', 'Book Antiqua', serif"
          },
          "geo": {
           "bgcolor": "white",
           "lakecolor": "white",
           "landcolor": "white",
           "showlakes": true,
           "showland": true,
           "subunitcolor": "#C8D4E3"
          },
          "hoverlabel": {
           "align": "left"
          },
          "hovermode": "closest",
          "mapbox": {
           "style": "light"
          },
          "paper_bgcolor": "rgba(0,0,0,0)",
          "plot_bgcolor": "white",
          "polar": {
           "angularaxis": {
            "gridcolor": "#EBF0F8",
            "linecolor": "#EBF0F8",
            "ticks": ""
           },
           "bgcolor": "white",
           "radialaxis": {
            "gridcolor": "#EBF0F8",
            "linecolor": "#EBF0F8",
            "ticks": ""
           }
          },
          "scene": {
           "xaxis": {
            "backgroundcolor": "white",
            "gridcolor": "#DFE8F3",
            "gridwidth": 2,
            "linecolor": "#EBF0F8",
            "showbackground": true,
            "ticks": "",
            "zerolinecolor": "#EBF0F8"
           },
           "yaxis": {
            "backgroundcolor": "white",
            "gridcolor": "#DFE8F3",
            "gridwidth": 2,
            "linecolor": "#EBF0F8",
            "showbackground": true,
            "ticks": "",
            "zerolinecolor": "#EBF0F8"
           },
           "zaxis": {
            "backgroundcolor": "white",
            "gridcolor": "#DFE8F3",
            "gridwidth": 2,
            "linecolor": "#EBF0F8",
            "showbackground": true,
            "ticks": "",
            "zerolinecolor": "#EBF0F8"
           }
          },
          "shapedefaults": {
           "line": {
            "color": "#2a3f5f"
           }
          },
          "ternary": {
           "aaxis": {
            "gridcolor": "#DFE8F3",
            "linecolor": "#A2B1C6",
            "ticks": ""
           },
           "baxis": {
            "gridcolor": "#DFE8F3",
            "linecolor": "#A2B1C6",
            "ticks": ""
           },
           "bgcolor": "white",
           "caxis": {
            "gridcolor": "#DFE8F3",
            "linecolor": "#A2B1C6",
            "ticks": ""
           }
          },
          "title": {
           "x": 0.5,
           "xanchor": "center"
          },
          "xaxis": {
           "automargin": true,
           "gridcolor": "#EBF0F8",
           "linecolor": "#EBF0F8",
           "ticks": "",
           "title": {
            "standoff": 15
           },
           "zerolinecolor": "#EBF0F8",
           "zerolinewidth": 2
          },
          "yaxis": {
           "automargin": true,
           "gridcolor": "#EBF0F8",
           "linecolor": "#EBF0F8",
           "ticks": "",
           "title": {
            "standoff": 15
           },
           "zerolinecolor": "#EBF0F8",
           "zerolinewidth": 2
          }
         }
        },
        "title": {
         "text": "DermaNet w/ BYOL Validation AUROC"
        },
        "width": 700,
        "xaxis": {
         "anchor": "y",
         "domain": [
          0,
          1
         ],
         "range": [
          -1,
          70
         ],
         "title": {
          "text": "Epoch"
         }
        },
        "yaxis": {
         "anchor": "x",
         "domain": [
          0,
          1
         ],
         "range": [
          0.77,
          0.9545518040657044
         ],
         "title": {
          "text": "AUROC"
         }
        }
       }
      }
     },
     "metadata": {},
     "output_type": "display_data"
    }
   ],
   "source": [
    "# Dermanet w/ BYOL: validation AUROC\n",
    "val_auroc_w = pd.read_csv('../outputs/results_data/dermanet_training_with_pretrain/dermanet_wbyol_val_auroc.csv')\n",
    "if 'Step' in val_auroc_w.columns:\n",
    "    val_auroc_w['Epoch'] = val_auroc_w['Step'] // 39.58\n",
    "fig = px.line(\n",
    "    val_auroc_w,\n",
    "    x='Epoch' if 'Epoch' in val_auroc_w.columns else val_auroc_w.index,\n",
    "    y='Value',\n",
    "    title='DermaNet w/ BYOL Validation AUROC',\n",
    "    labels={'Epoch': 'Epoch', 'Value': 'AUROC'},\n",
    "    color_discrete_sequence=[ACCENT3]\n",
    ")\n",
    "fig.update_layout(yaxis_range=[0.77, min(1, val_auroc_w['Value'].max()*1.05)], xaxis_range=[(val_auroc_w['Epoch'].min() - 1) if 'Epoch' in val_auroc_w.columns else None, (val_auroc_w['Epoch'].max() + 1) if 'Epoch' in val_auroc_w.columns else None], width=700, height=500)\n",
    "fig.write_image('imgs/dermanet_wbyol_val_auroc.png', scale=2)\n",
    "fig.show()"
   ]
  },
  {
   "cell_type": "code",
   "execution_count": 86,
   "id": "031d3d58",
   "metadata": {},
   "outputs": [
    {
     "data": {
      "application/vnd.plotly.v1+json": {
       "config": {
        "plotlyServerURL": "https://plot.ly"
       },
       "data": [
        {
         "hovertemplate": "Epoch=%{x}<br>F1 Score=%{y}<extra></extra>",
         "legendgroup": "",
         "line": {
          "color": "#e76f51",
          "dash": "solid"
         },
         "marker": {
          "symbol": "circle"
         },
         "mode": "lines",
         "name": "",
         "orientation": "v",
         "showlegend": false,
         "type": "scatter",
         "x": {
          "bdata": "AAAAAAAAAAAAAAAAAADwPwAAAAAAAAhAAAAAAAAAEEAAAAAAAAAUQAAAAAAAABhAAAAAAAAAHEAAAAAAAAAgQAAAAAAAACJAAAAAAAAAJEAAAAAAAAAmQAAAAAAAAChAAAAAAAAAKkAAAAAAAAAsQAAAAAAAAC5AAAAAAAAAMEAAAAAAAAAxQAAAAAAAADJAAAAAAAAAM0AAAAAAAAA0QAAAAAAAADVAAAAAAAAANkAAAAAAAAA3QAAAAAAAADhAAAAAAAAAOUAAAAAAAAA6QAAAAAAAADtAAAAAAAAAPEAAAAAAAAA9QAAAAAAAAD5AAAAAAAAAP0AAAAAAAABAQAAAAAAAgEBAAAAAAAAAQUAAAAAAAIBBQAAAAAAAAEJAAAAAAACAQkAAAAAAAABDQAAAAAAAgENAAAAAAAAAREAAAAAAAIBEQAAAAAAAAEVAAAAAAACARUAAAAAAAABGQAAAAAAAgEZAAAAAAAAAR0AAAAAAAIBHQAAAAAAAAEhAAAAAAACASEAAAAAAAABJQAAAAAAAgElAAAAAAAAASkAAAAAAAIBKQAAAAAAAAEtAAAAAAACAS0AAAAAAAABMQAAAAAAAgExAAAAAAAAATUAAAAAAAIBNQAAAAAAAAE5AAAAAAACATkAAAAAAAABPQAAAAAAAgE9AAAAAAAAAUEAAAAAAAEBQQAAAAAAAgFBAAAAAAADAUEAAAAAAAABRQAAAAAAAQFFAAAAAAABAUUA=",
          "dtype": "f8"
         },
         "xaxis": "x",
         "y": {
          "bdata": "AAAAwKSJxz//////ZXTQP////x+bp9A/////n8ax0j//////YDTUP////9/MfdQ/////P7UU1D8AAAAgwXzWPwAAAEDczNY/////P/ek1z8AAABgGHTXPwAAAADNXNg/AAAAAHiH1j////+/Tv3ZP////7+K59g/////35Ca2j8AAABADkjaPwAAAADGKts/AAAAwK4U3D////8f3UjaPwAAAOC1FNw/AAAAgKkL3D8AAAAgvLDbPwAAAIDa29s/AAAAwHnb2z8AAADAdXrcPwAAACBDLd8/AAAAAPsf3T8AAACgWyDePwAAAIAnEdw/AAAAoDNR3j////8/ZhHeP////99izt0//////1Zx3j8AAAAAfGPeP////z8qi98/////PzH03j8AAABAXGbfPwAAAOBmi98/////P+Ys3z8AAABg0wngPwAAAOD8y98/////36HP3z8AAACAEGfgPwAAAACUtuA/AAAAIFeV4D////+/G6PfP////18wj98/AAAAoPEz4D8AAADA7evfPwAAAGAOG+A/AAAA4HRd4D8AAAAAVWvgPwAAAACqNOA/AAAAALxM4T8AAABAmLvgPwAAAAAuleA/AAAAwJIx4T8AAAAg0gfhPwAAAMB93OA/AAAAAFH84D8AAACgnVPhPwAAAOCEC+E/AAAAAHeG4T8AAACA407hPwAAAIAF5eA/AAAAADNO4T8AAACATbnhPwAAAEDIeuE/////PzH03j8=",
          "dtype": "f8"
         },
         "yaxis": "y"
        }
       ],
       "layout": {
        "height": 500,
        "legend": {
         "tracegroupgap": 0
        },
        "template": {
         "data": {
          "bar": [
           {
            "error_x": {
             "color": "#2a3f5f"
            },
            "error_y": {
             "color": "#2a3f5f"
            },
            "marker": {
             "line": {
              "color": "white",
              "width": 0.5
             },
             "pattern": {
              "fillmode": "overlay",
              "size": 10,
              "solidity": 0.2
             }
            },
            "type": "bar"
           }
          ],
          "barpolar": [
           {
            "marker": {
             "line": {
              "color": "white",
              "width": 0.5
             },
             "pattern": {
              "fillmode": "overlay",
              "size": 10,
              "solidity": 0.2
             }
            },
            "type": "barpolar"
           }
          ],
          "carpet": [
           {
            "aaxis": {
             "endlinecolor": "#2a3f5f",
             "gridcolor": "#C8D4E3",
             "linecolor": "#C8D4E3",
             "minorgridcolor": "#C8D4E3",
             "startlinecolor": "#2a3f5f"
            },
            "baxis": {
             "endlinecolor": "#2a3f5f",
             "gridcolor": "#C8D4E3",
             "linecolor": "#C8D4E3",
             "minorgridcolor": "#C8D4E3",
             "startlinecolor": "#2a3f5f"
            },
            "type": "carpet"
           }
          ],
          "choropleth": [
           {
            "colorbar": {
             "outlinewidth": 0,
             "ticks": ""
            },
            "type": "choropleth"
           }
          ],
          "contour": [
           {
            "colorbar": {
             "outlinewidth": 0,
             "ticks": ""
            },
            "colorscale": [
             [
              0,
              "#0d0887"
             ],
             [
              0.1111111111111111,
              "#46039f"
             ],
             [
              0.2222222222222222,
              "#7201a8"
             ],
             [
              0.3333333333333333,
              "#9c179e"
             ],
             [
              0.4444444444444444,
              "#bd3786"
             ],
             [
              0.5555555555555556,
              "#d8576b"
             ],
             [
              0.6666666666666666,
              "#ed7953"
             ],
             [
              0.7777777777777778,
              "#fb9f3a"
             ],
             [
              0.8888888888888888,
              "#fdca26"
             ],
             [
              1,
              "#f0f921"
             ]
            ],
            "type": "contour"
           }
          ],
          "contourcarpet": [
           {
            "colorbar": {
             "outlinewidth": 0,
             "ticks": ""
            },
            "type": "contourcarpet"
           }
          ],
          "heatmap": [
           {
            "colorbar": {
             "outlinewidth": 0,
             "ticks": ""
            },
            "colorscale": [
             [
              0,
              "#0d0887"
             ],
             [
              0.1111111111111111,
              "#46039f"
             ],
             [
              0.2222222222222222,
              "#7201a8"
             ],
             [
              0.3333333333333333,
              "#9c179e"
             ],
             [
              0.4444444444444444,
              "#bd3786"
             ],
             [
              0.5555555555555556,
              "#d8576b"
             ],
             [
              0.6666666666666666,
              "#ed7953"
             ],
             [
              0.7777777777777778,
              "#fb9f3a"
             ],
             [
              0.8888888888888888,
              "#fdca26"
             ],
             [
              1,
              "#f0f921"
             ]
            ],
            "type": "heatmap"
           }
          ],
          "histogram": [
           {
            "marker": {
             "pattern": {
              "fillmode": "overlay",
              "size": 10,
              "solidity": 0.2
             }
            },
            "type": "histogram"
           }
          ],
          "histogram2d": [
           {
            "colorbar": {
             "outlinewidth": 0,
             "ticks": ""
            },
            "colorscale": [
             [
              0,
              "#0d0887"
             ],
             [
              0.1111111111111111,
              "#46039f"
             ],
             [
              0.2222222222222222,
              "#7201a8"
             ],
             [
              0.3333333333333333,
              "#9c179e"
             ],
             [
              0.4444444444444444,
              "#bd3786"
             ],
             [
              0.5555555555555556,
              "#d8576b"
             ],
             [
              0.6666666666666666,
              "#ed7953"
             ],
             [
              0.7777777777777778,
              "#fb9f3a"
             ],
             [
              0.8888888888888888,
              "#fdca26"
             ],
             [
              1,
              "#f0f921"
             ]
            ],
            "type": "histogram2d"
           }
          ],
          "histogram2dcontour": [
           {
            "colorbar": {
             "outlinewidth": 0,
             "ticks": ""
            },
            "colorscale": [
             [
              0,
              "#0d0887"
             ],
             [
              0.1111111111111111,
              "#46039f"
             ],
             [
              0.2222222222222222,
              "#7201a8"
             ],
             [
              0.3333333333333333,
              "#9c179e"
             ],
             [
              0.4444444444444444,
              "#bd3786"
             ],
             [
              0.5555555555555556,
              "#d8576b"
             ],
             [
              0.6666666666666666,
              "#ed7953"
             ],
             [
              0.7777777777777778,
              "#fb9f3a"
             ],
             [
              0.8888888888888888,
              "#fdca26"
             ],
             [
              1,
              "#f0f921"
             ]
            ],
            "type": "histogram2dcontour"
           }
          ],
          "mesh3d": [
           {
            "colorbar": {
             "outlinewidth": 0,
             "ticks": ""
            },
            "type": "mesh3d"
           }
          ],
          "parcoords": [
           {
            "line": {
             "colorbar": {
              "outlinewidth": 0,
              "ticks": ""
             }
            },
            "type": "parcoords"
           }
          ],
          "pie": [
           {
            "automargin": true,
            "type": "pie"
           }
          ],
          "scatter": [
           {
            "fillpattern": {
             "fillmode": "overlay",
             "size": 10,
             "solidity": 0.2
            },
            "type": "scatter"
           }
          ],
          "scatter3d": [
           {
            "line": {
             "colorbar": {
              "outlinewidth": 0,
              "ticks": ""
             }
            },
            "marker": {
             "colorbar": {
              "outlinewidth": 0,
              "ticks": ""
             }
            },
            "type": "scatter3d"
           }
          ],
          "scattercarpet": [
           {
            "marker": {
             "colorbar": {
              "outlinewidth": 0,
              "ticks": ""
             }
            },
            "type": "scattercarpet"
           }
          ],
          "scattergeo": [
           {
            "marker": {
             "colorbar": {
              "outlinewidth": 0,
              "ticks": ""
             }
            },
            "type": "scattergeo"
           }
          ],
          "scattergl": [
           {
            "marker": {
             "colorbar": {
              "outlinewidth": 0,
              "ticks": ""
             }
            },
            "type": "scattergl"
           }
          ],
          "scattermap": [
           {
            "marker": {
             "colorbar": {
              "outlinewidth": 0,
              "ticks": ""
             }
            },
            "type": "scattermap"
           }
          ],
          "scattermapbox": [
           {
            "marker": {
             "colorbar": {
              "outlinewidth": 0,
              "ticks": ""
             }
            },
            "type": "scattermapbox"
           }
          ],
          "scatterpolar": [
           {
            "marker": {
             "colorbar": {
              "outlinewidth": 0,
              "ticks": ""
             }
            },
            "type": "scatterpolar"
           }
          ],
          "scatterpolargl": [
           {
            "marker": {
             "colorbar": {
              "outlinewidth": 0,
              "ticks": ""
             }
            },
            "type": "scatterpolargl"
           }
          ],
          "scatterternary": [
           {
            "marker": {
             "colorbar": {
              "outlinewidth": 0,
              "ticks": ""
             }
            },
            "type": "scatterternary"
           }
          ],
          "surface": [
           {
            "colorbar": {
             "outlinewidth": 0,
             "ticks": ""
            },
            "colorscale": [
             [
              0,
              "#0d0887"
             ],
             [
              0.1111111111111111,
              "#46039f"
             ],
             [
              0.2222222222222222,
              "#7201a8"
             ],
             [
              0.3333333333333333,
              "#9c179e"
             ],
             [
              0.4444444444444444,
              "#bd3786"
             ],
             [
              0.5555555555555556,
              "#d8576b"
             ],
             [
              0.6666666666666666,
              "#ed7953"
             ],
             [
              0.7777777777777778,
              "#fb9f3a"
             ],
             [
              0.8888888888888888,
              "#fdca26"
             ],
             [
              1,
              "#f0f921"
             ]
            ],
            "type": "surface"
           }
          ],
          "table": [
           {
            "cells": {
             "fill": {
              "color": "#EBF0F8"
             },
             "line": {
              "color": "white"
             }
            },
            "header": {
             "fill": {
              "color": "#C8D4E3"
             },
             "line": {
              "color": "white"
             }
            },
            "type": "table"
           }
          ]
         },
         "layout": {
          "annotationdefaults": {
           "arrowcolor": "#2a3f5f",
           "arrowhead": 0,
           "arrowwidth": 1
          },
          "autotypenumbers": "strict",
          "coloraxis": {
           "colorbar": {
            "outlinewidth": 0,
            "ticks": ""
           }
          },
          "colorscale": {
           "diverging": [
            [
             0,
             "#8e0152"
            ],
            [
             0.1,
             "#c51b7d"
            ],
            [
             0.2,
             "#de77ae"
            ],
            [
             0.3,
             "#f1b6da"
            ],
            [
             0.4,
             "#fde0ef"
            ],
            [
             0.5,
             "#f7f7f7"
            ],
            [
             0.6,
             "#e6f5d0"
            ],
            [
             0.7,
             "#b8e186"
            ],
            [
             0.8,
             "#7fbc41"
            ],
            [
             0.9,
             "#4d9221"
            ],
            [
             1,
             "#276419"
            ]
           ],
           "sequential": [
            [
             0,
             "#0d0887"
            ],
            [
             0.1111111111111111,
             "#46039f"
            ],
            [
             0.2222222222222222,
             "#7201a8"
            ],
            [
             0.3333333333333333,
             "#9c179e"
            ],
            [
             0.4444444444444444,
             "#bd3786"
            ],
            [
             0.5555555555555556,
             "#d8576b"
            ],
            [
             0.6666666666666666,
             "#ed7953"
            ],
            [
             0.7777777777777778,
             "#fb9f3a"
            ],
            [
             0.8888888888888888,
             "#fdca26"
            ],
            [
             1,
             "#f0f921"
            ]
           ],
           "sequentialminus": [
            [
             0,
             "#0d0887"
            ],
            [
             0.1111111111111111,
             "#46039f"
            ],
            [
             0.2222222222222222,
             "#7201a8"
            ],
            [
             0.3333333333333333,
             "#9c179e"
            ],
            [
             0.4444444444444444,
             "#bd3786"
            ],
            [
             0.5555555555555556,
             "#d8576b"
            ],
            [
             0.6666666666666666,
             "#ed7953"
            ],
            [
             0.7777777777777778,
             "#fb9f3a"
            ],
            [
             0.8888888888888888,
             "#fdca26"
            ],
            [
             1,
             "#f0f921"
            ]
           ]
          },
          "colorway": [
           "#36b7d2",
           "#e76f51",
           "#f6bb37",
           "#264653",
           "#f3b3b4",
           "#2a9d8f",
           "#8455cb",
           "#f4a261",
           "#e76f51",
           "#264653"
          ],
          "font": {
           "color": "#3A3A3A",
           "family": "Palatino, 'Palatino Linotype', 'Book Antiqua', serif"
          },
          "geo": {
           "bgcolor": "white",
           "lakecolor": "white",
           "landcolor": "white",
           "showlakes": true,
           "showland": true,
           "subunitcolor": "#C8D4E3"
          },
          "hoverlabel": {
           "align": "left"
          },
          "hovermode": "closest",
          "mapbox": {
           "style": "light"
          },
          "paper_bgcolor": "rgba(0,0,0,0)",
          "plot_bgcolor": "white",
          "polar": {
           "angularaxis": {
            "gridcolor": "#EBF0F8",
            "linecolor": "#EBF0F8",
            "ticks": ""
           },
           "bgcolor": "white",
           "radialaxis": {
            "gridcolor": "#EBF0F8",
            "linecolor": "#EBF0F8",
            "ticks": ""
           }
          },
          "scene": {
           "xaxis": {
            "backgroundcolor": "white",
            "gridcolor": "#DFE8F3",
            "gridwidth": 2,
            "linecolor": "#EBF0F8",
            "showbackground": true,
            "ticks": "",
            "zerolinecolor": "#EBF0F8"
           },
           "yaxis": {
            "backgroundcolor": "white",
            "gridcolor": "#DFE8F3",
            "gridwidth": 2,
            "linecolor": "#EBF0F8",
            "showbackground": true,
            "ticks": "",
            "zerolinecolor": "#EBF0F8"
           },
           "zaxis": {
            "backgroundcolor": "white",
            "gridcolor": "#DFE8F3",
            "gridwidth": 2,
            "linecolor": "#EBF0F8",
            "showbackground": true,
            "ticks": "",
            "zerolinecolor": "#EBF0F8"
           }
          },
          "shapedefaults": {
           "line": {
            "color": "#2a3f5f"
           }
          },
          "ternary": {
           "aaxis": {
            "gridcolor": "#DFE8F3",
            "linecolor": "#A2B1C6",
            "ticks": ""
           },
           "baxis": {
            "gridcolor": "#DFE8F3",
            "linecolor": "#A2B1C6",
            "ticks": ""
           },
           "bgcolor": "white",
           "caxis": {
            "gridcolor": "#DFE8F3",
            "linecolor": "#A2B1C6",
            "ticks": ""
           }
          },
          "title": {
           "x": 0.5,
           "xanchor": "center"
          },
          "xaxis": {
           "automargin": true,
           "gridcolor": "#EBF0F8",
           "linecolor": "#EBF0F8",
           "ticks": "",
           "title": {
            "standoff": 15
           },
           "zerolinecolor": "#EBF0F8",
           "zerolinewidth": 2
          },
          "yaxis": {
           "automargin": true,
           "gridcolor": "#EBF0F8",
           "linecolor": "#EBF0F8",
           "ticks": "",
           "title": {
            "standoff": 15
           },
           "zerolinecolor": "#EBF0F8",
           "zerolinewidth": 2
          }
         }
        },
        "title": {
         "text": "DermaNet w/ BYOL Validation F1 Score"
        },
        "width": 700,
        "xaxis": {
         "anchor": "y",
         "domain": [
          0,
          1
         ],
         "range": [
          -1,
          70
         ],
         "title": {
          "text": "Epoch"
         }
        },
        "yaxis": {
         "anchor": "x",
         "domain": [
          0,
          1
         ],
         "range": [
          0.17469364553689956,
          0.5815634608268738
         ],
         "title": {
          "text": "F1 Score"
         }
        }
       }
      }
     },
     "metadata": {},
     "output_type": "display_data"
    }
   ],
   "source": [
    "# Dermanet w/ BYOL: validation F1\n",
    "val_f1_w = pd.read_csv('../outputs/results_data/dermanet_training_with_pretrain/dermanet_wbyol_val_f1.csv')\n",
    "if 'Step' in val_f1_w.columns:\n",
    "    val_f1_w['Epoch'] = val_f1_w['Step'] // 39.58\n",
    "fig = px.line(\n",
    "    val_f1_w,\n",
    "    x='Epoch' if 'Epoch' in val_f1_w.columns else val_f1_w.index,\n",
    "    y='Value',\n",
    "    title='DermaNet w/ BYOL Validation F1 Score',\n",
    "    labels={'Epoch': 'Epoch', 'Value': 'F1 Score'},\n",
    "    color_discrete_sequence=[ACCENT3]\n",
    ")\n",
    "fig.update_layout(yaxis_range=[max(0, val_f1_w['Value'].min()*0.95), min(1, val_f1_w['Value'].max()*1.05)], xaxis_range=[(val_f1_w['Epoch'].min() - 1) if 'Epoch' in val_f1_w.columns else None, (val_f1_w['Epoch'].max() + 1) if 'Epoch' in val_f1_w.columns else None], width=700, height=500)\n",
    "fig.write_image('imgs/dermanet_wbyol_val_f1.png', scale=2)\n",
    "fig.show()"
   ]
  }
 ],
 "metadata": {
  "kernelspec": {
   "display_name": "skinmoles",
   "language": "python",
   "name": "python3"
  },
  "language_info": {
   "codemirror_mode": {
    "name": "ipython",
    "version": 3
   },
   "file_extension": ".py",
   "mimetype": "text/x-python",
   "name": "python",
   "nbconvert_exporter": "python",
   "pygments_lexer": "ipython3",
   "version": "3.13.5"
  }
 },
 "nbformat": 4,
 "nbformat_minor": 5
}
